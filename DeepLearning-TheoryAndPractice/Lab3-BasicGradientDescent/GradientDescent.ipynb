{
 "cells": [
  {
   "cell_type": "code",
   "execution_count": 17,
   "metadata": {
    "collapsed": false
   },
   "outputs": [
    {
     "data": {
      "image/png": "[encoded data removed]",
      "text/plain": [
       "<matplotlib.figure.Figure at 0x11524d590>"
      ]
     },
     "metadata": {},
     "output_type": "display_data"
    },
    {
     "data": {
      "image/png": "[encoded data removed]",
      "text/plain": [
       "<matplotlib.figure.Figure at 0x115583f90>"
      ]
     },
     "metadata": {},
     "output_type": "display_data"
    }
   ],
   "source": [
    "%matplotlib inline\n",
    "\n",
    "import matplotlib.pyplot as plt\n",
    "import numpy as np\n",
    "\n",
    "\n",
    "\n",
    "# =============================================\n",
    "#\n",
    "# load cifar-10-small and project down\n",
    "#\n",
    " \n",
    "def unpickle( file ):\n",
    "    import cPickle\n",
    "    fo = open(file, 'rb')\n",
    "    dict = cPickle.load(fo)\n",
    "    fo.close()\n",
    "    return dict\n",
    " \n",
    "def L_i_logSoftMaxLoss(weights, features, labels):\n",
    "    #score are 10 x 1000\n",
    "    scores = weights.dot(features.T)\n",
    "    exp = np.exp(scores)\n",
    "    \n",
    "    maxes = exp.argmax(axis=0)\n",
    "    \n",
    "    normalize = exp / np.exp(scores).sum(axis=0)\n",
    "    #losses are 10 x 1000\n",
    "    losses = -np.log10(normalize)\n",
    "    \n",
    "    #find accuracy for finding max\n",
    "    substractions = labels.flatten() - maxes\n",
    "    accuracy = ((1000-np.count_nonzero(substractions))/1000.0)*100\n",
    "    #print accuracy\n",
    "    \n",
    "    hotVector = np.eye(10)[labels.flatten()]\n",
    "    probabilities = hotVector * losses.T\n",
    "    probabilities = probabilities.sum(axis=1)\n",
    "    loss = probabilities.mean()\n",
    "    return loss, accuracy\n",
    "    \n",
    "\n",
    "\n",
    "def numerical_gradient( lossfunction, weights, features, labels):\n",
    "    loss, accuracy = lossfunction(weights, features, labels)\n",
    "    delta = 0.0001\n",
    "    \n",
    "    gradient = np.zeros((10, 11))\n",
    "    \n",
    "    for row in range(0, 10):\n",
    "        for col in range(0, 11):\n",
    "            original_weight = weights[row][col]\n",
    "            weights[row][col] = weights[row][col] + delta\n",
    "            lossForChange, acc = lossfunction(weights, features, labels)\n",
    "            gradient[row][col] = (lossForChange - loss) / delta\n",
    "            #change back to original weight\n",
    "            weights[row][col] = original_weight\n",
    "           \n",
    "                      \n",
    "            \n",
    "    return loss,gradient,accuracy\n",
    " \n",
    "data = unpickle( 'cifar-10-batches-py/data_batch_1' )\n",
    " \n",
    "features = data['data']\n",
    "labels = data['labels']\n",
    "labels = np.atleast_2d( labels ).T\n",
    " \n",
    "N = 1000\n",
    "D = 10\n",
    " \n",
    "# only keep N items\n",
    "features = features[ 0:N, : ] \n",
    "labels = labels[ 0:N, : ]\n",
    "\n",
    "# project down into a D-dimensional space\n",
    "features = np.dot( features, np.random.randn( 3072, D) )\n",
    " \n",
    "# whiten our data - zero mean and unit standard deviation\n",
    "features = (features - np.mean(features, axis=0)) / np.std(features, axis=0)\n",
    "features = np.append(features, np.ones([len(features), 1]), 1)\n",
    "\n",
    "\n",
    "rows = 10\n",
    "cols = 11\n",
    "weights = (np.random.rand(rows, cols) *0.1-0.01)\n",
    "\n",
    "\n",
    "NUM_EPOCHS = 1000\n",
    "step_size = 0.1\n",
    "loss =[]\n",
    "accuracies = []\n",
    "for i in range(0,NUM_EPOCHS):\n",
    "    loss_function_value, grad, accuracy = numerical_gradient( L_i_logSoftMaxLoss, weights, features, labels)\n",
    "    loss.append(loss_function_value)\n",
    "    accuracies.append(accuracy)\n",
    "    weights = weights - step_size * grad\n",
    "\n",
    "    \n",
    "listOfIterations = range(1, 1001)\n",
    "#print listOfIterations\n",
    "#print loss\n",
    "plt.xlabel(\"Epochs (Iterations)\")\n",
    "plt.ylabel(\"Cost Function (SoftMax)\")\n",
    "plt.plot(listOfIterations, loss)\n",
    "plt.show()\n",
    "\n",
    "plt.xlabel(\"Epochs (Iterations)\")\n",
    "plt.ylabel(\"Accuracy (%)\")\n",
    "plt.plot(listOfIterations, accuracies)\n",
    "plt.show()\n",
    "\n",
    "\n",
    "\n",
    "\n",
    "\n",
    "\n",
    "\n",
    "\n"
   ]
  },
  {
   "cell_type": "code",
   "execution_count": null,
   "metadata": {
    "collapsed": true
   },
   "outputs": [],
   "source": []
  }
 ],
 "metadata": {
  "anaconda-cloud": {},
  "kernelspec": {
   "display_name": "Python [Root]",
   "language": "python",
   "name": "Python [Root]"
  },
  "language_info": {
   "codemirror_mode": {
    "name": "ipython",
    "version": 2
   },
   "file_extension": ".py",
   "mimetype": "text/x-python",
   "name": "python",
   "nbconvert_exporter": "python",
   "pygments_lexer": "ipython2",
   "version": "2.7.12"
  }
 },
 "nbformat": 4,
 "nbformat_minor": 0
}
