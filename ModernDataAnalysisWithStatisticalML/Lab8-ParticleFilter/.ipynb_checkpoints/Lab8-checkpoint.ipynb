{
 "cells": [
  {
   "cell_type": "code",
   "execution_count": 1,
   "metadata": {
    "collapsed": false
   },
   "outputs": [],
   "source": [
    "%matplotlib inline\n",
    "import scipy.io\n",
    "from lab8_common import *\n",
    "from pyqtgraph.Qt import QtGui, QtCore\n",
    "import pyqtgraph as pg\n",
    "import matplotlib.pyplot as plt\n",
    "import random\n",
    "import math\n",
    "PI = math.pi"
   ]
  },
  {
   "cell_type": "markdown",
   "metadata": {},
   "source": [
    "### Load Data"
   ]
  },
  {
   "cell_type": "code",
   "execution_count": 2,
   "metadata": {
    "collapsed": true
   },
   "outputs": [],
   "source": [
    "data_mat = scipy.io.loadmat('sensors.mat')\n",
    "#Observations (actual noisy data)\n",
    "observations = data_mat['sonars']\n",
    "true_states = data_mat['true_states']"
   ]
  },
  {
   "cell_type": "markdown",
   "metadata": {},
   "source": [
    "### Functions - Init, Propose, Likelihood, Resample "
   ]
  },
  {
   "cell_type": "code",
   "execution_count": 3,
   "metadata": {
    "collapsed": false
   },
   "outputs": [],
   "source": [
    "def InitParticles(N):\n",
    "    # return N weights with equal weights that sum to 1\n",
    "    x = [random.random() for _ in range(0, N)]\n",
    "    y = [random.random() for _ in range(0, N)]\n",
    "    angle = np.random.uniform(0,2*PI, N)\n",
    "    \n",
    "    #particles 3 x N\n",
    "    particles = np.ones((3,N))\n",
    "    particles[0,:] = x\n",
    "    particles[1,:] = y\n",
    "    particles[2,:] = angle\n",
    "    return particles\n",
    "\n",
    "def Propose(samples):\n",
    "    cov = [[.001, 0, 0], [0, .001, 0], [0, 0, .04]]\n",
    "    mean = [0, 0, 0]\n",
    "    \n",
    "    step = np.random.multivariate_normal(mean, cov, N).T\n",
    "    samples += step\n",
    "    \n",
    "    # clip new states to stay in map (between 0 and 1 values)\n",
    "    samples[:2,:] = np.clip(samples[:2,:], 0, 1)\n",
    "    return samples\n",
    "\n",
    "def Resample(weights, particles, N):\n",
    "    #Get new particles\n",
    "    indices = np.random.choice([i for i in range(N)], p=weights[:,0], size=N)\n",
    "    samples = particles[:,indices]\n",
    "    \n",
    "    #Forward Vector --> moved to propose step\n",
    "    #samples[2,:] = np.random.uniform(0, 2*PI, N)\n",
    "    return samples\n",
    "\n",
    "def Laplacian(observations, particle_sensor_data, N):\n",
    "    sigma = 1.0 / .026\n",
    "    diff = np.absolute(observations - particle_sensor_data) #(10000,N)\n",
    "    likelihood = np.exp(-1 * sigma * np.sum(diff, axis = 0))\n",
    "    return likelihood.reshape(N,1)\n"
   ]
  },
  {
   "cell_type": "markdown",
   "metadata": {},
   "source": [
    "#### Setup"
   ]
  },
  {
   "cell_type": "code",
   "execution_count": 4,
   "metadata": {
    "collapsed": false
   },
   "outputs": [],
   "source": [
    "N = 10000\n",
    "weights = np.full((N, 1), (1.0/N))\n",
    "room_map = create_map()\n",
    "particles = InitParticles(N)"
   ]
  },
  {
   "cell_type": "markdown",
   "metadata": {},
   "source": [
    "### Start Viewing Application"
   ]
  },
  {
   "cell_type": "code",
   "execution_count": null,
   "metadata": {
    "collapsed": true
   },
   "outputs": [],
   "source": [
    "app = QtGui.QApplication( [] )\n",
    "win = pg.GraphicsWindow( title=\"Particle filter\" )\n",
    "win.resize( 600, 600 )\n",
    "win.setWindowTitle( 'Particle filter' )\n",
    "pg.setConfigOptions( antialias=True )\n",
    " \n",
    "p3 = win.addPlot( title=\"Room map\" )\n",
    "\n",
    "for i in range( 0, room_map.shape[0] ):\n",
    "    p3.plot( [room_map[i,0], room_map[i,2]], [room_map[i,1], room_map[i,3]] )\n",
    "p3.setXRange( -0.1, 1.1 )\n",
    "p3.setYRange( -0.1, 1.1 ) \n",
    "\n",
    "pg.QtGui.QApplication.processEvents()\n",
    "\n",
    "ts_plot=None\n",
    "ex_plot=None"
   ]
  },
  {
   "cell_type": "markdown",
   "metadata": {},
   "source": [
    "## Run Particle Filter"
   ]
  },
  {
   "cell_type": "code",
   "execution_count": null,
   "metadata": {
    "collapsed": false
   },
   "outputs": [
    {
     "name": "stderr",
     "output_type": "stream",
     "text": [
      "/Users/Iris/anaconda/lib/python2.7/site-packages/pyqtgraph/graphicsItems/ScatterPlotItem.py:186: VisibleDeprecationWarning: using a non-integer number instead of an integer will result in an error in the future\n",
      "  self.atlasData[x:x+w, y:y+h] = rendered[key]\n"
     ]
    },
    {
     "name": "stdout",
     "output_type": "stream",
     "text": [
      "time: 0\n"
     ]
    },
    {
     "name": "stderr",
     "output_type": "stream",
     "text": [
      "/Users/Iris/anaconda/lib/python2.7/site-packages/pyqtgraph/graphicsItems/ScatterPlotItem.py:148: VisibleDeprecationWarning: using a non-integer number instead of an integer will result in an error in the future\n",
      "  arr = self.atlasData[x:x+w, y:y+w]\n",
      "/Users/Iris/anaconda/lib/python2.7/site-packages/pyqtgraph/graphicsItems/ScatterPlotItem.py:183: VisibleDeprecationWarning: using a non-integer number instead of an integer will result in an error in the future\n",
      "  self.atlasData = np.zeros((width, height, 4), dtype=np.ubyte)\n"
     ]
    },
    {
     "name": "stdout",
     "output_type": "stream",
     "text": [
      "time: 1\n",
      "time: 2\n",
      "time: 3\n",
      "time: 4\n",
      "time: 5\n",
      "time: 6\n",
      "time: 7\n",
      "time: 8\n",
      "time: 9\n",
      "time: 10\n",
      "time: 11\n",
      "time: 12\n",
      "time: 13\n",
      "time: 14\n",
      "time: 15\n",
      "time: 16\n",
      "time: 17\n",
      "time: 18\n",
      "time: 19\n",
      "time: 20\n",
      "time: 21\n",
      "time: 22\n",
      "time: 23\n",
      "time: 24\n",
      "time: 25\n",
      "time: 26\n",
      "time: 27\n",
      "time: 28\n",
      "time: 29\n",
      "time: 30\n",
      "time: 31\n",
      "time: 32\n",
      "time: 33\n",
      "time: 34\n",
      "time: 35\n",
      "time: 36\n",
      "time: 37\n",
      "time: 38\n",
      "time: 39\n",
      "time: 40\n",
      "time: 41\n",
      "time: 42\n",
      "time: 43\n",
      "time: 44\n",
      "time: 45\n",
      "time: 46\n",
      "time: 47\n",
      "time: 48\n",
      "time: 49\n",
      "time: 50\n",
      "time: 51\n",
      "time: 52\n",
      "time: 53\n",
      "time: 54\n",
      "time: 55\n",
      "time: 56\n",
      "time: 57\n",
      "time: 58\n",
      "time: 59\n",
      "time: 60\n",
      "time: 61\n",
      "time: 62\n",
      "time: 63\n",
      "time: 64\n",
      "time: 65\n",
      "time: 66\n",
      "time: 67\n",
      "time: 68\n",
      "time: 69\n",
      "time: 70\n",
      "time: 71\n",
      "time: 72\n",
      "time: 73\n",
      "time: 74\n",
      "time: 75\n",
      "time: 76\n",
      "time: 77\n",
      "time: 78\n",
      "time: 79\n",
      "time: 80\n",
      "time: 81\n",
      "time: 82\n",
      "time: 83\n",
      "time: 84\n",
      "time: 85\n",
      "time: 86\n",
      "time: 87\n",
      "time: 88\n",
      "time: 89\n",
      "time: 90\n",
      "time: 91\n",
      "time: 92\n",
      "time: 93\n",
      "time: 94\n",
      "time: 95\n",
      "time: 96\n",
      "time: 97\n",
      "time: 98\n",
      "time: 99\n",
      "time: 100\n",
      "time: 101\n",
      "time: 102\n",
      "time: 103\n",
      "time: 104\n",
      "time: 105\n",
      "time: 106\n",
      "time: 107\n",
      "time: 108\n",
      "time: 109\n",
      "time: 110\n",
      "time: 111\n",
      "time: 112\n",
      "time: 113\n",
      "time: 114\n",
      "time: 115\n",
      "time: 116\n",
      "time: 117\n",
      "time: 118\n"
     ]
    }
   ],
   "source": [
    "samples = particles\n",
    "num_observations = observations.shape[1]\n",
    "exs = np.zeros((3,num_observations))\n",
    "for t in xrange(num_observations):\n",
    "    #Propose\n",
    "    samples = Propose(samples)\n",
    "    \n",
    "    #Expectation path\n",
    "    exs[:,t] = np.mean(samples, axis=1)\n",
    "\n",
    "    #Observations for Particles (Nx11)\n",
    "    particle_sensor_data = cast_rays( samples, room_map )\n",
    "    \n",
    "    #Get Likelihoods (Nx1)\n",
    "    likelihoods = Laplacian(observations[:,t:t+1], particle_sensor_data.T, N)\n",
    "    \n",
    "    #Update Weights using Likelihoods (Nx1)\n",
    "    weights *= likelihoods\n",
    "\n",
    "    #Normalize weights\n",
    "    norm = np.sum(weights)\n",
    "    weights /= float(norm)\n",
    "\n",
    "    #Resample (3xN)\n",
    "    samples = Resample(weights, samples, N)\n",
    "    \n",
    "    #Reset weights\n",
    "    weights = np.full((N, 1), (1.0/N))\n",
    "    \n",
    "    #Plot Samples\n",
    "    if ts_plot == None: \n",
    "        ts_plot = p3.plot( true_states[0,0:t+1], true_states[1,0:t+1], pen=(0,0,255) )\n",
    "        ex_plot = p3.plot( exs[0,0:t+1], exs[1,0:t+1], pen=(0,255,0) )\n",
    "        pts = p3.scatterPlot( samples[0,:], samples[1,:], symbol='o', size=1, pen=(255,100,100) )\n",
    "    else:\n",
    "        ts_plot.setData( true_states[0,0:t+1], true_states[1,0:t+1] )\n",
    "        ex_plot.setData( exs[0,0:t+1], exs[1,0:t+1] )\n",
    "        pts.setData( samples[0,:], samples[1,:] )\n",
    "    \n",
    "    pg.QtGui.QApplication.processEvents()"
   ]
  },
  {
   "cell_type": "markdown",
   "metadata": {},
   "source": [
    "# Final Frame\n",
    "\n",
    "### Since the application runs outside of ipython notebook, here's a snaphot of the final image. You're welcome to run it all agian. This is stochastic, so it might not end up in the identical frame. "
   ]
  },
  {
   "cell_type": "code",
   "execution_count": null,
   "metadata": {
    "collapsed": false
   },
   "outputs": [],
   "source": [
    "from IPython.display import Image \n",
    "Image(filename='final_snap_shot.png')"
   ]
  },
  {
   "cell_type": "code",
   "execution_count": null,
   "metadata": {
    "collapsed": true
   },
   "outputs": [],
   "source": []
  }
 ],
 "metadata": {
  "anaconda-cloud": {},
  "kernelspec": {
   "display_name": "Python [conda root]",
   "language": "python",
   "name": "conda-root-py"
  },
  "language_info": {
   "codemirror_mode": {
    "name": "ipython",
    "version": 2
   },
   "file_extension": ".py",
   "mimetype": "text/x-python",
   "name": "python",
   "nbconvert_exporter": "python",
   "pygments_lexer": "ipython2",
   "version": "2.7.12"
  }
 },
 "nbformat": 4,
 "nbformat_minor": 1
}
