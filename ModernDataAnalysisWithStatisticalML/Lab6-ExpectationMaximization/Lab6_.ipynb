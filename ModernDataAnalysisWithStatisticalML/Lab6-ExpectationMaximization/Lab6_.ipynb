{
 "cells": [
  {
   "cell_type": "code",
   "execution_count": 1,
   "metadata": {
    "collapsed": false
   },
   "outputs": [],
   "source": [
    "%matplotlib inline\n",
    "# these two lines allow you to control the figure size\n",
    "# %pylab inline\n",
    "# pylab.rcParams['figure.figsize'] = (2.0, 2.0)\n",
    "import numpy as np\n",
    "import pandas\n",
    "from IPython.display import Image as display\n",
    "import matplotlib.pyplot as plt\n",
    "import random\n",
    "from tqdm import tqdm\n",
    "import scipy.misc\n",
    "import scipy.io\n",
    "from scipy.stats import multivariate_normal\n",
    "import seaborn\n",
    "DOT = np.dot\n",
    "T = np.transpose\n"
   ]
  },
  {
   "cell_type": "markdown",
   "metadata": {},
   "source": [
    "## Reading data"
   ]
  },
  {
   "cell_type": "code",
   "execution_count": 6,
   "metadata": {
    "collapsed": false
   },
   "outputs": [],
   "source": [
    "data_mat = scipy.io.loadmat('old_faithful.mat')\n",
    "data = data_mat['data']"
   ]
  },
  {
   "cell_type": "markdown",
   "metadata": {},
   "source": [
    "## Center data"
   ]
  },
  {
   "cell_type": "code",
   "execution_count": 7,
   "metadata": {
    "collapsed": false
   },
   "outputs": [],
   "source": [
    "data = data - data.mean(axis = 0)"
   ]
  },
  {
   "cell_type": "markdown",
   "metadata": {},
   "source": [
    "## Setting predefined parameters"
   ]
  },
  {
   "cell_type": "code",
   "execution_count": 14,
   "metadata": {
    "collapsed": false
   },
   "outputs": [],
   "source": [
    "# the Gaussian means (as column vectors -- ie, the mean for Gaussian 0 is mus[:,0]\n",
    "mus = np.asarray( [[-1.17288986, -0.11642103],\n",
    "                   [-0.16526981,  0.70142713]])\n",
    "\n",
    " \n",
    "# the Gaussian covariance matrices\n",
    "covs = list()\n",
    "covs.append( \n",
    "    np.asarray([[ 0.74072815,  0.09252716],\n",
    "                [ 0.09252716,  0.5966275 ]]) )\n",
    "covs.append( \n",
    "    np.asarray([[ 0.39312776, -0.46488887],\n",
    "                [-0.46488887,  1.64990767]]) )\n",
    " \n",
    "# The Gaussian mixing weights\n",
    "mws = [ 0.68618439, 0.31381561 ]  # called alpha in the slides\n"
   ]
  },
  {
   "cell_type": "markdown",
   "metadata": {},
   "source": [
    "## Expectation"
   ]
  },
  {
   "cell_type": "code",
   "execution_count": 15,
   "metadata": {
    "collapsed": false
   },
   "outputs": [],
   "source": [
    "#Compute the responsibilities (Eq. 11.27)\n",
    "def Expectation():\n",
    "    cluster_1_w = multivariate_normal.pdf(data, mean=mus[:,0], cov=covs[0])\n",
    "    cluster_2_w = multivariate_normal.pdf(data, mean=mus[:,1], cov=covs[1])\n",
    "    \n",
    "    cluster_1_w = cluster_1_w.reshape((272,1))\n",
    "    cluster_2_w = cluster_2_w.reshape((272,1))\n",
    "    \n",
    "    cluster_1_w *= mws[0]\n",
    "    cluster_2_w *= mws[1]\n",
    "    \n",
    "    sum_to_norm  = (cluster_1_w + cluster_2_w)\n",
    "    cluster_1_w = cluster_1_w / sum_to_norm\n",
    "    cluster_2_w = cluster_2_w / sum_to_norm\n",
    "   \n",
    "    return cluster_1_w, cluster_2_w"
   ]
  },
  {
   "cell_type": "markdown",
   "metadata": {},
   "source": [
    "## Maximization"
   ]
  },
  {
   "cell_type": "code",
   "execution_count": 16,
   "metadata": {
    "collapsed": false
   },
   "outputs": [],
   "source": [
    "\n",
    "def Maximization(cluster_1_w, cluster_2_w):\n",
    "    # combine weights into 1 matrix\n",
    "    cluster_probs = np.zeros((2,data.shape[0]))\n",
    "    cluster_probs[0] = T(cluster_1_w)\n",
    "    cluster_probs[1] = T(cluster_2_w)\n",
    "    cluster_probs = np.transpose(cluster_probs)\n",
    "\n",
    "    # do the argmax to find out which label is assigned to data point\n",
    "    \n",
    "    # (272, 1) composed of 0s and 1s, which cluster it belongs most to\n",
    "    assigned_labels = cluster_probs.argmax(1)\n",
    "    assigned_labels = assigned_labels.reshape((272,1))\n",
    "    \n",
    "    # Get points for each cluster \n",
    "    cluster_1_points = data[np.where(assigned_labels == 0)[0]]\n",
    "    cluster_2_points = data[np.where(assigned_labels == 1)[0]]\n",
    "    \n",
    "    cluster_1_N = np.sum(cluster_1_w)\n",
    "    cluster_2_N = np.sum(cluster_2_w)\n",
    "    \n",
    "    \n",
    "    # New mws ======================\n",
    "    \n",
    "    mw_1 = cluster_1_N / float(data.shape[0])\n",
    "    mw_2 = cluster_2_N / float(data.shape[0])\n",
    "    new_mws = [ mw_1, mw_2]\n",
    "    \n",
    "    # ==============================\n",
    "    \n",
    "    \n",
    "    # New sigma =====================\n",
    "    sig_sum_1 = np.zeros((2,2))\n",
    "    sig_sum_2 = np.zeros((2,2))\n",
    "    \n",
    "    # using original mus \n",
    "    mu_1 = T(mus[:,0].reshape(2,1))\n",
    "    mu_2 = T(mus[:,1].reshape(2,1))\n",
    "    \n",
    "#     mu_1 = new_mu_1\n",
    "#     mu_2 = new_mu_2\n",
    "    \n",
    "    sig_sum_1 = DOT(T(data - mu_1), (data - mu_1) * cluster_1_w) # DOT ( T(x - mu1), (x - mu1) )\n",
    "    sig_sum_2 = DOT(T(data - mu_2), (data - mu_2) * cluster_2_w) # DOT ( T(x - mu2), (x - mu12) )\n",
    "\n",
    "    new_sig_1 = sig_sum_1 / cluster_1_N # DOT ( T(x - mu1), (x - mu1) ) /  N_cluster 1\n",
    "    new_sig_2 = sig_sum_2 / cluster_2_N # DOT ( T(x - mu2), (x - mu12) ) / N_cluster 2\n",
    "    \n",
    "    new_covs = list()\n",
    "    new_covs.append(new_sig_1)\n",
    "    new_covs.append(new_sig_2)\n",
    "    \n",
    "    # ================================\n",
    "    \n",
    "    \n",
    "    # New mus =======================\n",
    "    new_mu_1 = DOT(T(cluster_1_w),data) / cluster_1_N\n",
    "    new_mu_2 = DOT(T(cluster_2_w),data) / cluster_2_N\n",
    "    \n",
    "    new_mus = np.zeros((2,2))\n",
    "    new_mus[0] = new_mu_1\n",
    "    new_mus[1] = new_mu_2\n",
    "    \n",
    "    new_mus = T(new_mus)\n",
    "    \n",
    "    # ================================\n",
    "    \n",
    "    \n",
    "    \n",
    "    return new_mws, new_mus, new_covs, cluster_1_points, cluster_2_points\n",
    "\n",
    "# a, b = Expectation()\n",
    "# Maximization(a,b)\n",
    "# print \"Happy\""
   ]
  },
  {
   "cell_type": "code",
   "execution_count": 17,
   "metadata": {
    "collapsed": false
   },
   "outputs": [],
   "source": [
    "def cov_to_pts( cov ):\n",
    "    circ = np.linspace( 0, 2*np.pi, 100 )\n",
    "    sf = np.asarray( [ np.cos( circ ), np.sin( circ ) ] )\n",
    "    [u,s,v] = np.linalg.svd( cov )\n",
    "    pmat = u*2.447*np.sqrt(s) # 95% confidence\n",
    "    return np.dot(  pmat, sf )\n",
    "\n",
    "        \n",
    "def plot_it(ax, c_1_w, c_2_w, row, col, title):\n",
    "    #fig = plt.figure()\n",
    "    \n",
    "    #ax1 = fig.add_subplot(111)\n",
    "    ax[row,col].scatter(data[:,0], data[:,1], c=c_1_w, marker=\"s\")\n",
    "    ax[row,col].scatter(mus[0][0], mus[1][0], c=\"black\", marker=\"o\", s=100)\n",
    "    ax[row,col].scatter(mus[0][1], mus[1][1], c=\"white\", marker=\"o\", s=100)\n",
    "    sigma_1 =  cov_to_pts(covs[0])\n",
    "    sigma_2 =  cov_to_pts(covs[1])\n",
    "    ax[row,col].plot(sigma_1[0]+mus[0][0], sigma_1[1]+mus[1][0])\n",
    "    ax[row,col].plot(sigma_2[0]+mus[0][1], sigma_2[1]+mus[1][1])\n",
    "    ax[row,col].title.set_text(title)\n",
    "    "
   ]
  },
  {
   "cell_type": "code",
   "execution_count": 18,
   "metadata": {
    "collapsed": false
   },
   "outputs": [
    {
     "data": {
      "image/png": "[encoded data removed]",
      "text/plain": [
       "<matplotlib.figure.Figure at 0x113719750>"
      ]
     },
     "metadata": {},
     "output_type": "display_data"
    }
   ],
   "source": [
    "x = -1\n",
    "l = -1\n",
    "plt.rcParams['figure.figsize'] = 8, 5\n",
    "fig, ax = plt.subplots(3,3, sharex = True, sharey = True)\n",
    "plt.subplots_adjust( wspace = .2, hspace = .2)\n",
    "for i in xrange(34):\n",
    "    c_1_w, c_2_w = Expectation()\n",
    "    mws, mus, covs, cluster_1_points, cluster_2_points = Maximization(c_1_w, c_2_w) \n",
    "    break\n",
    "    if i % 4 == 0:\n",
    "        l+=1\n",
    "        y = l % 3\n",
    "        if y == 0:\n",
    "            x+=1\n",
    "        plot_it(ax, c_1_w, c_2_w, x, y, \"iteration:\"+str(i))\n",
    "        \n",
    "        \n",
    "\n",
    "fig.show()"
   ]
  },
  {
   "cell_type": "code",
   "execution_count": null,
   "metadata": {
    "collapsed": true
   },
   "outputs": [],
   "source": []
  }
 ],
 "metadata": {
  "anaconda-cloud": {},
  "kernelspec": {
   "display_name": "Python [default]",
   "language": "python",
   "name": "python2"
  },
  "language_info": {
   "codemirror_mode": {
    "name": "ipython",
    "version": 2
   },
   "file_extension": ".py",
   "mimetype": "text/x-python",
   "name": "python",
   "nbconvert_exporter": "python",
   "pygments_lexer": "ipython2",
   "version": "2.7.12"
  }
 },
 "nbformat": 4,
 "nbformat_minor": 1
}
