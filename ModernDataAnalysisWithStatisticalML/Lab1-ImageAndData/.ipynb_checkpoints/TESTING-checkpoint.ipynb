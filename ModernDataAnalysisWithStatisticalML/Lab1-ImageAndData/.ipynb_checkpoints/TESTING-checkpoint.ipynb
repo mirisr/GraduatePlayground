{
 "cells": [
  {
   "cell_type": "code",
   "execution_count": 1,
   "metadata": {
    "collapsed": true
   },
   "outputs": [],
   "source": [
    "%matplotlib inline\n",
    "from PIL import Image\n",
    "import random\n",
    "from IPython.display import Image as display\n",
    "\n",
    "\n",
    "#def draw():\n",
    "myImage = Image.new(\"RGB\", (512,288), (255,255,255))\n",
    "pix = myImage.load()\n",
    "for x in range(512):\n",
    "    for y in range(288):\n",
    "        red = random.randrange(0,255)\n",
    "        blue = random.randrange(0,255)\n",
    "        green = random.randrange(0,255)\n",
    "        pix[x,y]=(red,blue,green)\n",
    "\n",
    "\n",
    "\n",
    "for loop in range (300):\n",
    "    randSize = random.randrange(5,30)\n",
    "    red1 = random.randrange(0,255)\n",
    "    blue2 = random.randrange(0,255)\n",
    "    green3 = random.randrange(0,255)\n",
    "\n",
    "    posX = random.randrange(0,482)\n",
    "    posY = random.randrange(0,258)\n",
    "    for u in range(randSize):\n",
    "        for v in range(randSize):\n",
    "            pix[posX + u ,posY + v]=(red1,blue2,green3)\n",
    "\n",
    "\n",
    "           \n",
    "    #return myImage\n",
    "\n",
    "# if __name__ == \"__main__\":\n",
    "#     final = draw()\n",
    "myImage.save(\"final1.jpg\")\n",
    "display(filename='final1.jpg')"
   ]
  },
  {
   "cell_type": "code",
   "execution_count": null,
   "metadata": {
    "collapsed": true
   },
   "outputs": [],
   "source": []
  }
 ],
 "metadata": {
  "kernelspec": {
   "display_name": "Python [conda root]",
   "language": "python",
   "name": "conda-root-py"
  },
  "language_info": {
   "codemirror_mode": {
    "name": "ipython",
    "version": 2
   },
   "file_extension": ".py",
   "mimetype": "text/x-python",
   "name": "python",
   "nbconvert_exporter": "python",
   "pygments_lexer": "ipython2",
   "version": "2.7.12"
  }
 },
 "nbformat": 4,
 "nbformat_minor": 1
}
