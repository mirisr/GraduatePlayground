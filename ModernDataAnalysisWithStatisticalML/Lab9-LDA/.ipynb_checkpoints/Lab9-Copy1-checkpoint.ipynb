{
 "cells": [
  {
   "cell_type": "code",
   "execution_count": 1,
   "metadata": {
    "collapsed": true
   },
   "outputs": [],
   "source": [
    "import numpy as np\n",
    "import re\n",
    "from tqdm import tqdm\n",
    "import math\n",
    "from random import randint\n",
    " \n",
    "vocab = set()\n",
    "docs = []\n",
    " \n",
    "D = 472 # number of documents\n",
    "K = 10 # number of topics"
   ]
  },
  {
   "cell_type": "markdown",
   "metadata": {},
   "source": [
    "# Read Data into Stuctures"
   ]
  },
  {
   "cell_type": "code",
   "execution_count": 2,
   "metadata": {
    "collapsed": false
   },
   "outputs": [],
   "source": [
    "# open each file; convert everything to lowercase and strip non-letter symbols; split into words\n",
    "for fileind in range( 1, D+1 ):\n",
    "    foo = open( 'files/output%04d.txt' % fileind ).read()    \n",
    "    tmp = re.sub( '[^a-z ]+', ' ', foo.lower() ).split()\n",
    "    docs.append( tmp )\n",
    " \n",
    "    for w in tmp:\n",
    "        vocab.add( w )\n",
    " \n",
    "# vocab now has unique words\n",
    "# give each word in the vocab a unique id\n",
    "ind = 0\n",
    "vhash = {}\n",
    "vindhash = {}\n",
    "for i in list(vocab):\n",
    "    vhash[i] = ind\n",
    "    vindhash[ind] = i\n",
    "    ind += 1\n",
    " \n",
    "# size of our vocabulary\n",
    "V = ind\n",
    " \n",
    "# reprocess each document and re-represent it as a list of word ids\n",
    "\n",
    "docs_i = []\n",
    "\n",
    "for d in docs:\n",
    "    dinds = []\n",
    "    for w in d:\n",
    "        dinds.append( vhash[w] )\n",
    "    docs_i.append( dinds )\n"
   ]
  },
  {
   "cell_type": "markdown",
   "metadata": {},
   "source": [
    "# Full LDA "
   ]
  },
  {
   "cell_type": "code",
   "execution_count": null,
   "metadata": {
    "collapsed": false,
    "scrolled": true
   },
   "outputs": [
    {
     "name": "stderr",
     "output_type": "stream",
     "text": [
      " 42%|████▏     | 42/100 [25:10<35:01, 36.24s/it]"
     ]
    }
   ],
   "source": [
    "''' Creates a matrix of size [D, V] i.e Documents and Vocabulary'''\n",
    "''' Indexing q[i][j] will give you doc i's and word j's topic assigment'''\n",
    "''' Randoming assign each word for each document a random K (0 to K-1) topic'''\n",
    "def randomly_assign_topics():\n",
    "    qs = []\n",
    "    c = np.zeros((D, V, K))\n",
    "    for i in xrange(D):\n",
    "        qs_i = []\n",
    "        for l, hash_i in enumerate(docs_i[i]):\n",
    "            k = randint(0, K-1)\n",
    "            qs_i.append(k)\n",
    "            c[i][hash_i][k] += 1\n",
    "        qs.append(qs_i)\n",
    "    \n",
    "    return qs, c\n",
    "\n",
    "                       \n",
    "def compute_data_likelihood(qs, topics):\n",
    "    likelihood = 0\n",
    "    for i in xrange(D):\n",
    "        for l, hash_i in enumerate(docs_i[i]):\n",
    "            k = qs[i][l]\n",
    "            likelihood += math.log(topics[hash_i][k])\n",
    "    return likelihood\n",
    "\n",
    "def resample_qs(qs, c_vk, c_ik):\n",
    "    for i in xrange(D):\n",
    "        for l, hash_i in enumerate(docs_i[i]):\n",
    "            prob_dist = []\n",
    "            total = 0\n",
    "            for k in xrange(K):\n",
    "                prob = pdtm[k][i] * topics[hash_i][k]\n",
    "                total += prob\n",
    "                prob_dist.append(prob)\n",
    "            prob_dist = np.asarray(prob_dist) / total\n",
    "            \n",
    "            '''Resample new topic for word'''\n",
    "            new_k = np.random.choice(K, p=prob_dist)\n",
    "            '''Assign new k to work in document'''\n",
    "            old_k = qs[i][l]\n",
    "            qs[i][l] = new_k\n",
    "\n",
    "            '''Update counts c_vk'''\n",
    "            c_vk[hash_i][old_k] -=1\n",
    "            c_vk[hash_i][new_k] +=1\n",
    "            '''Update counts c_ik'''\n",
    "            c_ik[i][old_k] -=1\n",
    "            c_ik[i][new_k] +=1\n",
    "                \n",
    "    return qs, c_vk, c_ik\n",
    "\n",
    "\n",
    "'''[Q], [c]'''\n",
    "qs, c = randomly_assign_topics() #(472, 17675) \n",
    "\n",
    "'''Collect statistics'''\n",
    "c_vk = np.sum(c, axis=0) #(17675, 10)\n",
    "c_ik = np.sum(c, axis=1) #(472, 10)\n",
    "c_k = np.sum(c_vk, axis=0) #(10,)\n",
    "L_i = np.sum(c_ik, axis=1) #(472,) \n",
    "\n",
    "'''[alpha] [beta] hyperparameters'''\n",
    "alphas = np.ones((K,1))[:,0]\n",
    "gammas = np.ones((V,1))[:,0]\n",
    "\n",
    "'''[PI] For each document, dirichlet distribution over topics'''\n",
    "# per-document-topic distributions: \n",
    "pdtm = np.zeros((K,D)) \n",
    "for i in xrange(D):\n",
    "    pdtm[:,i] = np.random.dirichlet(alphas + c_ik[i])\n",
    "\n",
    "'''[B] For each topic, dirichlet distribution over words/vocab'''\n",
    "# topic distributions: \n",
    "topics = np.zeros((V,K))\n",
    "for k in xrange(K):\n",
    "    topics[:, k] =  np.random.dirichlet(gammas + c_vk[:,k])\n",
    "\n",
    "\n",
    "full_gibbs_likelihoods = [] \n",
    "for iters in tqdm(range(0,100)):\n",
    "    # compute data likelihood\n",
    "    p = compute_data_likelihood(qs, topics)\n",
    "    \n",
    "    # store likelihood\n",
    "    full_gibbs_likelihoods.append(p)\n",
    "    \n",
    "    #print \"Iter %d, p=%.2f\" % (iters,p)\n",
    "    \n",
    "    # resample per-word topic assignments qs\n",
    "    qs, c_vk, c_ik = resample_qs(qs, c_vk, c_ik)\n",
    " \n",
    "    # resample per-document topic mixtures pdtm\n",
    "    for i in xrange(D):\n",
    "        pdtm[:,i] = np.random.dirichlet(alphas + c_ik[i])\n",
    "        \n",
    "    # resample topics\n",
    "    for k in xrange(K):\n",
    "        topics[:, k] =  np.random.dirichlet(gammas + c_vk[:,k])\n",
    "        \n",
    "        "
   ]
  },
  {
   "cell_type": "markdown",
   "metadata": {},
   "source": [
    "## Collapsed Gibbs Sampling for LDA"
   ]
  },
  {
   "cell_type": "code",
   "execution_count": 4,
   "metadata": {
    "collapsed": false
   },
   "outputs": [
    {
     "name": "stderr",
     "output_type": "stream",
     "text": [
      "  0%|          | 0/100 [00:00<?, ?it/s]/Users/Iris/anaconda/lib/python2.7/site-packages/ipykernel/__main__.py:27: VisibleDeprecationWarning: using a non-integer number instead of an integer will result in an error in the future\n",
      "\n"
     ]
    },
    {
     "ename": "ValueError",
     "evalue": "math domain error",
     "output_type": "error",
     "traceback": [
      "\u001b[0;31m---------------------------------------------------------------------------\u001b[0m",
      "\u001b[0;31mValueError\u001b[0m                                Traceback (most recent call last)",
      "\u001b[0;32m<ipython-input-4-f1777a28795c>\u001b[0m in \u001b[0;36m<module>\u001b[0;34m()\u001b[0m\n\u001b[1;32m     49\u001b[0m \u001b[0;34m\u001b[0m\u001b[0m\n\u001b[1;32m     50\u001b[0m     \u001b[0;31m# compute data likelihood\u001b[0m\u001b[0;34m\u001b[0m\u001b[0;34m\u001b[0m\u001b[0m\n\u001b[0;32m---> 51\u001b[0;31m     \u001b[0mp\u001b[0m \u001b[0;34m=\u001b[0m \u001b[0mcompute_data_likelihood\u001b[0m\u001b[0;34m(\u001b[0m\u001b[0mqs\u001b[0m\u001b[0;34m,\u001b[0m \u001b[0mtopics_\u001b[0m\u001b[0;34m)\u001b[0m\u001b[0;34m\u001b[0m\u001b[0m\n\u001b[0m\u001b[1;32m     52\u001b[0m \u001b[0;34m\u001b[0m\u001b[0m\n\u001b[1;32m     53\u001b[0m     \u001b[0;31m#store likelihood\u001b[0m\u001b[0;34m\u001b[0m\u001b[0;34m\u001b[0m\u001b[0m\n",
      "\u001b[0;32m<ipython-input-3-ea04f130cd4d>\u001b[0m in \u001b[0;36mcompute_data_likelihood\u001b[0;34m(qs, topics)\u001b[0m\n\u001b[1;32m     25\u001b[0m         \u001b[0;32mfor\u001b[0m \u001b[0ml\u001b[0m \u001b[0;32min\u001b[0m \u001b[0mdocs_i\u001b[0m\u001b[0;34m[\u001b[0m\u001b[0mi\u001b[0m\u001b[0;34m]\u001b[0m\u001b[0;34m:\u001b[0m\u001b[0;34m\u001b[0m\u001b[0m\n\u001b[1;32m     26\u001b[0m             \u001b[0mk\u001b[0m \u001b[0;34m=\u001b[0m \u001b[0mqs\u001b[0m\u001b[0;34m[\u001b[0m\u001b[0mi\u001b[0m\u001b[0;34m]\u001b[0m\u001b[0;34m[\u001b[0m\u001b[0ml\u001b[0m\u001b[0;34m]\u001b[0m\u001b[0;34m\u001b[0m\u001b[0m\n\u001b[0;32m---> 27\u001b[0;31m             \u001b[0mlikelihood\u001b[0m \u001b[0;34m+=\u001b[0m \u001b[0mmath\u001b[0m\u001b[0;34m.\u001b[0m\u001b[0mlog\u001b[0m\u001b[0;34m(\u001b[0m\u001b[0mtopics\u001b[0m\u001b[0;34m[\u001b[0m\u001b[0ml\u001b[0m\u001b[0;34m]\u001b[0m\u001b[0;34m[\u001b[0m\u001b[0mk\u001b[0m\u001b[0;34m]\u001b[0m\u001b[0;34m)\u001b[0m\u001b[0;34m\u001b[0m\u001b[0m\n\u001b[0m\u001b[1;32m     28\u001b[0m     \u001b[0;32mreturn\u001b[0m \u001b[0mlikelihood\u001b[0m\u001b[0;34m\u001b[0m\u001b[0m\n\u001b[1;32m     29\u001b[0m \u001b[0;34m\u001b[0m\u001b[0m\n",
      "\u001b[0;31mValueError\u001b[0m: math domain error"
     ]
    }
   ],
   "source": [
    "def resample_topic_collaspsed(qs, docs_i, c_vk, c_ik, c_k):\n",
    "    for i in xrange(D):\n",
    "        for l, hash_i in enumerate(docs_i[i]):\n",
    "            total = 0\n",
    "            prob_dist = []\n",
    "            for k in xrange(K):\n",
    "                prob = (c_vk[hash_i][k] / (c_k[k] + V)) * (c_ik[i][k] / (L_i[i] + K))\n",
    "                total += prob\n",
    "                prob_dist.append(prob)\n",
    "            prob_dist = np.asarray(prob_dist) / total\n",
    "            \n",
    "            '''Resample new topic for word'''\n",
    "            new_k = np.random.choice(K, p=prob_dist)\n",
    "            '''Assign new k to work in document'''\n",
    "            old_k = qs[i][l]\n",
    "            qs[i][l] = new_k\n",
    "\n",
    "            '''Update counts c_vk'''\n",
    "            c_vk[hash_i][old_k] -=1\n",
    "            c_vk[hash_i][new_k] +=1\n",
    "            '''Update counts c_ik'''\n",
    "            c_ik[i][old_k] -=1\n",
    "            c_ik[i][new_k] +=1\n",
    "            '''Update counts c_k'''\n",
    "            c_k[old_k] -=1\n",
    "            c_k[new_k] +=1\n",
    "                \n",
    "    return qs, c_vk, c_ik, c_k\n",
    "\n",
    "qs, c = randomly_assign_topics() \n",
    "\n",
    "#collect statistics\n",
    "c_vk = np.sum(c, axis=0) #(17675, 10)\n",
    "c_ik = np.sum(c, axis=1) #(472, 10)\n",
    "c_k = np.sum(c_vk, axis=0) #(10,)\n",
    "L_i = np.sum(c_ik, axis=1) #(472,) #never changes\n",
    "\n",
    "# topic distributions: \n",
    "topics_ = np.zeros((V,K))\n",
    "for k in xrange(K):\n",
    "    topics[:, k] =  np.random.dirichlet(gammas)\n",
    "\n",
    "collapsed_gibbs_likelihoods = []\n",
    "for iters in tqdm(range(0,100)):\n",
    "    \n",
    "    # compute data likelihood\n",
    "    p = compute_data_likelihood(qs, topics_)\n",
    "    \n",
    "    #store likelihood\n",
    "    collapsed_gibbs_likelihoods.append(p)\n",
    "    \n",
    "    #print \"Iter %d, p=%.2f\" % (iters,p)\n",
    "    \n",
    "    # resample per-word topic assignments qs\n",
    "    qs, c_vk, c_ik, c_k = resample_topic_collaspsed(qs, docs_i, c_vk, c_ik, c_k)\n",
    "    \n",
    "     # resample topics - just for the likelihood\n",
    "    for k in xrange(K):\n",
    "        topics_[:, k] =  np.random.dirichlet(np.ones(V) + c_vk[:,k])\n",
    "    \n"
   ]
  },
  {
   "cell_type": "code",
   "execution_count": 15,
   "metadata": {
    "collapsed": false
   },
   "outputs": [
    {
     "name": "stdout",
     "output_type": "stream",
     "text": [
      "-5266319.28695\n"
     ]
    },
    {
     "data": {
      "image/png": "[encoded data removed]",
      "text/plain": [
       "<matplotlib.figure.Figure at 0x10e726dd0>"
      ]
     },
     "metadata": {},
     "output_type": "display_data"
    }
   ],
   "source": [
    "import matplotlib.pyplot as plt\n",
    "full_gibbs_likelihoods[0]\n",
    "test = full_gibbs_likelihoods[1:]\n",
    "print test[0]\n",
    "plt.plot(range(99), test, label='Full Gibbs')\n",
    "#plt.plot(range(100), collapsed_gibbs_likelihoods, label='Collapsed Gibbs')\n",
    "#plt.legend(bbox_to_anchor=(1.05, 1), loc=2, borderaxespad=0.)\n",
    "\n",
    "plt.show()"
   ]
  },
  {
   "cell_type": "code",
   "execution_count": 19,
   "metadata": {
    "collapsed": false
   },
   "outputs": [
    {
     "name": "stdout",
     "output_type": "stream",
     "text": [
      "Populating the interactive namespace from numpy and matplotlib\n"
     ]
    },
    {
     "data": {
      "image/png": "[encoded data removed]",
      "text/plain": [
       "<matplotlib.figure.Figure at 0x10c5567d0>"
      ]
     },
     "metadata": {},
     "output_type": "display_data"
    },
    {
     "data": {
      "text/plain": [
       "(10, 100)"
      ]
     },
     "execution_count": 19,
     "metadata": {},
     "output_type": "execute_result"
    }
   ],
   "source": [
    "\n",
    "#pdtm = np.zeros((K,D)) \n",
    "# %pylab inline\n",
    "# pylab.rcParams['figure.figsize'] = (8.0, 8.0)\n",
    "\n",
    "plt.figure()\n",
    "plt.imshow(pdtm, interpolation='nearest', cmap='jet', aspect='auto')\n",
    "plt.title(\"Per document topic mixtures\")\n",
    "\n",
    "plt.tight_layout()\n",
    "plt.ylabel('topics')\n",
    "plt.xlabel('documents')\n",
    "plt.show()\n"
   ]
  },
  {
   "cell_type": "code",
   "execution_count": null,
   "metadata": {
    "collapsed": true
   },
   "outputs": [],
   "source": []
  }
 ],
 "metadata": {
  "anaconda-cloud": {},
  "kernelspec": {
   "display_name": "Python [default]",
   "language": "python",
   "name": "python2"
  },
  "language_info": {
   "codemirror_mode": {
    "name": "ipython",
    "version": 2
   },
   "file_extension": ".py",
   "mimetype": "text/x-python",
   "name": "python",
   "nbconvert_exporter": "python",
   "pygments_lexer": "ipython2",
   "version": "2.7.12"
  }
 },
 "nbformat": 4,
 "nbformat_minor": 1
}
