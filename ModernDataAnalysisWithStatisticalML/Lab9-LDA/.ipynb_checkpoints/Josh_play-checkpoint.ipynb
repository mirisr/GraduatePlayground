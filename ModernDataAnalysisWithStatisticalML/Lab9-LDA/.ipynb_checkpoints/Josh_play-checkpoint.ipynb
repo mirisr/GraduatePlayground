{
 "cells": [
  {
   "cell_type": "code",
   "execution_count": 20,
   "metadata": {
    "collapsed": true
   },
   "outputs": [],
   "source": [
    "import numpy as np\n",
    "import re\n",
    "from tqdm import tqdm\n",
    "import math\n",
    "from random import randint\n",
    "from tqdm import tqdm \n",
    "import math\n",
    "\n",
    "vocab = set()\n",
    "docs = []\n",
    " \n",
    "D = 472 # number of documents\n",
    "K = 10 # number of topics\n",
    "\n",
    "# open each file; convert everything to lowercase and strip non-letter symbols; split into words\n",
    "for fileind in range( 1, D+1 ):\n",
    "    foo = open( 'files/output%04d.txt' % fileind ).read()    \n",
    "    tmp = re.sub( '[^a-z ]+', ' ', foo.lower() ).split()\n",
    "    docs.append( tmp )\n",
    " \n",
    "    for w in tmp:\n",
    "        vocab.add( w )\n",
    " \n",
    "# vocab now has unique words\n",
    "# give each word in the vocab a unique id\n",
    "ind = 0\n",
    "vhash = {}\n",
    "vindhash = {}\n",
    "for i in list(vocab):\n",
    "    vhash[i] = ind\n",
    "    vindhash[ind] = i\n",
    "    ind += 1\n",
    " \n",
    "# size of our vocabulary\n",
    "V = ind\n",
    " \n",
    "# reprocess each document and re-represent it as a list of word ids\n",
    "\n",
    "docs_i = []\n",
    "\n",
    "for d in docs:\n",
    "    dinds = []\n",
    "    for w in d:\n",
    "        dinds.append( vhash[w] )\n",
    "    docs_i.append( dinds )"
   ]
  },
  {
   "cell_type": "code",
   "execution_count": 21,
   "metadata": {
    "collapsed": true
   },
   "outputs": [],
   "source": [
    "qs = None\n",
    "alphas = None\n",
    "gammas = None\n",
    "topics = None\n",
    "pdtm = None\n",
    "\n",
    "def init():\n",
    "    global qs, alphas, gammas, topics, pdtm\n",
    "    global K, V, D, docs_i\n",
    "\n",
    "    # Initial topics for the documents\n",
    "    qs = randomly_assign_topics(docs_i, K)\n",
    "\n",
    "    # Parameters for Dirichlet Distribution\n",
    "    alphas = np.ones((K,1))[:,0]\n",
    "    gammas = np.ones((V,1))[:,0]\n",
    "\n",
    "    # Assign the topic distributions for each word\n",
    "    topics = np.random.dirichlet(gammas, K) # (10, 17675)\n",
    "\n",
    "    # per-document-topic distributions\n",
    "    pdtm = np.random.dirichlet(alphas, D) # (472, 10)\n",
    "    \n",
    "    "
   ]
  },
  {
   "cell_type": "code",
   "execution_count": 22,
   "metadata": {
    "collapsed": true
   },
   "outputs": [],
   "source": [
    "def compute_data_likelihood(docs_i, qs, topics):\n",
    "    \n",
    "    likelihood = 0\n",
    "    \n",
    "    for i, doc in enumerate(docs_i):\n",
    "\n",
    "        for j, word in enumerate(doc):\n",
    "            \n",
    "            # Find what the word is assigned to\n",
    "            assigned_topic = qs[i][j]\n",
    "            likelihood += math.log(topics[assigned_topic, word])\n",
    "\n",
    "    return likelihood\n",
    "\n",
    "# Initialize my civk matrix\n",
    "def calculate_civk():\n",
    "    global D, V, K\n",
    "    global docs_i\n",
    "    global qs\n",
    "    \n",
    "    civk = np.zeros([D, V, K])\n",
    "    \n",
    "    for i, doc in enumerate(docs_i):\n",
    "        for j, word in enumerate(doc):\n",
    "            civk[i,word,qs[i][j]] += 1\n",
    "\n",
    "    return civk\n",
    "\n",
    "def randomly_assign_topics(docs, k):\n",
    "    \"\"\" Randomly assigns topics between 0 and K-1\"\"\"\n",
    "    result = []\n",
    "    for i, doc in enumerate(docs):\n",
    "        this_doc = []\n",
    "        for word in doc:\n",
    "            this_doc.append(np.random.randint(0, K))\n",
    "        result.append(this_doc)\n",
    "    return result"
   ]
  },
  {
   "cell_type": "code",
   "execution_count": 23,
   "metadata": {
    "collapsed": false
   },
   "outputs": [
    {
     "name": "stderr",
     "output_type": "stream",
     "text": [
      "\n",
      "  0%|          | 0/5 [00:00<?, ?it/s]\u001b[A"
     ]
    },
    {
     "name": "stdout",
     "output_type": "stream",
     "text": [
      "Iter 0, p=-5368520.27\n"
     ]
    },
    {
     "name": "stderr",
     "output_type": "stream",
     "text": [
      "\n",
      "Exception in thread Thread-6:\n",
      "Traceback (most recent call last):\n",
      "  File \"/Users/Iris/anaconda/lib/python2.7/threading.py\", line 801, in __bootstrap_inner\n",
      "    self.run()\n",
      "  File \"/Users/Iris/anaconda/lib/python2.7/site-packages/tqdm/_tqdm.py\", line 103, in run\n",
      "    for instance in self.tqdm_cls._instances:\n",
      "  File \"/Users/Iris/anaconda/lib/python2.7/_weakrefset.py\", line 60, in __iter__\n",
      "    for itemref in self.data:\n",
      "RuntimeError: Set changed size during iteration\n",
      "\n",
      "\n",
      " 20%|██        | 1/5 [00:25<01:41, 25.33s/it]\u001b[A"
     ]
    },
    {
     "name": "stdout",
     "output_type": "stream",
     "text": [
      "Iter 1, p=-5368622.39\n"
     ]
    },
    {
     "name": "stderr",
     "output_type": "stream",
     "text": [
      "\n",
      " 40%|████      | 2/5 [00:51<01:17, 25.71s/it]\u001b[A"
     ]
    },
    {
     "name": "stdout",
     "output_type": "stream",
     "text": [
      "Iter 2, p=-5368529.44\n"
     ]
    },
    {
     "name": "stderr",
     "output_type": "stream",
     "text": [
      "\n",
      " 60%|██████    | 3/5 [01:18<00:51, 25.95s/it]\u001b[A"
     ]
    },
    {
     "name": "stdout",
     "output_type": "stream",
     "text": [
      "Iter 3, p=-5368803.37\n"
     ]
    },
    {
     "name": "stderr",
     "output_type": "stream",
     "text": [
      "\n",
      " 80%|████████  | 4/5 [01:44<00:25, 25.93s/it]\u001b[A"
     ]
    },
    {
     "name": "stdout",
     "output_type": "stream",
     "text": [
      "Iter 4, p=-5367832.87\n"
     ]
    },
    {
     "name": "stderr",
     "output_type": "stream",
     "text": [
      "\n",
      "100%|██████████| 5/5 [02:10<00:00, 26.00s/it]\u001b[A\n",
      "\u001b[A"
     ]
    }
   ],
   "source": [
    "# Standard Gibbs Sampling\n",
    "\n",
    "init()\n",
    "# resample per-document topic mixtures pdtm\n",
    "civk = calculate_civk()\n",
    "cik = np.sum(civk, axis=1)\n",
    "for i, x in enumerate(cik):\n",
    "    pdtm[i] = np.random.dirichlet(alphas + x)\n",
    "\n",
    "# resample topics\n",
    "cvk = np.sum(civk, axis=0)\n",
    "for i in xrange(10):\n",
    "    topics[i] = np.random.dirichlet(gammas + cvk[:,i])\n",
    "    \n",
    "    \n",
    "cik = np.sum(civk, axis=1) \n",
    "cvk = np.sum(civk, axis=0)\n",
    "################################################\n",
    "\n",
    "\n",
    "num_steps = 5\n",
    "results = np.empty([num_steps])\n",
    "#init()\n",
    "likelihoods_keep = []\n",
    "for iters in tqdm(xrange(0, num_steps)):\n",
    "    p = compute_data_likelihood(docs_i, qs, topics)\n",
    "#     if iters % 10 == 0:\n",
    "#         clear_output()\n",
    "    print \"Iter %d, p=%.2f\" % (iters,p)\n",
    "    results[iters] = p\n",
    "    likelihoods_keep.append(p)\n",
    "    \n",
    " \n",
    "    # resample per-word topic assignments qs\n",
    "    for i, doc in enumerate(qs):\n",
    "        for j, word in enumerate(doc):\n",
    "            probs = pdtm[i,:] * topics[:,word]\n",
    "            probs = probs / np.sum(probs)\n",
    "            qs[i][j] = np.random.choice(K, p=probs)\n",
    "            \n",
    "    # resample per-document topic mixtures pdtm\n",
    "    civk = calculate_civk()\n",
    "    cik = np.sum(civk, axis=1) \n",
    "#     for i, x in enumerate(cik):\n",
    "#         pdtm[i] = np.random.dirichlet(alphas + x)\n",
    "        \n",
    "    for i in xrange(D):\n",
    "        pdtm[i] = np.random.dirichlet(alphas + cik[i])\n",
    " \n",
    "    # resample topics\n",
    "    cvk = np.sum(civk, axis=0)\n",
    "    for i in xrange(10):\n",
    "        topics[i] = np.random.dirichlet(gammas + cvk[:,i])"
   ]
  },
  {
   "cell_type": "code",
   "execution_count": 25,
   "metadata": {
    "collapsed": false
   },
   "outputs": [
    {
     "data": {
      "image/png": "[encoded data removed]",
      "text/plain": [
       "<matplotlib.figure.Figure at 0x1122734d0>"
      ]
     },
     "metadata": {},
     "output_type": "display_data"
    }
   ],
   "source": [
    "import matplotlib.pyplot as plt\n",
    "\n",
    "plt.plot(range(5), likelihoods_keep, label='Full Gibbs')\n",
    "#plt.plot(range(5), collapsed_gibbs_likelihoods, label='Collapsed Gibbs')\n",
    "plt.legend(bbox_to_anchor=(1.05, 1), loc=2, borderaxespad=0.)\n",
    "\n",
    "plt.show()"
   ]
  },
  {
   "cell_type": "code",
   "execution_count": null,
   "metadata": {
    "collapsed": true
   },
   "outputs": [],
   "source": [
    "for i, doc in enumerate(qs):\n",
    "        for j, word in enumerate(doc):\n",
    "            probs = pdtm[i,:] * topics[:,word]\n",
    "            "
   ]
  },
  {
   "cell_type": "code",
   "execution_count": 27,
   "metadata": {
    "collapsed": false
   },
   "outputs": [
    {
     "name": "stdout",
     "output_type": "stream",
     "text": [
      "(10,)\n",
      "(10,)\n",
      "(10,)\n"
     ]
    }
   ],
   "source": [
    "print pdtm[0,:].shape\n",
    "print topics[:,0].shape\n",
    "\n",
    "probs = pdtm[0,:] * topics[:,0]\n",
    "print probs.shape"
   ]
  },
  {
   "cell_type": "code",
   "execution_count": null,
   "metadata": {
    "collapsed": true
   },
   "outputs": [],
   "source": []
  }
 ],
 "metadata": {
  "anaconda-cloud": {},
  "kernelspec": {
   "display_name": "Python [default]",
   "language": "python",
   "name": "python2"
  },
  "language_info": {
   "codemirror_mode": {
    "name": "ipython",
    "version": 2
   },
   "file_extension": ".py",
   "mimetype": "text/x-python",
   "name": "python",
   "nbconvert_exporter": "python",
   "pygments_lexer": "ipython2",
   "version": "2.7.12"
  }
 },
 "nbformat": 4,
 "nbformat_minor": 1
}
