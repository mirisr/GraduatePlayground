{
 "cells": [
  {
   "cell_type": "code",
   "execution_count": 2,
   "metadata": {
    "collapsed": true
   },
   "outputs": [],
   "source": [
    "import numpy as np\n",
    "import re\n",
    "from tqdm import tqdm\n",
    "import math\n",
    "from random import randint\n",
    " \n",
    "vocab = set()\n",
    "docs = []\n",
    " \n",
    "D = 472 # number of documents\n",
    "K = 10 # number of topics"
   ]
  },
  {
   "cell_type": "markdown",
   "metadata": {},
   "source": [
    "# Read Data into Stuctures"
   ]
  },
  {
   "cell_type": "code",
   "execution_count": 3,
   "metadata": {
    "collapsed": false
   },
   "outputs": [],
   "source": [
    "# open each file; convert everything to lowercase and strip non-letter symbols; split into words\n",
    "for fileind in range( 1, D+1 ):\n",
    "    foo = open( 'files/output%04d.txt' % fileind ).read()    \n",
    "    tmp = re.sub( '[^a-z ]+', ' ', foo.lower() ).split()\n",
    "    docs.append( tmp )\n",
    " \n",
    "    for w in tmp:\n",
    "        vocab.add( w )\n",
    " \n",
    "# vocab now has unique words\n",
    "# give each word in the vocab a unique id\n",
    "ind = 0\n",
    "vhash = {}\n",
    "vindhash = {}\n",
    "for i in list(vocab):\n",
    "    vhash[i] = ind\n",
    "    vindhash[ind] = i\n",
    "    ind += 1\n",
    " \n",
    "# size of our vocabulary\n",
    "V = ind\n",
    " \n",
    "# reprocess each document and re-represent it as a list of word ids\n",
    "\n",
    "docs_i = []\n",
    "\n",
    "for d in docs:\n",
    "    dinds = []\n",
    "    for w in d:\n",
    "        dinds.append( vhash[w] )\n",
    "    docs_i.append( dinds )\n"
   ]
  },
  {
   "cell_type": "markdown",
   "metadata": {},
   "source": [
    "# Full LDA "
   ]
  },
  {
   "cell_type": "code",
   "execution_count": 4,
   "metadata": {
    "collapsed": false,
    "scrolled": true
   },
   "outputs": [
    {
     "name": "stderr",
     "output_type": "stream",
     "text": [
      "100%|██████████| 5/5 [02:57<00:00, 35.36s/it]\n"
     ]
    }
   ],
   "source": [
    "''' Creates a matrix of size [D, V] i.e Documents and Vocabulary'''\n",
    "''' Indexing q[i][j] will give you doc i's and word j's topic assigment'''\n",
    "''' Randoming assign each word for each document a random K (0 to K-1) topic'''\n",
    "def randomly_assign_topics():\n",
    "    qs = []\n",
    "    c = np.zeros((D, V, K))\n",
    "    for i in xrange(D):\n",
    "        qs_i = []\n",
    "        for l, hash_i in enumerate(docs_i[i]):\n",
    "            k = randint(0, K-1)\n",
    "            qs_i.append(k)\n",
    "            c[i][hash_i][k] += 1\n",
    "        qs.append(qs_i)\n",
    "    \n",
    "    return qs, c\n",
    "\n",
    "                       \n",
    "def compute_data_likelihood(qs, topics):\n",
    "    likelihood = 0\n",
    "    for i in xrange(D):\n",
    "        for l, hash_i in enumerate(docs_i[i]):\n",
    "            k = qs[i][l]\n",
    "            likelihood += math.log(topics[hash_i][k])\n",
    "    return likelihood\n",
    "\n",
    "def resample_qs(qs, c_vk, c_ik):\n",
    "    for i in xrange(D):\n",
    "        for l, hash_i in enumerate(docs_i[i]):\n",
    "            prob_dist = []\n",
    "            total = 0\n",
    "            for k in xrange(K):\n",
    "                prob = pdtm[k][i] * topics[hash_i][k]\n",
    "                total += prob\n",
    "                prob_dist.append(prob)\n",
    "            prob_dist = np.asarray(prob_dist) / total\n",
    "            \n",
    "            '''Resample new topic for word'''\n",
    "            new_k = np.random.choice(K, p=prob_dist)\n",
    "            '''Assign new k to work in document'''\n",
    "            old_k = qs[i][l]\n",
    "            qs[i][l] = new_k\n",
    "\n",
    "            '''Update counts c_vk'''\n",
    "            c_vk[hash_i][old_k] -=1\n",
    "            c_vk[hash_i][new_k] +=1\n",
    "            '''Update counts c_ik'''\n",
    "            c_ik[i][old_k] -=1\n",
    "            c_ik[i][new_k] +=1\n",
    "                \n",
    "    return qs, c_vk, c_ik\n",
    "\n",
    "\n",
    "'''[Q], [c]'''\n",
    "qs, c = randomly_assign_topics() #(472, 17675) \n",
    "\n",
    "'''Collect statistics'''\n",
    "c_vk = np.sum(c, axis=0) #(17675, 10)\n",
    "c_ik = np.sum(c, axis=1) #(472, 10)\n",
    "c_k = np.sum(c_vk, axis=0) #(10,)\n",
    "L_i = np.sum(c_ik, axis=1) #(472,) \n",
    "\n",
    "'''[alpha] [beta] hyperparameters'''\n",
    "alphas = np.ones((K,1))[:,0]\n",
    "gammas = np.ones((V,1))[:,0]\n",
    "\n",
    "'''[PI] For each document, dirichlet distribution over topics'''\n",
    "# per-document-topic distributions: \n",
    "pdtm = np.zeros((K,D)) \n",
    "for i in xrange(D):\n",
    "    pdtm[:,i] = np.random.dirichlet(alphas + c_ik[i])\n",
    "\n",
    "'''[B] For each topic, dirichlet distribution over words/vocab'''\n",
    "# topic distributions: \n",
    "topics = np.zeros((V,K))\n",
    "for k in xrange(K):\n",
    "    topics[:, k] =  np.random.dirichlet(gammas + c_vk[:,k])\n",
    "\n",
    "\n",
    "full_gibbs_likelihoods = [] \n",
    "for iters in tqdm(range(0,5)):\n",
    "    # compute data likelihood\n",
    "    p = compute_data_likelihood(qs, topics)\n",
    "    \n",
    "    # store likelihood\n",
    "    full_gibbs_likelihoods.append(p)\n",
    "    \n",
    "    #print \"Iter %d, p=%.2f\" % (iters,p)\n",
    "    \n",
    "    # resample per-word topic assignments qs\n",
    "    qs, c_vk, c_ik = resample_qs(qs, c_vk, c_ik)\n",
    " \n",
    "    # resample per-document topic mixtures pdtm\n",
    "    for i in xrange(D):\n",
    "        pdtm[:,i] = np.random.dirichlet(alphas + c_ik[i])\n",
    "        \n",
    "    # resample topics\n",
    "    for k in xrange(K):\n",
    "        topics[:, k] =  np.random.dirichlet(gammas + c_vk[:,k])\n",
    "        \n",
    "        "
   ]
  },
  {
   "cell_type": "markdown",
   "metadata": {},
   "source": [
    "## Collapsed Gibbs Sampling for LDA"
   ]
  },
  {
   "cell_type": "code",
   "execution_count": 15,
   "metadata": {
    "collapsed": false
   },
   "outputs": [
    {
     "name": "stderr",
     "output_type": "stream",
     "text": [
      "100%|██████████| 5/5 [03:46<00:00, 45.52s/it]\n"
     ]
    }
   ],
   "source": [
    "def resample_topic_collaspsed(qs, docs_i, c_vk, c_ik, c_k):\n",
    "    for i in xrange(D):\n",
    "        for l, hash_i in enumerate(docs_i[i]):\n",
    "            total = 0\n",
    "            prob_dist = []\n",
    "            for k in xrange(K):\n",
    "                prob = (c_vk[hash_i][k] / (c_k[k] + V)) * (c_ik[i][k] / (L_i[i] + K))\n",
    "                total += prob\n",
    "                prob_dist.append(prob)\n",
    "            prob_dist = np.asarray(prob_dist) / total\n",
    "            \n",
    "            '''Resample new topic for word'''\n",
    "            new_k = np.random.choice(K, p=prob_dist)\n",
    "            '''Assign new k to work in document'''\n",
    "            old_k = qs[i][l]\n",
    "            qs[i][l] = new_k\n",
    "\n",
    "            '''Update counts c_vk'''\n",
    "            c_vk[hash_i][old_k] -=1\n",
    "            c_vk[hash_i][new_k] +=1\n",
    "            '''Update counts c_ik'''\n",
    "            c_ik[i][old_k] -=1\n",
    "            c_ik[i][new_k] +=1\n",
    "            '''Update counts c_k'''\n",
    "            c_k[old_k] -=1\n",
    "            c_k[new_k] +=1\n",
    "                \n",
    "    return qs, c_vk, c_ik, c_k\n",
    "\n",
    "qs, c = randomly_assign_topics() \n",
    "\n",
    "#collect statistics\n",
    "c_vk = np.sum(c, axis=0) #(17675, 10)\n",
    "c_ik = np.sum(c, axis=1) #(472, 10)\n",
    "c_k = np.sum(c_vk, axis=0) #(10,)\n",
    "L_i = np.sum(c_ik, axis=1) #(472,) #never changes\n",
    "\n",
    "# topic distributions: \n",
    "topics_ = np.zeros((V,K))\n",
    "for k in xrange(K):\n",
    "    topics_[:, k] =  np.random.dirichlet(gammas + c_vk[:,k])\n",
    "    \n",
    "collapsed_gibbs_likelihoods = []\n",
    "for iters in tqdm(range(0,5)):\n",
    "    \n",
    "    # compute data likelihood\n",
    "    p = compute_data_likelihood(qs, topics_)\n",
    "    \n",
    "    #store likelihood\n",
    "    collapsed_gibbs_likelihoods.append(p)\n",
    "    \n",
    "    #print \"Iter %d, p=%.2f\" % (iters,p)\n",
    "    \n",
    "    # resample per-word topic assignments qs\n",
    "    qs, c_vk, c_ik, c_k = resample_topic_collaspsed(qs, docs_i, c_vk, c_ik, c_k)\n",
    "    \n",
    "     # resample topics - just for the likelihood\n",
    "    for k in xrange(K):\n",
    "        topics_[:, k] =  np.random.dirichlet(np.ones(V) + c_vk[:,k])\n",
    "    \n"
   ]
  },
  {
   "cell_type": "code",
   "execution_count": 16,
   "metadata": {
    "collapsed": false
   },
   "outputs": [
    {
     "name": "stdout",
     "output_type": "stream",
     "text": [
      "-5342536.27049\n"
     ]
    },
    {
     "data": {
      "image/png": "[encoded data removed]",
      "text/plain": [
       "<matplotlib.figure.Figure at 0x139a9b310>"
      ]
     },
     "metadata": {},
     "output_type": "display_data"
    }
   ],
   "source": [
    "import matplotlib.pyplot as plt\n",
    "full_gibbs_likelihoods[0]\n",
    "test = full_gibbs_likelihoods[1:]\n",
    "print test[0]\n",
    "plt.plot(range(5), full_gibbs_likelihoods, label='Full Gibbs')\n",
    "plt.plot(range(5), collapsed_gibbs_likelihoods, label='Collapsed Gibbs')\n",
    "plt.legend(bbox_to_anchor=(1.05, 1), loc=2, borderaxespad=0.)\n",
    "\n",
    "plt.show()"
   ]
  },
  {
   "cell_type": "code",
   "execution_count": 17,
   "metadata": {
    "collapsed": false
   },
   "outputs": [
    {
     "data": {
      "image/png": "[encoded data removed]",
      "text/plain": [
       "<matplotlib.figure.Figure at 0x10cf31dd0>"
      ]
     },
     "metadata": {},
     "output_type": "display_data"
    }
   ],
   "source": [
    "\n",
    "#pdtm = np.zeros((K,D)) \n",
    "# %pylab inline\n",
    "# pylab.rcParams['figure.figsize'] = (8.0, 8.0)\n",
    "\n",
    "plt.figure()\n",
    "plt.imshow(pdtm, interpolation='nearest', cmap='jet', aspect='auto')\n",
    "plt.title(\"Per document topic mixtures\")\n",
    "\n",
    "plt.tight_layout()\n",
    "plt.ylabel('topics')\n",
    "plt.xlabel('documents')\n",
    "plt.show()\n"
   ]
  },
  {
   "cell_type": "code",
   "execution_count": null,
   "metadata": {
    "collapsed": true
   },
   "outputs": [],
   "source": []
  }
 ],
 "metadata": {
  "anaconda-cloud": {},
  "kernelspec": {
   "display_name": "Python [default]",
   "language": "python",
   "name": "python2"
  },
  "language_info": {
   "codemirror_mode": {
    "name": "ipython",
    "version": 2
   },
   "file_extension": ".py",
   "mimetype": "text/x-python",
   "name": "python",
   "nbconvert_exporter": "python",
   "pygments_lexer": "ipython2",
   "version": "2.7.12"
  }
 },
 "nbformat": 4,
 "nbformat_minor": 1
}
