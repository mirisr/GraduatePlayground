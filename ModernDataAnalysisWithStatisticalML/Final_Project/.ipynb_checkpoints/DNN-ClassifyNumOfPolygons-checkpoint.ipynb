{
 "cells": [
  {
   "cell_type": "code",
   "execution_count": 1,
   "metadata": {
    "collapsed": false
   },
   "outputs": [],
   "source": [
    "#%matplotlib inline\n",
    "import tensorflow as tf\n",
    "import numpy as np\n",
    "import matplotlib\n",
    "import matplotlib.pyplot as plt\n",
    "import os\n",
    "from PIL import Image\n",
    "import random\n",
    "import time\n",
    "import sys\n",
    "from tqdm import tqdm\n",
    "\n",
    "\n",
    "\n",
    "batch_size = 100\n",
    "label_size = 5\n",
    "\n",
    "images = tf.placeholder( tf.float32, shape=[None, 25, 25, 2], name=\"images\" )\n",
    "labels = tf.placeholder( tf.float32, shape=[None, label_size], name=\"labels\" )\n",
    "\n",
    "l_rate =  1e-8\n",
    "\n",
    "# ==================================================================\n",
    "def load_imgs(labellist = [0,1], size=25, directory = \"class_dir/\", dirNames=[\"class1\", \"class2\"]):\n",
    "    data = np.zeros(( 25000, size, size,2))\n",
    "    labels = np.zeros(( 25000, len(dirNames) ))\n",
    "    index = 0\n",
    "    for label in labellist:\n",
    "    \t\n",
    "        file_dir = directory+dirNames[label]\n",
    "        filenamelist = os.listdir(file_dir)\n",
    "        keep = 5000 # how many in file do we load\n",
    "        filenamelist = filenamelist[:keep]\n",
    "        for i in xrange(keep):\n",
    "            fullfilepath = file_dir+\"/\"+filenamelist[i]\n",
    "            if \".DS_Store\" not in fullfilepath:\n",
    "                img = Image.open( fullfilepath.rstrip() )\n",
    "                data[ index, :, :] = np.array( img )\n",
    "                labels[ index ][label] = 1\n",
    "                index += 1\n",
    "\n",
    "\tc = list(zip(data, labels))\n",
    "    random.shuffle(c)\n",
    "    data, labels = zip(*c)\n",
    "\n",
    "    #reshape back to tensor dims\n",
    "    data = np.asarray(data)\n",
    "    labels = np.asarray(labels)\n",
    "\n",
    "    # # set some test data apart\n",
    "#     print data.shape\n",
    "#     print labels.shape\n",
    "    return data[:20000,:], labels[:20000,:], data[20000:,], labels[20000:,]\n",
    "\n",
    "def next_batch(s,e, data, labels):\n",
    "    #print \"trainSameImgs:\", trainSameImgs[0]\n",
    "    size = batch_size\n",
    "    #print \"size: \n",
    "    batchData = np.zeros(( size, 25, 25 , 2))\n",
    "    batchLabels = np.zeros((size, labels.shape[1] ))\n",
    "    trainImgs = data[s:e]\n",
    "    \n",
    "    for i in xrange(len(trainImgs)):\n",
    "        batchData [ i ] = data[i]\n",
    "        batchLabels[ i ] =  labels[i]\n",
    "\n",
    "    c = list(zip(batchData, batchLabels))\n",
    "    random.shuffle(c)\n",
    "    batchData, batchLabels = zip(*c)\n",
    "\n",
    "    return batchData, batchLabels\n",
    "\n",
    "#\n",
    "# ==================================================================\n",
    "# ==================================================================\n",
    "# ==================================================================\n",
    "#\n",
    "def max_pool_2x2(x):\n",
    "    #max_pool_2x2 downsamples a feature map by 2X.\n",
    "    return tf.nn.max_pool(x, ksize=[1, 2, 2, 1],\n",
    "                        strides=[1, 2, 2, 1], padding='SAME')\n",
    "\n",
    "def linear( in_var, output_size, name=\"linear\", stddev=0.02, bias_val=0.0 ):\n",
    "    shape = in_var.get_shape().as_list()\n",
    "    \n",
    "    with tf.variable_scope( name):\n",
    "        W = tf.get_variable( \"W\", [shape[1], output_size], tf.float32,\n",
    "                              tf.random_normal_initializer( stddev=stddev ) )\n",
    "       \n",
    "        b = tf.get_variable( \"b\", [output_size],\n",
    "                             initializer=tf.constant_initializer( bias_val ))\n",
    "\n",
    "        return tf.matmul( in_var, W ) + b\n",
    "    \n",
    "def lrelu( x, leak=0.2, name=\"lrelu\" ):\n",
    "    return tf.maximum( x, leak*x )\n",
    "\n",
    "def deconv2d( in_var, output_shape, name=\"deconv2d\", stddev=0.02, bias_val=0.0 ):\n",
    "    k_w = 5  # filter width/height\n",
    "    k_h = 5\n",
    "    d_h = 2  # x,y strides\n",
    "    d_w = 2\n",
    "\n",
    "    # [ height, width, in_channels, number of filters ]\n",
    "    var_shape = [ k_w, k_h, output_shape[-1], in_var.get_shape()[-1] ]\n",
    "\n",
    "    with tf.variable_scope( name):   \n",
    "        W = tf.get_variable( \"W\", var_shape,\n",
    "                             initializer=tf.truncated_normal_initializer( stddev=0.02 ) )\n",
    "        b = tf.get_variable( \"b\", [output_shape[-1]],\n",
    "                             initializer=tf.constant_initializer( bias_val ))\n",
    "\n",
    "        deconv = tf.nn.conv2d_transpose( in_var, W, output_shape=output_shape, strides=[1, d_h, d_w, 1] )\n",
    "        deconv = tf.reshape( tf.nn.bias_add( deconv, b), deconv.get_shape() )\n",
    "    \n",
    "        return deconv\n",
    "\n",
    "def conv2d( in_var, output_dim, name=\"conv2d\" ):\n",
    "    k_w = 5  # filter width/height\n",
    "    k_h = 5\n",
    "    d_h = 2  # x,y strides\n",
    "    d_w = 2\n",
    "\n",
    "    with tf.variable_scope( name):\n",
    "        W = tf.get_variable( \"W\", [k_h, k_w, in_var.get_shape()[-1], output_dim],\n",
    "                             initializer=tf.truncated_normal_initializer(stddev=0.02) )\n",
    "        b = tf.get_variable( \"b\", [output_dim], initializer=tf.constant_initializer(0.0) )\n",
    "\n",
    "        conv = tf.nn.conv2d( in_var, W, strides=[1, d_h, d_w, 1], padding='SAME' )\n",
    "        conv = tf.reshape( tf.nn.bias_add( conv, b ), conv.get_shape() )\n",
    "\n",
    "        return conv\n",
    "\n",
    "\n",
    "\n",
    "#\n",
    "# ==================================================================\n",
    "# ==================================================================\n",
    "# ==================================================================\n",
    "#\n",
    "\n",
    "# the discriminator should accept a (tensor of muliple) images and\n",
    "# return a probability that the image is *** creative or not ***\n",
    "# imgs will be [None, 25, 25, 2]\n",
    "\n",
    "def disc_model( imgs ):\n",
    "    #reshaping to make compatible with convolution\n",
    "    imgs = tf.reshape( imgs, [ batch_size, 25, 25, 2 ] )\n",
    "   \n",
    "    with tf.variable_scope( \"h0_conv\" ):\n",
    "        d_h0_con = conv2d( imgs, 32)\n",
    "        d_h0_con = lrelu(d_h0_con)\n",
    "        \n",
    "    with tf.variable_scope( \"h0_max_pool\" ):\n",
    "        # Pooling layer - downsamples by 2X.\n",
    "        d_pool1 = max_pool_2x2(d_h0_con)\n",
    "\n",
    "    with tf.variable_scope( \"h1_conv\" ):\n",
    "        d_h1_con = conv2d(d_pool1, 64)\n",
    "        d_h1_con = lrelu(d_h1_con)\n",
    "        \n",
    "    with tf.variable_scope( \"h1_max_pool\" ):\n",
    "        # Second pooling layer.\n",
    "        d_pool2 = max_pool_2x2(d_h1_con)\n",
    "        #reshaping 2d for linear\n",
    "        d_pool2_flat = tf.reshape( d_pool2, [ batch_size, -1 ] )\n",
    "        \n",
    "    with tf.variable_scope( \"h2_lin\" ):\n",
    "        d_h2_lin = linear( d_pool2_flat, 1024)\n",
    "        d_fc1 = tf.nn.relu(d_h2_lin)\n",
    "        \n",
    "    with tf.variable_scope( \"drop_out\" ):\n",
    "        h_fc1_drop = tf.nn.dropout(d_fc1, 0.5)\n",
    "        \n",
    "    with tf.variable_scope( \"h3_lin\" ):\n",
    "        d_h3_lin = linear(d_h2_lin, label_size) # 8 classes\n",
    "        \n",
    "    output = d_h3_lin \n",
    "    #output = tf.nn.sigmoid(d_h3_lin)\n",
    "    #output = tf.nn.softmax(d_h3_lin)\n",
    "\n",
    "    return output \n",
    "\n",
    "\n",
    "\n",
    "#======================================================================\n",
    "# Create computation graph with cost function\n",
    "\n",
    "with tf.variable_scope( \"ConvNet\" ) as scope:\n",
    "\tpredictions = disc_model(images)\n",
    "\n",
    "with tf.variable_scope( \"Loss\" ) as scope:\n",
    "    loss = tf.reduce_mean(tf.nn.softmax_cross_entropy_with_logits(labels=labels, logits=predictions))\n",
    "\n",
    "with tf.variable_scope( \"Optimizer\" ) as scope:\n",
    "\toptimizer = tf.train.AdamOptimizer(learning_rate = l_rate, beta1 = 0.5).minimize(loss)\n",
    "\n",
    "# Evaluate model\n",
    "correct_pred = tf.equal(tf.argmax(predictions, 1), tf.argmax(labels, 1))\n",
    "accuracy = tf.reduce_mean(tf.cast(correct_pred, tf.float32))\n",
    "\n",
    "# ======================================================================"
   ]
  },
  {
   "cell_type": "code",
   "execution_count": 2,
   "metadata": {
    "collapsed": false
   },
   "outputs": [
    {
     "name": "stdout",
     "output_type": "stream",
     "text": [
      "train_data (20000, 25, 25, 2) train_labels: (20000, 5)\n",
      "WARNING:tensorflow:From <ipython-input-2-61054a19cb5a>:10 in <module>.: initialize_all_variables (from tensorflow.python.ops.variables) is deprecated and will be removed after 2017-03-02.\n",
      "Instructions for updating:\n",
      "Use `tf.global_variables_initializer` instead.\n",
      "WARNING:tensorflow:From <ipython-input-2-61054a19cb5a>:11 in <module>.: __init__ (from tensorflow.python.training.summary_io) is deprecated and will be removed after 2016-11-30.\n",
      "Instructions for updating:\n",
      "Please switch to tf.summary.FileWriter. The interface and behavior is the same; this is just a rename.\n",
      "Staring Epochs...\n",
      "epoch 0  time: 10.393756 loss 1.69964 accuracy 0.23\n",
      "epoch 100  time: 10.856642 loss 1.57460 accuracy 0.31\n",
      "epoch 200  time: 10.973470 loss 1.49128 accuracy 0.56\n",
      "epoch 300  time: 12.298841 loss 1.36659 accuracy 0.60\n",
      "epoch 400  time: 10.847012 loss 1.22836 accuracy 0.64\n",
      "epoch 500  time: 11.359506 loss 1.09810 accuracy 0.70\n",
      "epoch 600  time: 10.081427 loss 0.98812 accuracy 0.73\n",
      "epoch 700  time: 11.125108 loss 0.89253 accuracy 0.76\n",
      "epoch 800  time: 10.710287 loss 0.80789 accuracy 0.80\n",
      "epoch 900  time: 10.041287 loss 0.73148 accuracy 0.84\n"
     ]
    }
   ],
   "source": [
    "train_data, train_labels, test_data, test_labels = load_imgs(labellist = [0,1,2,3,4], \n",
    "                                                             directory = \"sample_maps/\", \n",
    "                                                             dirNames=[\"map-1\", \"map-2\", \"map-3\", \"map-4\",\"map-5\"])\n",
    "\n",
    "print \"train_data\", train_data.shape, \"train_labels:\", train_labels.shape\n",
    "\n",
    "#Session\n",
    "#======================================================================\n",
    "sess = tf.Session()\n",
    "sess.run( tf.initialize_all_variables() )\n",
    "summary_writer = tf.train.SummaryWriter( \"./tf_logs\", graph=sess.graph )\n",
    "loss_over_time = []\n",
    "acc_over_time = []\n",
    "epochs = 3000\n",
    "print \"Staring Epochs...\"\n",
    "for i in range( epochs+1 ):\n",
    "    avg_loss = 0.\n",
    "    avg_acc = 0.\n",
    "    total_batch = int(train_data.shape[0]/batch_size)\n",
    "    \n",
    "    start_time = time.time()\n",
    "    # Loop over all batches\n",
    "    b = -1\n",
    "    for j in range(total_batch):\n",
    "        b+=1\n",
    "        s  = b * batch_size\n",
    "        e = (b+1) * batch_size\n",
    "#         if (i == 0):\n",
    "#             print \"batch:\", j ,\"/\",total_batch,\"s:\", s, \" e:\", e\n",
    "        batchData, batchLabels = next_batch(s, e, train_data, train_labels)\n",
    "        _,loss_value, tr_accuracy = sess.run([optimizer, loss, accuracy], feed_dict={images:batchData, labels:batchLabels})\n",
    "\n",
    "        avg_acc += tr_accuracy\n",
    "        avg_loss += loss_value\n",
    "\n",
    "    duration = time.time() - start_time\n",
    "    loss_over_time.append(avg_loss/(total_batch))\n",
    "    acc_over_time.append(float(avg_acc)/total_batch)\n",
    "    \n",
    "    if i % 200 == 0:\n",
    "    \tprint('epoch %d  time: %f loss %0.5f accuracy %0.2f' %(i,duration,avg_loss/(total_batch),float(avg_acc)/total_batch))\n",
    "    sys.stdout.flush()\n",
    "\n"
   ]
  },
  {
   "cell_type": "code",
   "execution_count": 3,
   "metadata": {
    "collapsed": false
   },
   "outputs": [
    {
     "name": "stdout",
     "output_type": "stream",
     "text": [
      "test_data (5000, 25, 25, 2) test_labels: (5000, 5)\n",
      "-----------test model----------\n",
      "Test Accuracy: 0.66\n"
     ]
    }
   ],
   "source": [
    "print \"test_data\", test_data.shape, \"test_labels:\", test_labels.shape\n",
    "print \"-----------test model----------\"\n",
    "# Test model\n",
    "avg_acc = 0.\n",
    "total_batch = int((len(test_data))/batch_size)\n",
    "b = -1\n",
    "\n",
    "for j in range(total_batch):\n",
    "    b+=1\n",
    "    s  = b * batch_size\n",
    "    e = (b+1) *batch_size\n",
    "    # Fit training using batch data\n",
    "    batchData1, batchLabels = next_batch(s, e, test_data, test_labels)\n",
    "    tr_accuracy = sess.run(accuracy, feed_dict={images:batchData1, labels:batchLabels})\n",
    "    avg_acc += tr_accuracy  \n",
    "\n",
    "print \"Test Accuracy: %0.2f\" % (float(avg_acc)/total_batch)"
   ]
  },
  {
   "cell_type": "code",
   "execution_count": 4,
   "metadata": {
    "collapsed": false
   },
   "outputs": [
    {
     "name": "stdout",
     "output_type": "stream",
     "text": [
      "Staring Epochs...\n",
      "epoch 1000  time: 11.918036 loss 0.66043 accuracy 0.85\n",
      "epoch 1100  time: 10.059635 loss 0.59574 accuracy 0.86\n"
     ]
    }
   ],
   "source": [
    "\n",
    "print \"Staring Epochs...\"\n",
    "for i in range( 1000,1200):\n",
    "    avg_loss = 0.\n",
    "    avg_acc = 0.\n",
    "    total_batch = int(train_data.shape[0]/batch_size)\n",
    "    \n",
    "    start_time = time.time()\n",
    "    # Loop over all batches\n",
    "    b = -1\n",
    "    for j in range(total_batch):\n",
    "        b+=1\n",
    "        s  = b * batch_size\n",
    "        e = (b+1) * batch_size\n",
    "#         if (i == 0):\n",
    "#             print \"batch:\", j ,\"/\",total_batch,\"s:\", s, \" e:\", e\n",
    "        batchData, batchLabels = next_batch(s, e, train_data, train_labels)\n",
    "        _,loss_value, tr_accuracy = sess.run([optimizer, loss, accuracy], feed_dict={images:batchData, labels:batchLabels})\n",
    "\n",
    "        avg_acc += tr_accuracy\n",
    "        avg_loss += loss_value\n",
    "\n",
    "    duration = time.time() - start_time\n",
    "    loss_over_time.append(avg_loss/(total_batch))\n",
    "    acc_over_time.append(float(avg_acc)/total_batch)\n",
    "    \n",
    "    if i % 100 == 0:\n",
    "    \tprint('epoch %d  time: %f loss %0.5f accuracy %0.2f' %(i,duration,avg_loss/(total_batch),float(avg_acc)/total_batch))\n",
    "    sys.stdout.flush()\n",
    "\n",
    "\n"
   ]
  },
  {
   "cell_type": "code",
   "execution_count": 5,
   "metadata": {
    "collapsed": false
   },
   "outputs": [
    {
     "name": "stdout",
     "output_type": "stream",
     "text": [
      "Staring Epochs...\n",
      "epoch 1200  time: 13.295492 loss 0.53809 accuracy 0.89\n",
      "epoch 1300  time: 11.022118 loss 0.48427 accuracy 0.90\n",
      "epoch 1400  time: 11.594887 loss 0.43495 accuracy 0.92\n",
      "epoch 1500  time: 10.227123 loss 0.38896 accuracy 0.93\n"
     ]
    }
   ],
   "source": [
    "print \"Staring Epochs...\"\n",
    "for i in range( 1200, 1501):\n",
    "    avg_loss = 0.\n",
    "    avg_acc = 0.\n",
    "    total_batch = int(train_data.shape[0]/batch_size)\n",
    "    \n",
    "    start_time = time.time()\n",
    "    # Loop over all batches\n",
    "    b = -1\n",
    "    for j in range(total_batch):\n",
    "        b+=1\n",
    "        s  = b * batch_size\n",
    "        e = (b+1) * batch_size\n",
    "#         if (i == 0):\n",
    "#             print \"batch:\", j ,\"/\",total_batch,\"s:\", s, \" e:\", e\n",
    "        batchData, batchLabels = next_batch(s, e, train_data, train_labels)\n",
    "        _,loss_value, tr_accuracy = sess.run([optimizer, loss, accuracy], feed_dict={images:batchData, labels:batchLabels})\n",
    "\n",
    "        avg_acc += tr_accuracy\n",
    "        avg_loss += loss_value\n",
    "\n",
    "    duration = time.time() - start_time\n",
    "    loss_over_time.append(avg_loss/(total_batch))\n",
    "    acc_over_time.append(float(avg_acc)/total_batch)\n",
    "    \n",
    "    if i % 100 == 0:\n",
    "    \tprint('epoch %d  time: %f loss %0.5f accuracy %0.2f' %(i,duration,avg_loss/(total_batch),float(avg_acc)/total_batch))\n",
    "    sys.stdout.flush()"
   ]
  },
  {
   "cell_type": "code",
   "execution_count": 6,
   "metadata": {
    "collapsed": false
   },
   "outputs": [
    {
     "name": "stdout",
     "output_type": "stream",
     "text": [
      "test_data (5000, 25, 25, 2) test_labels: (5000, 5)\n",
      "-----------test model----------\n",
      "Test Accuracy: 0.70\n"
     ]
    }
   ],
   "source": [
    "print \"test_data\", test_data.shape, \"test_labels:\", test_labels.shape\n",
    "print \"-----------test model----------\"\n",
    "# Test model\n",
    "avg_acc = 0.\n",
    "total_batch = int((len(test_data))/batch_size)\n",
    "b = -1\n",
    "\n",
    "for j in range(total_batch):\n",
    "    b+=1\n",
    "    s  = b * batch_size\n",
    "    e = (b+1) *batch_size\n",
    "    # Fit training using batch data\n",
    "    batchData1, batchLabels = next_batch(s, e, test_data, test_labels)\n",
    "    tr_accuracy = sess.run(accuracy, feed_dict={images:batchData1, labels:batchLabels})\n",
    "    avg_acc += tr_accuracy  \n",
    "\n",
    "print \"Test Accuracy: %0.2f\" % (float(avg_acc)/total_batch)"
   ]
  },
  {
   "cell_type": "code",
   "execution_count": 9,
   "metadata": {
    "collapsed": false
   },
   "outputs": [
    {
     "name": "stdout",
     "output_type": "stream",
     "text": [
      "Staring Epochs...\n"
     ]
    },
    {
     "ename": "KeyboardInterrupt",
     "evalue": "",
     "output_type": "error",
     "traceback": [
      "\u001b[0;31m---------------------------------------------------------------------------\u001b[0m",
      "\u001b[0;31mKeyboardInterrupt\u001b[0m                         Traceback (most recent call last)",
      "\u001b[0;32m<ipython-input-9-af93a0a12fe8>\u001b[0m in \u001b[0;36m<module>\u001b[0;34m()\u001b[0m\n\u001b[1;32m     15\u001b[0m \u001b[0;31m#             print \"batch:\", j ,\"/\",total_batch,\"s:\", s, \" e:\", e\u001b[0m\u001b[0;34m\u001b[0m\u001b[0;34m\u001b[0m\u001b[0m\n\u001b[1;32m     16\u001b[0m         \u001b[0mbatchData\u001b[0m\u001b[0;34m,\u001b[0m \u001b[0mbatchLabels\u001b[0m \u001b[0;34m=\u001b[0m \u001b[0mnext_batch\u001b[0m\u001b[0;34m(\u001b[0m\u001b[0ms\u001b[0m\u001b[0;34m,\u001b[0m \u001b[0me\u001b[0m\u001b[0;34m,\u001b[0m \u001b[0mtrain_data\u001b[0m\u001b[0;34m,\u001b[0m \u001b[0mtrain_labels\u001b[0m\u001b[0;34m)\u001b[0m\u001b[0;34m\u001b[0m\u001b[0m\n\u001b[0;32m---> 17\u001b[0;31m         \u001b[0m_\u001b[0m\u001b[0;34m,\u001b[0m\u001b[0mloss_value\u001b[0m\u001b[0;34m,\u001b[0m \u001b[0mtr_accuracy\u001b[0m \u001b[0;34m=\u001b[0m \u001b[0msess\u001b[0m\u001b[0;34m.\u001b[0m\u001b[0mrun\u001b[0m\u001b[0;34m(\u001b[0m\u001b[0;34m[\u001b[0m\u001b[0moptimizer\u001b[0m\u001b[0;34m,\u001b[0m \u001b[0mloss\u001b[0m\u001b[0;34m,\u001b[0m \u001b[0maccuracy\u001b[0m\u001b[0;34m]\u001b[0m\u001b[0;34m,\u001b[0m \u001b[0mfeed_dict\u001b[0m\u001b[0;34m=\u001b[0m\u001b[0;34m{\u001b[0m\u001b[0mimages\u001b[0m\u001b[0;34m:\u001b[0m\u001b[0mbatchData\u001b[0m\u001b[0;34m,\u001b[0m \u001b[0mlabels\u001b[0m\u001b[0;34m:\u001b[0m\u001b[0mbatchLabels\u001b[0m\u001b[0;34m}\u001b[0m\u001b[0;34m)\u001b[0m\u001b[0;34m\u001b[0m\u001b[0m\n\u001b[0m\u001b[1;32m     18\u001b[0m \u001b[0;34m\u001b[0m\u001b[0m\n\u001b[1;32m     19\u001b[0m         \u001b[0mavg_acc\u001b[0m \u001b[0;34m+=\u001b[0m \u001b[0mtr_accuracy\u001b[0m\u001b[0;34m\u001b[0m\u001b[0m\n",
      "\u001b[0;32m/Users/Iris/anaconda/lib/python2.7/site-packages/tensorflow/python/client/session.pyc\u001b[0m in \u001b[0;36mrun\u001b[0;34m(self, fetches, feed_dict, options, run_metadata)\u001b[0m\n\u001b[1;32m    764\u001b[0m     \u001b[0;32mtry\u001b[0m\u001b[0;34m:\u001b[0m\u001b[0;34m\u001b[0m\u001b[0m\n\u001b[1;32m    765\u001b[0m       result = self._run(None, fetches, feed_dict, options_ptr,\n\u001b[0;32m--> 766\u001b[0;31m                          run_metadata_ptr)\n\u001b[0m\u001b[1;32m    767\u001b[0m       \u001b[0;32mif\u001b[0m \u001b[0mrun_metadata\u001b[0m\u001b[0;34m:\u001b[0m\u001b[0;34m\u001b[0m\u001b[0m\n\u001b[1;32m    768\u001b[0m         \u001b[0mproto_data\u001b[0m \u001b[0;34m=\u001b[0m \u001b[0mtf_session\u001b[0m\u001b[0;34m.\u001b[0m\u001b[0mTF_GetBuffer\u001b[0m\u001b[0;34m(\u001b[0m\u001b[0mrun_metadata_ptr\u001b[0m\u001b[0;34m)\u001b[0m\u001b[0;34m\u001b[0m\u001b[0m\n",
      "\u001b[0;32m/Users/Iris/anaconda/lib/python2.7/site-packages/tensorflow/python/client/session.pyc\u001b[0m in \u001b[0;36m_run\u001b[0;34m(self, handle, fetches, feed_dict, options, run_metadata)\u001b[0m\n\u001b[1;32m    962\u001b[0m     \u001b[0;32mif\u001b[0m \u001b[0mfinal_fetches\u001b[0m \u001b[0;32mor\u001b[0m \u001b[0mfinal_targets\u001b[0m\u001b[0;34m:\u001b[0m\u001b[0;34m\u001b[0m\u001b[0m\n\u001b[1;32m    963\u001b[0m       results = self._do_run(handle, final_targets, final_fetches,\n\u001b[0;32m--> 964\u001b[0;31m                              feed_dict_string, options, run_metadata)\n\u001b[0m\u001b[1;32m    965\u001b[0m     \u001b[0;32melse\u001b[0m\u001b[0;34m:\u001b[0m\u001b[0;34m\u001b[0m\u001b[0m\n\u001b[1;32m    966\u001b[0m       \u001b[0mresults\u001b[0m \u001b[0;34m=\u001b[0m \u001b[0;34m[\u001b[0m\u001b[0;34m]\u001b[0m\u001b[0;34m\u001b[0m\u001b[0m\n",
      "\u001b[0;32m/Users/Iris/anaconda/lib/python2.7/site-packages/tensorflow/python/client/session.pyc\u001b[0m in \u001b[0;36m_do_run\u001b[0;34m(self, handle, target_list, fetch_list, feed_dict, options, run_metadata)\u001b[0m\n\u001b[1;32m   1012\u001b[0m     \u001b[0;32mif\u001b[0m \u001b[0mhandle\u001b[0m \u001b[0;32mis\u001b[0m \u001b[0mNone\u001b[0m\u001b[0;34m:\u001b[0m\u001b[0;34m\u001b[0m\u001b[0m\n\u001b[1;32m   1013\u001b[0m       return self._do_call(_run_fn, self._session, feed_dict, fetch_list,\n\u001b[0;32m-> 1014\u001b[0;31m                            target_list, options, run_metadata)\n\u001b[0m\u001b[1;32m   1015\u001b[0m     \u001b[0;32melse\u001b[0m\u001b[0;34m:\u001b[0m\u001b[0;34m\u001b[0m\u001b[0m\n\u001b[1;32m   1016\u001b[0m       return self._do_call(_prun_fn, self._session, handle, feed_dict,\n",
      "\u001b[0;32m/Users/Iris/anaconda/lib/python2.7/site-packages/tensorflow/python/client/session.pyc\u001b[0m in \u001b[0;36m_do_call\u001b[0;34m(self, fn, *args)\u001b[0m\n\u001b[1;32m   1019\u001b[0m   \u001b[0;32mdef\u001b[0m \u001b[0m_do_call\u001b[0m\u001b[0;34m(\u001b[0m\u001b[0mself\u001b[0m\u001b[0;34m,\u001b[0m \u001b[0mfn\u001b[0m\u001b[0;34m,\u001b[0m \u001b[0;34m*\u001b[0m\u001b[0margs\u001b[0m\u001b[0;34m)\u001b[0m\u001b[0;34m:\u001b[0m\u001b[0;34m\u001b[0m\u001b[0m\n\u001b[1;32m   1020\u001b[0m     \u001b[0;32mtry\u001b[0m\u001b[0;34m:\u001b[0m\u001b[0;34m\u001b[0m\u001b[0m\n\u001b[0;32m-> 1021\u001b[0;31m       \u001b[0;32mreturn\u001b[0m \u001b[0mfn\u001b[0m\u001b[0;34m(\u001b[0m\u001b[0;34m*\u001b[0m\u001b[0margs\u001b[0m\u001b[0;34m)\u001b[0m\u001b[0;34m\u001b[0m\u001b[0m\n\u001b[0m\u001b[1;32m   1022\u001b[0m     \u001b[0;32mexcept\u001b[0m \u001b[0merrors\u001b[0m\u001b[0;34m.\u001b[0m\u001b[0mOpError\u001b[0m \u001b[0;32mas\u001b[0m \u001b[0me\u001b[0m\u001b[0;34m:\u001b[0m\u001b[0;34m\u001b[0m\u001b[0m\n\u001b[1;32m   1023\u001b[0m       \u001b[0mmessage\u001b[0m \u001b[0;34m=\u001b[0m \u001b[0mcompat\u001b[0m\u001b[0;34m.\u001b[0m\u001b[0mas_text\u001b[0m\u001b[0;34m(\u001b[0m\u001b[0me\u001b[0m\u001b[0;34m.\u001b[0m\u001b[0mmessage\u001b[0m\u001b[0;34m)\u001b[0m\u001b[0;34m\u001b[0m\u001b[0m\n",
      "\u001b[0;32m/Users/Iris/anaconda/lib/python2.7/site-packages/tensorflow/python/client/session.pyc\u001b[0m in \u001b[0;36m_run_fn\u001b[0;34m(session, feed_dict, fetch_list, target_list, options, run_metadata)\u001b[0m\n\u001b[1;32m   1001\u001b[0m         return tf_session.TF_Run(session, options,\n\u001b[1;32m   1002\u001b[0m                                  \u001b[0mfeed_dict\u001b[0m\u001b[0;34m,\u001b[0m \u001b[0mfetch_list\u001b[0m\u001b[0;34m,\u001b[0m \u001b[0mtarget_list\u001b[0m\u001b[0;34m,\u001b[0m\u001b[0;34m\u001b[0m\u001b[0m\n\u001b[0;32m-> 1003\u001b[0;31m                                  status, run_metadata)\n\u001b[0m\u001b[1;32m   1004\u001b[0m \u001b[0;34m\u001b[0m\u001b[0m\n\u001b[1;32m   1005\u001b[0m     \u001b[0;32mdef\u001b[0m \u001b[0m_prun_fn\u001b[0m\u001b[0;34m(\u001b[0m\u001b[0msession\u001b[0m\u001b[0;34m,\u001b[0m \u001b[0mhandle\u001b[0m\u001b[0;34m,\u001b[0m \u001b[0mfeed_dict\u001b[0m\u001b[0;34m,\u001b[0m \u001b[0mfetch_list\u001b[0m\u001b[0;34m)\u001b[0m\u001b[0;34m:\u001b[0m\u001b[0;34m\u001b[0m\u001b[0m\n",
      "\u001b[0;31mKeyboardInterrupt\u001b[0m: "
     ]
    }
   ],
   "source": [
    "print \"Staring Epochs...\"\n",
    "for i in range( 1500, 1801):\n",
    "    avg_loss = 0.\n",
    "    avg_acc = 0.\n",
    "    total_batch = int(train_data.shape[0]/batch_size)\n",
    "    \n",
    "    start_time = time.time()\n",
    "    # Loop over all batches\n",
    "    b = -1\n",
    "    for j in range(total_batch):\n",
    "        b+=1\n",
    "        s  = b * batch_size\n",
    "        e = (b+1) * batch_size\n",
    "#         if (i == 0):\n",
    "#             print \"batch:\", j ,\"/\",total_batch,\"s:\", s, \" e:\", e\n",
    "        batchData, batchLabels = next_batch(s, e, train_data, train_labels)\n",
    "        _,loss_value, tr_accuracy = sess.run([optimizer, loss, accuracy], feed_dict={images:batchData, labels:batchLabels})\n",
    "\n",
    "        avg_acc += tr_accuracy\n",
    "        avg_loss += loss_value\n",
    "\n",
    "    duration = time.time() - start_time\n",
    "    loss_over_time.append(avg_loss/(total_batch))\n",
    "    acc_over_time.append(float(avg_acc)/total_batch)\n",
    "    \n",
    "    if i % 100 == 0:\n",
    "    \tprint('epoch %d  time: %f loss %0.5f accuracy %0.2f' %(i,duration,avg_loss/(total_batch),float(avg_acc)/total_batch))\n",
    "    sys.stdout.flush()"
   ]
  },
  {
   "cell_type": "code",
   "execution_count": 12,
   "metadata": {
    "collapsed": false
   },
   "outputs": [
    {
     "name": "stdout",
     "output_type": "stream",
     "text": [
      "test_data (5000, 25, 25, 2) test_labels: (5000, 5)\n",
      "-----------test model----------\n",
      "Test Accuracy: 0.68\n"
     ]
    }
   ],
   "source": [
    "print \"test_data\", test_data.shape, \"test_labels:\", test_labels.shape\n",
    "print \"-----------test model----------\"\n",
    "# Test model\n",
    "avg_acc = 0.\n",
    "total_batch = int((len(test_data))/batch_size)\n",
    "b = -1\n",
    "\n",
    "for j in range(total_batch):\n",
    "    b+=1\n",
    "    s  = b * batch_size\n",
    "    e = (b+1) *batch_size\n",
    "    # Fit training using batch data\n",
    "    batchData1, batchLabels = next_batch(s, e, test_data, test_labels)\n",
    "    tr_accuracy = sess.run(accuracy, feed_dict={images:batchData1, labels:batchLabels})\n",
    "    avg_acc += tr_accuracy  \n",
    "\n",
    "print \"Test Accuracy: %0.2f\" % (float(avg_acc)/total_batch)"
   ]
  },
  {
   "cell_type": "code",
   "execution_count": 7,
   "metadata": {
    "collapsed": false
   },
   "outputs": [
    {
     "name": "stdout",
     "output_type": "stream",
     "text": [
      "Staring Epochs...\n",
      "epoch 4500  time: 3.635384 loss 0.47736 accuracy 0.89\n",
      "epoch 4600  time: 3.668630 loss 0.45986 accuracy 0.90\n",
      "epoch 4700  time: 3.323619 loss 0.44272 accuracy 0.90\n",
      "epoch 4800  time: 3.011634 loss 0.42598 accuracy 0.91\n",
      "epoch 4900  time: 3.250609 loss 0.40960 accuracy 0.92\n",
      "epoch 5000  time: 2.996052 loss 0.39354 accuracy 0.93\n",
      "epoch 5100  time: 4.037211 loss 0.37786 accuracy 0.94\n",
      "epoch 5200  time: 3.152260 loss 0.36212 accuracy 0.94\n",
      "epoch 5300  time: 4.155965 loss 0.34710 accuracy 0.95\n",
      "epoch 5400  time: 4.400454 loss 0.33245 accuracy 0.95\n",
      "epoch 5500  time: 3.370506 loss 0.31818 accuracy 0.95\n",
      "epoch 5600  time: 3.328202 loss 0.30419 accuracy 0.96\n",
      "epoch 5700  time: 3.703846 loss 0.29066 accuracy 0.97\n",
      "epoch 5800  time: 3.689494 loss 0.27750 accuracy 0.98\n",
      "epoch 5900  time: 4.635219 loss 0.26471 accuracy 0.99\n"
     ]
    }
   ],
   "source": [
    "print \"Staring Epochs...\"\n",
    "for i in range( 4500, 6000):\n",
    "    avg_loss = 0.\n",
    "    avg_acc = 0.\n",
    "    total_batch = int(train_data.shape[0]/batch_size)\n",
    "    \n",
    "    start_time = time.time()\n",
    "    # Loop over all batches\n",
    "    b = -1\n",
    "    for j in range(total_batch):\n",
    "        b+=1\n",
    "        s  = b * batch_size\n",
    "        e = (b+1) * batch_size\n",
    "#         if (i == 0):\n",
    "#             print \"batch:\", j ,\"/\",total_batch,\"s:\", s, \" e:\", e\n",
    "        batchData, batchLabels = next_batch(s, e, train_data, train_labels)\n",
    "        _,loss_value, tr_accuracy = sess.run([optimizer, loss, accuracy], feed_dict={images:batchData, labels:batchLabels})\n",
    "\n",
    "        avg_acc += tr_accuracy\n",
    "        avg_loss += loss_value\n",
    "\n",
    "    duration = time.time() - start_time\n",
    "    loss_over_time.append(avg_loss/(total_batch))\n",
    "    acc_over_time.append(float(avg_acc)/total_batch)\n",
    "    \n",
    "    if i % 100 == 0:\n",
    "    \tprint('epoch %d  time: %f loss %0.5f accuracy %0.2f' %(i,duration,avg_loss/(total_batch),float(avg_acc)/total_batch))\n",
    "    sys.stdout.flush()"
   ]
  },
  {
   "cell_type": "code",
   "execution_count": 8,
   "metadata": {
    "collapsed": false
   },
   "outputs": [
    {
     "name": "stdout",
     "output_type": "stream",
     "text": [
      "test_data (2000, 25, 25, 2) test_labels: (2000, 8)\n",
      "-----------test model----------\n",
      "Test Accuracy: 0.43\n"
     ]
    }
   ],
   "source": [
    "print \"test_data\", test_data.shape, \"test_labels:\", test_labels.shape\n",
    "print \"-----------test model----------\"\n",
    "# Test model\n",
    "avg_acc = 0.\n",
    "total_batch = int((len(test_data))/batch_size)\n",
    "b = -1\n",
    "\n",
    "for j in range(total_batch):\n",
    "    b+=1\n",
    "    s  = b * batch_size\n",
    "    e = (b+1) *batch_size\n",
    "    # Fit training using batch data\n",
    "    batchData1, batchLabels = next_batch(s, e, test_data, test_labels)\n",
    "    tr_accuracy = sess.run(accuracy, feed_dict={images:batchData1, labels:batchLabels})\n",
    "    avg_acc += tr_accuracy  \n",
    "\n",
    "print \"Test Accuracy: %0.2f\" % (float(avg_acc)/total_batch)\n"
   ]
  },
  {
   "cell_type": "code",
   "execution_count": 18,
   "metadata": {
    "collapsed": false
   },
   "outputs": [
    {
     "name": "stdout",
     "output_type": "stream",
     "text": [
      "1802\n"
     ]
    },
    {
     "data": {
      "image/png": "[encoded data removed]",
      "text/plain": [
       "<matplotlib.figure.Figure at 0x11eb32a10>"
      ]
     },
     "metadata": {},
     "output_type": "display_data"
    },
    {
     "data": {
      "image/png": "[encoded data removed]",
      "text/plain": [
       "<matplotlib.figure.Figure at 0x11ebead10>"
      ]
     },
     "metadata": {},
     "output_type": "display_data"
    }
   ],
   "source": [
    "import seaborn\n",
    "\n",
    "print len(loss_over_time)\n",
    "plt.title(\"Loss\\n Learning Rate: 1e-7 \\n Batch Size: 100, Training Size: 20,000\\n5 Classes\")\n",
    "plt.plot(np.arange(1802), loss_over_time, color='red', linestyle=\"--\",\n",
    "         linewidth=2, label='Loss')\n",
    "\n",
    "#plt.legend(bbox_to_anchor=(1.05, 1), loc=2, borderaxespad=0.)\n",
    "plt.show()\n",
    "\n",
    "plt.title(\"Accuracy\\n Learning Rate: 1e-7 \\n Batch Size: 100, Training Size: 20,000\\n5 Classes \")\n",
    "plt.plot(np.arange(1802), acc_over_time, color='blue', linestyle='-',\n",
    "         linewidth=2, label='Accuracy')\n",
    "#plt.legend(bbox_to_anchor=(1.05, 1), loc=2, borderaxespad=0.)\n",
    "plt.show()\n",
    "\n"
   ]
  },
  {
   "cell_type": "code",
   "execution_count": null,
   "metadata": {
    "collapsed": true
   },
   "outputs": [],
   "source": []
  }
 ],
 "metadata": {
  "anaconda-cloud": {},
  "kernelspec": {
   "display_name": "Python [conda root]",
   "language": "python",
   "name": "conda-root-py"
  },
  "language_info": {
   "codemirror_mode": {
    "name": "ipython",
    "version": 2
   },
   "file_extension": ".py",
   "mimetype": "text/x-python",
   "name": "python",
   "nbconvert_exporter": "python",
   "pygments_lexer": "ipython2",
   "version": "2.7.12"
  }
 },
 "nbformat": 4,
 "nbformat_minor": 1
}
