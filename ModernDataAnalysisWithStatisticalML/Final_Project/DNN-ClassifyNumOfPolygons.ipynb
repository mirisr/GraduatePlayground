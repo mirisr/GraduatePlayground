{
 "cells": [
  {
   "cell_type": "code",
   "execution_count": 16,
   "metadata": {
    "collapsed": false
   },
   "outputs": [
    {
     "ename": "ValueError",
     "evalue": "Variable ConvNet/h0_conv/conv2d/W already exists, disallowed. Did you mean to set reuse=True in VarScope? Originally defined at:\n\n  File \"<ipython-input-1-f16b493e368b>\", line 126, in conv2d\n    initializer=tf.truncated_normal_initializer(stddev=0.02) )\n  File \"<ipython-input-1-f16b493e368b>\", line 151, in disc_model\n    d_h0_con = conv2d( imgs, 32)\n  File \"<ipython-input-1-f16b493e368b>\", line 190, in <module>\n    predictions = disc_model(images)\n",
     "output_type": "error",
     "traceback": [
      "\u001b[0;31m---------------------------------------------------------------------------\u001b[0m",
      "\u001b[0;31mValueError\u001b[0m                                Traceback (most recent call last)",
      "\u001b[0;32m<ipython-input-16-ebed7a08ed8f>\u001b[0m in \u001b[0;36m<module>\u001b[0;34m()\u001b[0m\n\u001b[1;32m    188\u001b[0m \u001b[0;34m\u001b[0m\u001b[0m\n\u001b[1;32m    189\u001b[0m \u001b[0;32mwith\u001b[0m \u001b[0mtf\u001b[0m\u001b[0;34m.\u001b[0m\u001b[0mvariable_scope\u001b[0m\u001b[0;34m(\u001b[0m \u001b[0;34m\"ConvNet\"\u001b[0m \u001b[0;34m)\u001b[0m \u001b[0;32mas\u001b[0m \u001b[0mscope\u001b[0m\u001b[0;34m:\u001b[0m\u001b[0;34m\u001b[0m\u001b[0m\n\u001b[0;32m--> 190\u001b[0;31m         \u001b[0mpredictions\u001b[0m \u001b[0;34m=\u001b[0m \u001b[0mdisc_model\u001b[0m\u001b[0;34m(\u001b[0m\u001b[0mimages\u001b[0m\u001b[0;34m)\u001b[0m\u001b[0;34m\u001b[0m\u001b[0m\n\u001b[0m\u001b[1;32m    191\u001b[0m \u001b[0;34m\u001b[0m\u001b[0m\n\u001b[1;32m    192\u001b[0m \u001b[0;32mwith\u001b[0m \u001b[0mtf\u001b[0m\u001b[0;34m.\u001b[0m\u001b[0mvariable_scope\u001b[0m\u001b[0;34m(\u001b[0m \u001b[0;34m\"Loss\"\u001b[0m \u001b[0;34m)\u001b[0m \u001b[0;32mas\u001b[0m \u001b[0mscope\u001b[0m\u001b[0;34m:\u001b[0m\u001b[0;34m\u001b[0m\u001b[0m\n",
      "\u001b[0;32m<ipython-input-16-ebed7a08ed8f>\u001b[0m in \u001b[0;36mdisc_model\u001b[0;34m(imgs)\u001b[0m\n\u001b[1;32m    149\u001b[0m \u001b[0;34m\u001b[0m\u001b[0m\n\u001b[1;32m    150\u001b[0m     \u001b[0;32mwith\u001b[0m \u001b[0mtf\u001b[0m\u001b[0;34m.\u001b[0m\u001b[0mvariable_scope\u001b[0m\u001b[0;34m(\u001b[0m \u001b[0;34m\"h0_conv\"\u001b[0m \u001b[0;34m)\u001b[0m\u001b[0;34m:\u001b[0m\u001b[0;34m\u001b[0m\u001b[0m\n\u001b[0;32m--> 151\u001b[0;31m         \u001b[0md_h0_con\u001b[0m \u001b[0;34m=\u001b[0m \u001b[0mconv2d\u001b[0m\u001b[0;34m(\u001b[0m \u001b[0mimgs\u001b[0m\u001b[0;34m,\u001b[0m \u001b[0;36m32\u001b[0m\u001b[0;34m)\u001b[0m\u001b[0;34m\u001b[0m\u001b[0m\n\u001b[0m\u001b[1;32m    152\u001b[0m         \u001b[0md_h0_con\u001b[0m \u001b[0;34m=\u001b[0m \u001b[0mlrelu\u001b[0m\u001b[0;34m(\u001b[0m\u001b[0md_h0_con\u001b[0m\u001b[0;34m)\u001b[0m\u001b[0;34m\u001b[0m\u001b[0m\n\u001b[1;32m    153\u001b[0m \u001b[0;34m\u001b[0m\u001b[0m\n",
      "\u001b[0;32m<ipython-input-16-ebed7a08ed8f>\u001b[0m in \u001b[0;36mconv2d\u001b[0;34m(in_var, output_dim, name)\u001b[0m\n\u001b[1;32m    124\u001b[0m     \u001b[0;32mwith\u001b[0m \u001b[0mtf\u001b[0m\u001b[0;34m.\u001b[0m\u001b[0mvariable_scope\u001b[0m\u001b[0;34m(\u001b[0m \u001b[0mname\u001b[0m\u001b[0;34m)\u001b[0m\u001b[0;34m:\u001b[0m\u001b[0;34m\u001b[0m\u001b[0m\n\u001b[1;32m    125\u001b[0m         W = tf.get_variable( \"W\", [k_h, k_w, in_var.get_shape()[-1], output_dim],\n\u001b[0;32m--> 126\u001b[0;31m                              initializer=tf.truncated_normal_initializer(stddev=0.02) )\n\u001b[0m\u001b[1;32m    127\u001b[0m         \u001b[0mb\u001b[0m \u001b[0;34m=\u001b[0m \u001b[0mtf\u001b[0m\u001b[0;34m.\u001b[0m\u001b[0mget_variable\u001b[0m\u001b[0;34m(\u001b[0m \u001b[0;34m\"b\"\u001b[0m\u001b[0;34m,\u001b[0m \u001b[0;34m[\u001b[0m\u001b[0moutput_dim\u001b[0m\u001b[0;34m]\u001b[0m\u001b[0;34m,\u001b[0m \u001b[0minitializer\u001b[0m\u001b[0;34m=\u001b[0m\u001b[0mtf\u001b[0m\u001b[0;34m.\u001b[0m\u001b[0mconstant_initializer\u001b[0m\u001b[0;34m(\u001b[0m\u001b[0;36m0.0\u001b[0m\u001b[0;34m)\u001b[0m \u001b[0;34m)\u001b[0m\u001b[0;34m\u001b[0m\u001b[0m\n\u001b[1;32m    128\u001b[0m \u001b[0;34m\u001b[0m\u001b[0m\n",
      "\u001b[0;32m/Users/Iris/anaconda/lib/python2.7/site-packages/tensorflow/python/ops/variable_scope.pyc\u001b[0m in \u001b[0;36mget_variable\u001b[0;34m(name, shape, dtype, initializer, regularizer, trainable, collections, caching_device, partitioner, validate_shape, custom_getter)\u001b[0m\n\u001b[1;32m   1022\u001b[0m       \u001b[0mcollections\u001b[0m\u001b[0;34m=\u001b[0m\u001b[0mcollections\u001b[0m\u001b[0;34m,\u001b[0m \u001b[0mcaching_device\u001b[0m\u001b[0;34m=\u001b[0m\u001b[0mcaching_device\u001b[0m\u001b[0;34m,\u001b[0m\u001b[0;34m\u001b[0m\u001b[0m\n\u001b[1;32m   1023\u001b[0m       \u001b[0mpartitioner\u001b[0m\u001b[0;34m=\u001b[0m\u001b[0mpartitioner\u001b[0m\u001b[0;34m,\u001b[0m \u001b[0mvalidate_shape\u001b[0m\u001b[0;34m=\u001b[0m\u001b[0mvalidate_shape\u001b[0m\u001b[0;34m,\u001b[0m\u001b[0;34m\u001b[0m\u001b[0m\n\u001b[0;32m-> 1024\u001b[0;31m       custom_getter=custom_getter)\n\u001b[0m\u001b[1;32m   1025\u001b[0m \u001b[0;34m\u001b[0m\u001b[0m\n\u001b[1;32m   1026\u001b[0m \u001b[0;34m\u001b[0m\u001b[0m\n",
      "\u001b[0;32m/Users/Iris/anaconda/lib/python2.7/site-packages/tensorflow/python/ops/variable_scope.pyc\u001b[0m in \u001b[0;36mget_variable\u001b[0;34m(self, var_store, name, shape, dtype, initializer, regularizer, trainable, collections, caching_device, partitioner, validate_shape, custom_getter)\u001b[0m\n\u001b[1;32m    848\u001b[0m           \u001b[0mcollections\u001b[0m\u001b[0;34m=\u001b[0m\u001b[0mcollections\u001b[0m\u001b[0;34m,\u001b[0m \u001b[0mcaching_device\u001b[0m\u001b[0;34m=\u001b[0m\u001b[0mcaching_device\u001b[0m\u001b[0;34m,\u001b[0m\u001b[0;34m\u001b[0m\u001b[0m\n\u001b[1;32m    849\u001b[0m           \u001b[0mpartitioner\u001b[0m\u001b[0;34m=\u001b[0m\u001b[0mpartitioner\u001b[0m\u001b[0;34m,\u001b[0m \u001b[0mvalidate_shape\u001b[0m\u001b[0;34m=\u001b[0m\u001b[0mvalidate_shape\u001b[0m\u001b[0;34m,\u001b[0m\u001b[0;34m\u001b[0m\u001b[0m\n\u001b[0;32m--> 850\u001b[0;31m           custom_getter=custom_getter)\n\u001b[0m\u001b[1;32m    851\u001b[0m \u001b[0;34m\u001b[0m\u001b[0m\n\u001b[1;32m    852\u001b[0m   def _get_partitioned_variable(self,\n",
      "\u001b[0;32m/Users/Iris/anaconda/lib/python2.7/site-packages/tensorflow/python/ops/variable_scope.pyc\u001b[0m in \u001b[0;36mget_variable\u001b[0;34m(self, name, shape, dtype, initializer, regularizer, reuse, trainable, collections, caching_device, partitioner, validate_shape, custom_getter)\u001b[0m\n\u001b[1;32m    344\u001b[0m           \u001b[0mreuse\u001b[0m\u001b[0;34m=\u001b[0m\u001b[0mreuse\u001b[0m\u001b[0;34m,\u001b[0m \u001b[0mtrainable\u001b[0m\u001b[0;34m=\u001b[0m\u001b[0mtrainable\u001b[0m\u001b[0;34m,\u001b[0m \u001b[0mcollections\u001b[0m\u001b[0;34m=\u001b[0m\u001b[0mcollections\u001b[0m\u001b[0;34m,\u001b[0m\u001b[0;34m\u001b[0m\u001b[0m\n\u001b[1;32m    345\u001b[0m           \u001b[0mcaching_device\u001b[0m\u001b[0;34m=\u001b[0m\u001b[0mcaching_device\u001b[0m\u001b[0;34m,\u001b[0m \u001b[0mpartitioner\u001b[0m\u001b[0;34m=\u001b[0m\u001b[0mpartitioner\u001b[0m\u001b[0;34m,\u001b[0m\u001b[0;34m\u001b[0m\u001b[0m\n\u001b[0;32m--> 346\u001b[0;31m           validate_shape=validate_shape)\n\u001b[0m\u001b[1;32m    347\u001b[0m \u001b[0;34m\u001b[0m\u001b[0m\n\u001b[1;32m    348\u001b[0m   def _get_partitioned_variable(\n",
      "\u001b[0;32m/Users/Iris/anaconda/lib/python2.7/site-packages/tensorflow/python/ops/variable_scope.pyc\u001b[0m in \u001b[0;36m_true_getter\u001b[0;34m(name, shape, dtype, initializer, regularizer, reuse, trainable, collections, caching_device, partitioner, validate_shape)\u001b[0m\n\u001b[1;32m    329\u001b[0m           \u001b[0minitializer\u001b[0m\u001b[0;34m=\u001b[0m\u001b[0minitializer\u001b[0m\u001b[0;34m,\u001b[0m \u001b[0mregularizer\u001b[0m\u001b[0;34m=\u001b[0m\u001b[0mregularizer\u001b[0m\u001b[0;34m,\u001b[0m \u001b[0mreuse\u001b[0m\u001b[0;34m=\u001b[0m\u001b[0mreuse\u001b[0m\u001b[0;34m,\u001b[0m\u001b[0;34m\u001b[0m\u001b[0m\n\u001b[1;32m    330\u001b[0m           \u001b[0mtrainable\u001b[0m\u001b[0;34m=\u001b[0m\u001b[0mtrainable\u001b[0m\u001b[0;34m,\u001b[0m \u001b[0mcollections\u001b[0m\u001b[0;34m=\u001b[0m\u001b[0mcollections\u001b[0m\u001b[0;34m,\u001b[0m\u001b[0;34m\u001b[0m\u001b[0m\n\u001b[0;32m--> 331\u001b[0;31m           caching_device=caching_device, validate_shape=validate_shape)\n\u001b[0m\u001b[1;32m    332\u001b[0m \u001b[0;34m\u001b[0m\u001b[0m\n\u001b[1;32m    333\u001b[0m     \u001b[0;32mif\u001b[0m \u001b[0mcustom_getter\u001b[0m \u001b[0;32mis\u001b[0m \u001b[0;32mnot\u001b[0m \u001b[0mNone\u001b[0m\u001b[0;34m:\u001b[0m\u001b[0;34m\u001b[0m\u001b[0m\n",
      "\u001b[0;32m/Users/Iris/anaconda/lib/python2.7/site-packages/tensorflow/python/ops/variable_scope.pyc\u001b[0m in \u001b[0;36m_get_single_variable\u001b[0;34m(self, name, shape, dtype, initializer, regularizer, partition_info, reuse, trainable, collections, caching_device, validate_shape)\u001b[0m\n\u001b[1;32m    630\u001b[0m                          \u001b[0;34m\" Did you mean to set reuse=True in VarScope? \"\u001b[0m\u001b[0;34m\u001b[0m\u001b[0m\n\u001b[1;32m    631\u001b[0m                          \"Originally defined at:\\n\\n%s\" % (\n\u001b[0;32m--> 632\u001b[0;31m                              name, \"\".join(traceback.format_list(tb))))\n\u001b[0m\u001b[1;32m    633\u001b[0m       \u001b[0mfound_var\u001b[0m \u001b[0;34m=\u001b[0m \u001b[0mself\u001b[0m\u001b[0;34m.\u001b[0m\u001b[0m_vars\u001b[0m\u001b[0;34m[\u001b[0m\u001b[0mname\u001b[0m\u001b[0;34m]\u001b[0m\u001b[0;34m\u001b[0m\u001b[0m\n\u001b[1;32m    634\u001b[0m       \u001b[0;32mif\u001b[0m \u001b[0;32mnot\u001b[0m \u001b[0mshape\u001b[0m\u001b[0;34m.\u001b[0m\u001b[0mis_compatible_with\u001b[0m\u001b[0;34m(\u001b[0m\u001b[0mfound_var\u001b[0m\u001b[0;34m.\u001b[0m\u001b[0mget_shape\u001b[0m\u001b[0;34m(\u001b[0m\u001b[0;34m)\u001b[0m\u001b[0;34m)\u001b[0m\u001b[0;34m:\u001b[0m\u001b[0;34m\u001b[0m\u001b[0m\n",
      "\u001b[0;31mValueError\u001b[0m: Variable ConvNet/h0_conv/conv2d/W already exists, disallowed. Did you mean to set reuse=True in VarScope? Originally defined at:\n\n  File \"<ipython-input-1-f16b493e368b>\", line 126, in conv2d\n    initializer=tf.truncated_normal_initializer(stddev=0.02) )\n  File \"<ipython-input-1-f16b493e368b>\", line 151, in disc_model\n    d_h0_con = conv2d( imgs, 32)\n  File \"<ipython-input-1-f16b493e368b>\", line 190, in <module>\n    predictions = disc_model(images)\n"
     ]
    }
   ],
   "source": [
    "#%matplotlib inline\n",
    "import tensorflow as tf\n",
    "import numpy as np\n",
    "import matplotlib\n",
    "import matplotlib.pyplot as plt\n",
    "import os\n",
    "from PIL import Image\n",
    "import random\n",
    "import time\n",
    "import sys\n",
    "from tqdm import tqdm\n",
    "\n",
    "\n",
    "\n",
    "batch_size = 100\n",
    "label_size = 5\n",
    "\n",
    "images = tf.placeholder( tf.float32, shape=[None, 25, 25, 2], name=\"images\" )\n",
    "labels = tf.placeholder( tf.float32, shape=[None, label_size], name=\"labels\" )\n",
    "\n",
    "l_rate =  1e-8\n",
    "\n",
    "# ==================================================================\n",
    "def load_imgs(labellist = [0,1], size=25, directory = \"class_dir/\", dirNames=[\"class1\", \"class2\"]):\n",
    "    data = np.zeros(( 25000, size, size,2))\n",
    "    labels = np.zeros(( 25000, len(dirNames) ))\n",
    "    index = 0\n",
    "    for label in labellist:\n",
    "    \t\n",
    "        file_dir = directory+dirNames[label]\n",
    "        filenamelist = os.listdir(file_dir)\n",
    "        keep = 5000 # how many in file do we load\n",
    "        filenamelist = filenamelist[:keep]\n",
    "        for i in xrange(keep):\n",
    "            fullfilepath = file_dir+\"/\"+filenamelist[i]\n",
    "            if \".DS_Store\" not in fullfilepath:\n",
    "                img = Image.open( fullfilepath.rstrip() )\n",
    "                data[ index, :, :] = np.array( img )\n",
    "                labels[ index ][label] = 1\n",
    "                index += 1\n",
    "\n",
    "\tc = list(zip(data, labels))\n",
    "    random.shuffle(c)\n",
    "    data, labels = zip(*c)\n",
    "\n",
    "    #reshape back to tensor dims\n",
    "    data = np.asarray(data)\n",
    "    labels = np.asarray(labels)\n",
    "\n",
    "    # # set some test data apart\n",
    "#     print data.shape\n",
    "#     print labels.shape\n",
    "    return data[:20000,:], labels[:20000,:], data[20000:,], labels[20000:,]\n",
    "\n",
    "def next_batch(s,e, data, labels):\n",
    "    #print \"trainSameImgs:\", trainSameImgs[0]\n",
    "    size = batch_size\n",
    "    #print \"size: \n",
    "    batchData = np.zeros(( size, 25, 25 , 2))\n",
    "    batchLabels = np.zeros((size, labels.shape[1] ))\n",
    "    trainImgs = data[s:e]\n",
    "    \n",
    "    for i in xrange(len(trainImgs)):\n",
    "        batchData [ i ] = data[i]\n",
    "        batchLabels[ i ] =  labels[i]\n",
    "\n",
    "    c = list(zip(batchData, batchLabels))\n",
    "    random.shuffle(c)\n",
    "    batchData, batchLabels = zip(*c)\n",
    "\n",
    "    return batchData, batchLabels\n",
    "\n",
    "#\n",
    "# ==================================================================\n",
    "# ==================================================================\n",
    "# ==================================================================\n",
    "#\n",
    "def max_pool_2x2(x):\n",
    "    #max_pool_2x2 downsamples a feature map by 2X.\n",
    "    return tf.nn.max_pool(x, ksize=[1, 2, 2, 1],\n",
    "                        strides=[1, 2, 2, 1], padding='SAME')\n",
    "\n",
    "def linear( in_var, output_size, name=\"linear\", stddev=0.02, bias_val=0.0 ):\n",
    "    shape = in_var.get_shape().as_list()\n",
    "    \n",
    "    with tf.variable_scope( name):\n",
    "        W = tf.get_variable( \"W\", [shape[1], output_size], tf.float32,\n",
    "                              tf.random_normal_initializer( stddev=stddev ) )\n",
    "       \n",
    "        b = tf.get_variable( \"b\", [output_size],\n",
    "                             initializer=tf.constant_initializer( bias_val ))\n",
    "\n",
    "        return tf.matmul( in_var, W ) + b\n",
    "    \n",
    "def lrelu( x, leak=0.2, name=\"lrelu\" ):\n",
    "    return tf.maximum( x, leak*x )\n",
    "\n",
    "def deconv2d( in_var, output_shape, name=\"deconv2d\", stddev=0.02, bias_val=0.0 ):\n",
    "    k_w = 5  # filter width/height\n",
    "    k_h = 5\n",
    "    d_h = 2  # x,y strides\n",
    "    d_w = 2\n",
    "\n",
    "    # [ height, width, in_channels, number of filters ]\n",
    "    var_shape = [ k_w, k_h, output_shape[-1], in_var.get_shape()[-1] ]\n",
    "\n",
    "    with tf.variable_scope( name):   \n",
    "        W = tf.get_variable( \"W\", var_shape,\n",
    "                             initializer=tf.truncated_normal_initializer( stddev=0.02 ) )\n",
    "        b = tf.get_variable( \"b\", [output_shape[-1]],\n",
    "                             initializer=tf.constant_initializer( bias_val ))\n",
    "\n",
    "        deconv = tf.nn.conv2d_transpose( in_var, W, output_shape=output_shape, strides=[1, d_h, d_w, 1] )\n",
    "        deconv = tf.reshape( tf.nn.bias_add( deconv, b), deconv.get_shape() )\n",
    "    \n",
    "        return deconv\n",
    "\n",
    "def conv2d( in_var, output_dim, name=\"conv2d\" ):\n",
    "    k_w = 5  # filter width/height\n",
    "    k_h = 5\n",
    "    d_h = 2  # x,y strides\n",
    "    d_w = 2\n",
    "\n",
    "    with tf.variable_scope( name):\n",
    "        W = tf.get_variable( \"W\", [k_h, k_w, in_var.get_shape()[-1], output_dim],\n",
    "                             initializer=tf.truncated_normal_initializer(stddev=0.02) )\n",
    "        b = tf.get_variable( \"b\", [output_dim], initializer=tf.constant_initializer(0.0) )\n",
    "\n",
    "        conv = tf.nn.conv2d( in_var, W, strides=[1, d_h, d_w, 1], padding='SAME' )\n",
    "        conv = tf.reshape( tf.nn.bias_add( conv, b ), conv.get_shape() )\n",
    "\n",
    "        return conv\n",
    "\n",
    "\n",
    "\n",
    "#\n",
    "# ==================================================================\n",
    "# ==================================================================\n",
    "# ==================================================================\n",
    "#\n",
    "\n",
    "# the discriminator should accept a (tensor of muliple) images and\n",
    "# return a probability that the image is *** creative or not ***\n",
    "# imgs will be [None, 25, 25, 2]\n",
    "\n",
    "def disc_model( imgs ):\n",
    "    #reshaping to make compatible with convolution\n",
    "    imgs = tf.reshape( imgs, [ batch_size, 25, 25, 2 ] )\n",
    "   \n",
    "    with tf.variable_scope( \"h0_conv\" ):\n",
    "        d_h0_con = conv2d( imgs, 32)\n",
    "        d_h0_con = lrelu(d_h0_con)\n",
    "        \n",
    "    with tf.variable_scope( \"h0_max_pool\" ):\n",
    "        # Pooling layer - downsamples by 2X.\n",
    "        d_pool1 = max_pool_2x2(d_h0_con)\n",
    "\n",
    "    with tf.variable_scope( \"h1_conv\" ):\n",
    "        d_h1_con = conv2d(d_pool1, 64)\n",
    "        d_h1_con = lrelu(d_h1_con)\n",
    "        \n",
    "    with tf.variable_scope( \"h1_max_pool\" ):\n",
    "        # Second pooling layer.\n",
    "        d_pool2 = max_pool_2x2(d_h1_con)\n",
    "        #reshaping 2d for linear\n",
    "        d_pool2_flat = tf.reshape( d_pool2, [ batch_size, -1 ] )\n",
    "        \n",
    "    with tf.variable_scope( \"h2_lin\" ):\n",
    "        d_h2_lin = linear( d_pool2_flat, 1024)\n",
    "        d_fc1 = tf.nn.relu(d_h2_lin)\n",
    "        \n",
    "    with tf.variable_scope( \"drop_out\" ):\n",
    "        h_fc1_drop = tf.nn.dropout(d_fc1, 0.5)\n",
    "        \n",
    "    with tf.variable_scope( \"h3_lin\" ):\n",
    "        d_h3_lin = linear(d_h2_lin, label_size) # classes\n",
    "        \n",
    "    output = d_h3_lin \n",
    "    #output = tf.nn.sigmoid(d_h3_lin)\n",
    "    #output = tf.nn.softmax(d_h3_lin)\n",
    "\n",
    "    return output \n",
    "\n",
    "\n",
    "\n",
    "#======================================================================\n",
    "# Create computation graph with cost function\n",
    "\n",
    "with tf.variable_scope( \"ConvNet\" ) as scope:\n",
    "\tpredictions = disc_model(images)\n",
    "\n",
    "with tf.variable_scope( \"Loss\" ) as scope:\n",
    "    loss = tf.reduce_mean(tf.nn.softmax_cross_entropy_with_logits(labels=labels, logits=predictions))\n",
    "\n",
    "with tf.variable_scope( \"Optimizer\" ) as scope:\n",
    "\toptimizer = tf.train.AdamOptimizer(learning_rate = l_rate, beta1 = 0.5).minimize(loss)\n",
    "\n",
    "# Evaluate model\n",
    "correct_pred = tf.equal(tf.argmax(predictions, 1), tf.argmax(labels, 1))\n",
    "accuracy = tf.reduce_mean(tf.cast(correct_pred, tf.float32))\n",
    "\n",
    "# ======================================================================"
   ]
  },
  {
   "cell_type": "code",
   "execution_count": 2,
   "metadata": {
    "collapsed": false
   },
   "outputs": [
    {
     "name": "stdout",
     "output_type": "stream",
     "text": [
      "train_data (20000, 25, 25, 2) train_labels: (20000, 5)\n",
      "WARNING:tensorflow:From <ipython-input-2-85f33ee2b786>:10 in <module>.: initialize_all_variables (from tensorflow.python.ops.variables) is deprecated and will be removed after 2017-03-02.\n",
      "Instructions for updating:\n",
      "Use `tf.global_variables_initializer` instead.\n",
      "WARNING:tensorflow:From <ipython-input-2-85f33ee2b786>:11 in <module>.: __init__ (from tensorflow.python.training.summary_io) is deprecated and will be removed after 2016-11-30.\n",
      "Instructions for updating:\n",
      "Please switch to tf.summary.FileWriter. The interface and behavior is the same; this is just a rename.\n",
      "Staring Epochs...\n",
      "epoch 0  time: 12.545872 loss 2.37626 accuracy 0.21\n",
      "epoch 200  time: 10.094163 loss 1.58185 accuracy 0.24\n",
      "epoch 400  time: 10.547002 loss 1.57616 accuracy 0.24\n",
      "epoch 600  time: 10.264141 loss 1.56929 accuracy 0.24\n",
      "epoch 800  time: 10.938154 loss 1.56081 accuracy 0.24\n",
      "epoch 1000  time: 10.284087 loss 1.55072 accuracy 0.25\n",
      "epoch 1200  time: 10.141764 loss 1.53915 accuracy 0.34\n",
      "epoch 1400  time: 10.818782 loss 1.52545 accuracy 0.43\n",
      "epoch 1600  time: 10.706342 loss 1.50948 accuracy 0.50\n",
      "epoch 1800  time: 10.287537 loss 1.49090 accuracy 0.54\n",
      "epoch 2000  time: 10.147890 loss 1.47012 accuracy 0.59\n",
      "epoch 2200  time: 10.159494 loss 1.44667 accuracy 0.64\n",
      "epoch 2400  time: 10.138437 loss 1.42024 accuracy 0.66\n",
      "epoch 2600  time: 10.155766 loss 1.39160 accuracy 0.67\n",
      "epoch 2800  time: 10.126200 loss 1.36056 accuracy 0.69\n",
      "epoch 3000  time: 10.076507 loss 1.32739 accuracy 0.68\n"
     ]
    }
   ],
   "source": [
    "train_data, train_labels, test_data, test_labels = load_imgs(labellist = [0,1,2,3,4], \n",
    "                                                             directory = \"sample_maps/\", \n",
    "                                                             dirNames=[\"map-1\", \"map-2\", \"map-3\", \"map-4\",\"map-5\"])\n",
    "\n",
    "print \"train_data\", train_data.shape, \"train_labels:\", train_labels.shape\n",
    "\n",
    "#Session\n",
    "#======================================================================\n",
    "sess = tf.Session()\n",
    "sess.run( tf.initialize_all_variables() )\n",
    "summary_writer = tf.train.SummaryWriter( \"./tf_logs\", graph=sess.graph )\n",
    "loss_over_time = []\n",
    "acc_over_time = []\n",
    "epochs = 3000\n",
    "print \"Staring Epochs...\"\n",
    "for i in range( epochs+1 ):\n",
    "    avg_loss = 0.\n",
    "    avg_acc = 0.\n",
    "    total_batch = int(train_data.shape[0]/batch_size)\n",
    "    \n",
    "    start_time = time.time()\n",
    "    # Loop over all batches\n",
    "    b = -1\n",
    "    for j in range(total_batch):\n",
    "        b+=1\n",
    "        s  = b * batch_size\n",
    "        e = (b+1) * batch_size\n",
    "#         if (i == 0):\n",
    "#             print \"batch:\", j ,\"/\",total_batch,\"s:\", s, \" e:\", e\n",
    "        batchData, batchLabels = next_batch(s, e, train_data, train_labels)\n",
    "        _,loss_value, tr_accuracy = sess.run([optimizer, loss, accuracy], feed_dict={images:batchData, labels:batchLabels})\n",
    "\n",
    "        avg_acc += tr_accuracy\n",
    "        avg_loss += loss_value\n",
    "\n",
    "    duration = time.time() - start_time\n",
    "    loss_over_time.append(avg_loss/(total_batch))\n",
    "    acc_over_time.append(float(avg_acc)/total_batch)\n",
    "    \n",
    "    if i % 200 == 0:\n",
    "    \tprint('epoch %d  time: %f loss %0.5f accuracy %0.2f' %(i,duration,avg_loss/(total_batch),float(avg_acc)/total_batch))\n",
    "    sys.stdout.flush()\n",
    "\n"
   ]
  },
  {
   "cell_type": "code",
   "execution_count": 4,
   "metadata": {
    "collapsed": false
   },
   "outputs": [
    {
     "name": "stdout",
     "output_type": "stream",
     "text": [
      "Staring Epochs...\n",
      "epoch 3000  time: 10.828231 loss 1.32722 accuracy 0.68\n",
      "epoch 3200  time: 10.182932 loss 1.29135 accuracy 0.71\n",
      "epoch 3400  time: 10.277467 loss 1.25139 accuracy 0.71\n",
      "epoch 3600  time: 11.194251 loss 1.21261 accuracy 0.73\n",
      "epoch 3800  time: 10.454987 loss 1.17312 accuracy 0.73\n",
      "epoch 4000  time: 10.401602 loss 1.13328 accuracy 0.75\n",
      "epoch 4200  time: 10.338830 loss 1.09064 accuracy 0.75\n",
      "epoch 4400  time: 10.255299 loss 1.05086 accuracy 0.75\n",
      "epoch 4600  time: 15.021840 loss 1.01269 accuracy 0.75\n",
      "epoch 4800  time: 10.835474 loss 0.97550 accuracy 0.75\n",
      "epoch 5000  time: 10.182438 loss 0.93746 accuracy 0.75\n"
     ]
    }
   ],
   "source": [
    "print \"Staring Epochs...\"\n",
    "for i in range( 3000,5001 ):\n",
    "    avg_loss = 0.\n",
    "    avg_acc = 0.\n",
    "    total_batch = int(train_data.shape[0]/batch_size)\n",
    "    \n",
    "    start_time = time.time()\n",
    "    # Loop over all batches\n",
    "    b = -1\n",
    "    for j in range(total_batch):\n",
    "        b+=1\n",
    "        s  = b * batch_size\n",
    "        e = (b+1) * batch_size\n",
    "#         if (i == 0):\n",
    "#             print \"batch:\", j ,\"/\",total_batch,\"s:\", s, \" e:\", e\n",
    "        batchData, batchLabels = next_batch(s, e, train_data, train_labels)\n",
    "        _,loss_value, tr_accuracy = sess.run([optimizer, loss, accuracy], feed_dict={images:batchData, labels:batchLabels})\n",
    "\n",
    "        avg_acc += tr_accuracy\n",
    "        avg_loss += loss_value\n",
    "\n",
    "    duration = time.time() - start_time\n",
    "    loss_over_time.append(avg_loss/(total_batch))\n",
    "    acc_over_time.append(float(avg_acc)/total_batch)\n",
    "    \n",
    "    if i % 200 == 0:\n",
    "    \tprint('epoch %d  time: %f loss %0.5f accuracy %0.2f' %(i,duration,avg_loss/(total_batch),float(avg_acc)/total_batch))\n",
    "    sys.stdout.flush()\n",
    "\n",
    "\n"
   ]
  },
  {
   "cell_type": "code",
   "execution_count": 5,
   "metadata": {
    "collapsed": false
   },
   "outputs": [
    {
     "name": "stdout",
     "output_type": "stream",
     "text": [
      "Staring Epochs...\n",
      "epoch 5000  time: 10.145535 loss 0.93728 accuracy 0.75\n",
      "epoch 5100  time: 10.061808 loss 0.91964 accuracy 0.75\n",
      "epoch 5200  time: 10.115395 loss 0.90231 accuracy 0.75\n"
     ]
    }
   ],
   "source": [
    "\n",
    "print \"Staring Epochs...\"\n",
    "for i in range( 5000,5201):\n",
    "    avg_loss = 0.\n",
    "    avg_acc = 0.\n",
    "    total_batch = int(train_data.shape[0]/batch_size)\n",
    "    \n",
    "    start_time = time.time()\n",
    "    # Loop over all batches\n",
    "    b = -1\n",
    "    for j in range(total_batch):\n",
    "        b+=1\n",
    "        s  = b * batch_size\n",
    "        e = (b+1) * batch_size\n",
    "#         if (i == 0):\n",
    "#             print \"batch:\", j ,\"/\",total_batch,\"s:\", s, \" e:\", e\n",
    "        batchData, batchLabels = next_batch(s, e, train_data, train_labels)\n",
    "        _,loss_value, tr_accuracy = sess.run([optimizer, loss, accuracy], feed_dict={images:batchData, labels:batchLabels})\n",
    "\n",
    "        avg_acc += tr_accuracy\n",
    "        avg_loss += loss_value\n",
    "\n",
    "    duration = time.time() - start_time\n",
    "    loss_over_time.append(avg_loss/(total_batch))\n",
    "    acc_over_time.append(float(avg_acc)/total_batch)\n",
    "    \n",
    "    if i % 100 == 0:\n",
    "    \tprint('epoch %d  time: %f loss %0.5f accuracy %0.2f' %(i,duration,avg_loss/(total_batch),float(avg_acc)/total_batch))\n",
    "    sys.stdout.flush()\n",
    "\n",
    "\n"
   ]
  },
  {
   "cell_type": "code",
   "execution_count": 7,
   "metadata": {
    "collapsed": false
   },
   "outputs": [
    {
     "name": "stdout",
     "output_type": "stream",
     "text": [
      "Staring Epochs...\n",
      "epoch 5200  time: 10.476969 loss 0.90214 accuracy 0.75\n",
      "epoch 5300  time: 10.155364 loss 0.88507 accuracy 0.75\n",
      "epoch 5400  time: 10.168335 loss 0.86821 accuracy 0.75\n",
      "epoch 5500  time: 10.229516 loss 0.85156 accuracy 0.75\n",
      "epoch 5600  time: 10.178767 loss 0.83515 accuracy 0.75\n",
      "epoch 5700  time: 10.148430 loss 0.81895 accuracy 0.75\n",
      "epoch 5800  time: 10.400066 loss 0.80294 accuracy 0.75\n",
      "epoch 5900  time: 10.223376 loss 0.78721 accuracy 0.76\n",
      "epoch 6000  time: 10.543973 loss 0.77172 accuracy 0.77\n"
     ]
    }
   ],
   "source": [
    "print \"Staring Epochs...\"\n",
    "for i in range( 5200, 6001):\n",
    "    avg_loss = 0.\n",
    "    avg_acc = 0.\n",
    "    total_batch = int(train_data.shape[0]/batch_size)\n",
    "    \n",
    "    start_time = time.time()\n",
    "    # Loop over all batches\n",
    "    b = -1\n",
    "    for j in range(total_batch):\n",
    "        b+=1\n",
    "        s  = b * batch_size\n",
    "        e = (b+1) * batch_size\n",
    "#         if (i == 0):\n",
    "#             print \"batch:\", j ,\"/\",total_batch,\"s:\", s, \" e:\", e\n",
    "        batchData, batchLabels = next_batch(s, e, train_data, train_labels)\n",
    "        _,loss_value, tr_accuracy = sess.run([optimizer, loss, accuracy], feed_dict={images:batchData, labels:batchLabels})\n",
    "\n",
    "        avg_acc += tr_accuracy\n",
    "        avg_loss += loss_value\n",
    "\n",
    "    duration = time.time() - start_time\n",
    "    loss_over_time.append(avg_loss/(total_batch))\n",
    "    acc_over_time.append(float(avg_acc)/total_batch)\n",
    "    \n",
    "    if i % 100 == 0:\n",
    "    \tprint('epoch %d  time: %f loss %0.5f accuracy %0.2f' %(i,duration,avg_loss/(total_batch),float(avg_acc)/total_batch))\n",
    "    sys.stdout.flush()"
   ]
  },
  {
   "cell_type": "code",
   "execution_count": 8,
   "metadata": {
    "collapsed": false
   },
   "outputs": [
    {
     "name": "stdout",
     "output_type": "stream",
     "text": [
      "test_data (5000, 25, 25, 2) test_labels: (5000, 5)\n",
      "-----------test model----------\n",
      "Test Accuracy: 0.47\n"
     ]
    }
   ],
   "source": [
    "print \"test_data\", test_data.shape, \"test_labels:\", test_labels.shape\n",
    "print \"-----------test model----------\"\n",
    "# Test model\n",
    "avg_acc = 0.\n",
    "total_batch = int((len(test_data))/batch_size)\n",
    "b = -1\n",
    "\n",
    "for j in range(total_batch):\n",
    "    b+=1\n",
    "    s  = b * batch_size\n",
    "    e = (b+1) *batch_size\n",
    "    # Fit training using batch data\n",
    "    batchData1, batchLabels = next_batch(s, e, test_data, test_labels)\n",
    "    tr_accuracy = sess.run(accuracy, feed_dict={images:batchData1, labels:batchLabels})\n",
    "    avg_acc += tr_accuracy  \n",
    "\n",
    "print \"Test Accuracy: %0.2f\" % (float(avg_acc)/total_batch)"
   ]
  },
  {
   "cell_type": "code",
   "execution_count": 9,
   "metadata": {
    "collapsed": false
   },
   "outputs": [
    {
     "name": "stdout",
     "output_type": "stream",
     "text": [
      "Staring Epochs...\n",
      "epoch 6000  time: 10.541520 loss 0.77156 accuracy 0.77\n",
      "epoch 6100  time: 10.234607 loss 0.75629 accuracy 0.77\n",
      "epoch 6200  time: 11.301154 loss 0.74121 accuracy 0.77\n",
      "epoch 6300  time: 10.156006 loss 0.72627 accuracy 0.77\n",
      "epoch 6400  time: 10.668920 loss 0.70973 accuracy 0.80\n",
      "epoch 6500  time: 10.619433 loss 0.69523 accuracy 0.80\n",
      "epoch 6600  time: 10.173987 loss 0.68094 accuracy 0.81\n",
      "epoch 6700  time: 10.602760 loss 0.66682 accuracy 0.82\n",
      "epoch 6800  time: 11.226897 loss 0.65292 accuracy 0.83\n",
      "epoch 6900  time: 10.528053 loss 0.63921 accuracy 0.85\n",
      "epoch 7000  time: 10.873385 loss 0.62557 accuracy 0.85\n"
     ]
    }
   ],
   "source": [
    "print \"Staring Epochs...\"\n",
    "for i in range( 6000, 7001):\n",
    "    avg_loss = 0.\n",
    "    avg_acc = 0.\n",
    "    total_batch = int(train_data.shape[0]/batch_size)\n",
    "    \n",
    "    start_time = time.time()\n",
    "    # Loop over all batches\n",
    "    b = -1\n",
    "    for j in range(total_batch):\n",
    "        b+=1\n",
    "        s  = b * batch_size\n",
    "        e = (b+1) * batch_size\n",
    "#         if (i == 0):\n",
    "#             print \"batch:\", j ,\"/\",total_batch,\"s:\", s, \" e:\", e\n",
    "        batchData, batchLabels = next_batch(s, e, train_data, train_labels)\n",
    "        _,loss_value, tr_accuracy = sess.run([optimizer, loss, accuracy], feed_dict={images:batchData, labels:batchLabels})\n",
    "\n",
    "        avg_acc += tr_accuracy\n",
    "        avg_loss += loss_value\n",
    "\n",
    "    duration = time.time() - start_time\n",
    "    loss_over_time.append(avg_loss/(total_batch))\n",
    "    acc_over_time.append(float(avg_acc)/total_batch)\n",
    "    \n",
    "    if i % 100 == 0:\n",
    "    \tprint('epoch %d  time: %f loss %0.5f accuracy %0.2f' %(i,duration,avg_loss/(total_batch),float(avg_acc)/total_batch))\n",
    "    sys.stdout.flush()"
   ]
  },
  {
   "cell_type": "code",
   "execution_count": 11,
   "metadata": {
    "collapsed": false
   },
   "outputs": [
    {
     "name": "stdout",
     "output_type": "stream",
     "text": [
      "Staring Epochs...\n",
      "epoch 7000  time: 10.208704 loss 0.62544 accuracy 0.85\n",
      "epoch 7100  time: 10.187646 loss 0.61218 accuracy 0.85\n",
      "epoch 7200  time: 10.128115 loss 0.59916 accuracy 0.86\n",
      "epoch 7300  time: 10.110875 loss 0.58630 accuracy 0.86\n",
      "epoch 7400  time: 10.142417 loss 0.57339 accuracy 0.87\n",
      "epoch 7500  time: 10.070231 loss 0.56092 accuracy 0.87\n",
      "epoch 7600  time: 10.067520 loss 0.54867 accuracy 0.88\n",
      "epoch 7700  time: 10.113060 loss 0.53661 accuracy 0.88\n",
      "epoch 7800  time: 10.109982 loss 0.52472 accuracy 0.88\n",
      "epoch 7900  time: 10.081430 loss 0.51298 accuracy 0.88\n",
      "epoch 8000  time: 10.095835 loss 0.50148 accuracy 0.88\n"
     ]
    }
   ],
   "source": [
    "print \"Staring Epochs...\"\n",
    "for i in range( 7000, 8001):\n",
    "    avg_loss = 0.\n",
    "    avg_acc = 0.\n",
    "    total_batch = int(train_data.shape[0]/batch_size)\n",
    "    \n",
    "    start_time = time.time()\n",
    "    # Loop over all batches\n",
    "    b = -1\n",
    "    for j in range(total_batch):\n",
    "        b+=1\n",
    "        s  = b * batch_size\n",
    "        e = (b+1) * batch_size\n",
    "#         if (i == 0):\n",
    "#             print \"batch:\", j ,\"/\",total_batch,\"s:\", s, \" e:\", e\n",
    "        batchData, batchLabels = next_batch(s, e, train_data, train_labels)\n",
    "        _,loss_value, tr_accuracy = sess.run([optimizer, loss, accuracy], feed_dict={images:batchData, labels:batchLabels})\n",
    "\n",
    "        avg_acc += tr_accuracy\n",
    "        avg_loss += loss_value\n",
    "\n",
    "    duration = time.time() - start_time\n",
    "    loss_over_time.append(avg_loss/(total_batch))\n",
    "    acc_over_time.append(float(avg_acc)/total_batch)\n",
    "    \n",
    "    if i % 100 == 0:\n",
    "    \tprint('epoch %d  time: %f loss %0.5f accuracy %0.2f' %(i,duration,avg_loss/(total_batch),float(avg_acc)/total_batch))\n",
    "    sys.stdout.flush()"
   ]
  },
  {
   "cell_type": "code",
   "execution_count": 12,
   "metadata": {
    "collapsed": false
   },
   "outputs": [
    {
     "name": "stdout",
     "output_type": "stream",
     "text": [
      "test_data (5000, 25, 25, 2) test_labels: (5000, 5)\n",
      "-----------test model----------\n",
      "Test Accuracy: 0.58\n"
     ]
    }
   ],
   "source": [
    "print \"test_data\", test_data.shape, \"test_labels:\", test_labels.shape\n",
    "print \"-----------test model----------\"\n",
    "# Test model\n",
    "avg_acc = 0.\n",
    "total_batch = int((len(test_data))/batch_size)\n",
    "b = -1\n",
    "\n",
    "for j in range(total_batch):\n",
    "    b+=1\n",
    "    s  = b * batch_size\n",
    "    e = (b+1) *batch_size\n",
    "    # Fit training using batch data\n",
    "    batchData1, batchLabels = next_batch(s, e, test_data, test_labels)\n",
    "    tr_accuracy = sess.run(accuracy, feed_dict={images:batchData1, labels:batchLabels})\n",
    "    avg_acc += tr_accuracy  \n",
    "\n",
    "print \"Test Accuracy: %0.2f\" % (float(avg_acc)/total_batch)"
   ]
  },
  {
   "cell_type": "code",
   "execution_count": 13,
   "metadata": {
    "collapsed": false
   },
   "outputs": [
    {
     "name": "stdout",
     "output_type": "stream",
     "text": [
      "Staring Epochs...\n",
      "epoch 8000  time: 11.003045 loss 0.50137 accuracy 0.88\n",
      "epoch 8200  time: 10.865151 loss 0.47893 accuracy 0.88\n",
      "epoch 8400  time: 12.250659 loss 0.45615 accuracy 0.89\n",
      "epoch 8600  time: 10.178313 loss 0.43341 accuracy 0.90\n",
      "epoch 8800  time: 10.138067 loss 0.41263 accuracy 0.93\n",
      "epoch 9000  time: 10.344567 loss 0.39308 accuracy 0.93\n",
      "epoch 9200  time: 10.306245 loss 0.37436 accuracy 0.93\n",
      "epoch 9400  time: 10.269876 loss 0.35621 accuracy 0.93\n",
      "epoch 9600  time: 10.178264 loss 0.33888 accuracy 0.93\n",
      "epoch 9800  time: 10.117081 loss 0.32225 accuracy 0.93\n",
      "epoch 10000  time: 10.064454 loss 0.30619 accuracy 0.93\n"
     ]
    }
   ],
   "source": [
    "print \"Staring Epochs...\"\n",
    "for i in range( 8000, 10001):\n",
    "    avg_loss = 0.\n",
    "    avg_acc = 0.\n",
    "    total_batch = int(train_data.shape[0]/batch_size)\n",
    "    \n",
    "    start_time = time.time()\n",
    "    # Loop over all batches\n",
    "    b = -1\n",
    "    for j in range(total_batch):\n",
    "        b+=1\n",
    "        s  = b * batch_size\n",
    "        e = (b+1) * batch_size\n",
    "#         if (i == 0):\n",
    "#             print \"batch:\", j ,\"/\",total_batch,\"s:\", s, \" e:\", e\n",
    "        batchData, batchLabels = next_batch(s, e, train_data, train_labels)\n",
    "        _,loss_value, tr_accuracy = sess.run([optimizer, loss, accuracy], feed_dict={images:batchData, labels:batchLabels})\n",
    "\n",
    "        avg_acc += tr_accuracy\n",
    "        avg_loss += loss_value\n",
    "\n",
    "    duration = time.time() - start_time\n",
    "    loss_over_time.append(avg_loss/(total_batch))\n",
    "    acc_over_time.append(float(avg_acc)/total_batch)\n",
    "    \n",
    "    if i % 200 == 0:\n",
    "    \tprint('epoch %d  time: %f loss %0.5f accuracy %0.2f' %(i,duration,avg_loss/(total_batch),float(avg_acc)/total_batch))\n",
    "    sys.stdout.flush()"
   ]
  },
  {
   "cell_type": "code",
   "execution_count": 14,
   "metadata": {
    "collapsed": false
   },
   "outputs": [
    {
     "name": "stdout",
     "output_type": "stream",
     "text": [
      "test_data (5000, 25, 25, 2) test_labels: (5000, 5)\n",
      "-----------test model----------\n",
      "Test Accuracy: 0.63\n"
     ]
    }
   ],
   "source": [
    "print \"test_data\", test_data.shape, \"test_labels:\", test_labels.shape\n",
    "print \"-----------test model----------\"\n",
    "# Test model\n",
    "avg_acc = 0.\n",
    "total_batch = int((len(test_data))/batch_size)\n",
    "b = -1\n",
    "\n",
    "for j in range(total_batch):\n",
    "    b+=1\n",
    "    s  = b * batch_size\n",
    "    e = (b+1) *batch_size\n",
    "    # Fit training using batch data\n",
    "    batchData1, batchLabels = next_batch(s, e, test_data, test_labels)\n",
    "    tr_accuracy = sess.run(accuracy, feed_dict={images:batchData1, labels:batchLabels})\n",
    "    avg_acc += tr_accuracy  \n",
    "\n",
    "print \"Test Accuracy: %0.2f\" % (float(avg_acc)/total_batch)\n"
   ]
  },
  {
   "cell_type": "code",
   "execution_count": 15,
   "metadata": {
    "collapsed": false
   },
   "outputs": [
    {
     "name": "stdout",
     "output_type": "stream",
     "text": [
      "Staring Epochs...\n",
      "epoch 10000  time: 10.509195 loss 0.30611 accuracy 0.93\n",
      "epoch 10200  time: 10.726235 loss 0.28951 accuracy 0.93\n",
      "epoch 10400  time: 13.442505 loss 0.27459 accuracy 0.95\n",
      "epoch 10600  time: 11.444126 loss 0.26025 accuracy 0.96\n",
      "epoch 10800  time: 11.056692 loss 0.24601 accuracy 0.96\n",
      "epoch 11000  time: 10.843339 loss 0.23278 accuracy 0.96\n",
      "epoch 11200  time: 10.523617 loss 0.22006 accuracy 0.96\n",
      "epoch 11400  time: 11.156839 loss 0.20781 accuracy 0.97\n",
      "epoch 11600  time: 10.692909 loss 0.19517 accuracy 0.97\n",
      "epoch 11800  time: 10.813563 loss 0.18392 accuracy 0.97\n",
      "epoch 12000  time: 10.154498 loss 0.17314 accuracy 0.97\n"
     ]
    }
   ],
   "source": [
    " print \"Staring Epochs...\"\n",
    "for i in range( 10000, 12001):\n",
    "    avg_loss = 0.\n",
    "    avg_acc = 0.\n",
    "    total_batch = int(train_data.shape[0]/batch_size)\n",
    "    \n",
    "    start_time = time.time()\n",
    "    # Loop over all batches\n",
    "    b = -1\n",
    "    for j in range(total_batch):\n",
    "        b+=1\n",
    "        s  = b * batch_size\n",
    "        e = (b+1) * batch_size\n",
    "#         if (i == 0):\n",
    "#             print \"batch:\", j ,\"/\",total_batch,\"s:\", s, \" e:\", e\n",
    "        batchData, batchLabels = next_batch(s, e, train_data, train_labels)\n",
    "        _,loss_value, tr_accuracy = sess.run([optimizer, loss, accuracy], feed_dict={images:batchData, labels:batchLabels})\n",
    "\n",
    "        avg_acc += tr_accuracy\n",
    "        avg_loss += loss_value\n",
    "\n",
    "    duration = time.time() - start_time\n",
    "    loss_over_time.append(avg_loss/(total_batch))\n",
    "    acc_over_time.append(float(avg_acc)/total_batch)\n",
    "    \n",
    "    if i % 200 == 0:\n",
    "    \tprint('epoch %d  time: %f loss %0.5f accuracy %0.2f' %(i,duration,avg_loss/(total_batch),float(avg_acc)/total_batch))\n",
    "    sys.stdout.flush()"
   ]
  },
  {
   "cell_type": "code",
   "execution_count": 18,
   "metadata": {
    "collapsed": false
   },
   "outputs": [
    {
     "name": "stdout",
     "output_type": "stream",
     "text": [
      "12008\n"
     ]
    },
    {
     "data": {
      "image/png": "[encoded data removed]",
      "text/plain": [
       "<matplotlib.figure.Figure at 0x11a907dd0>"
      ]
     },
     "metadata": {},
     "output_type": "display_data"
    },
    {
     "data": {
      "image/png": "[encoded data removed]",
      "text/plain": [
       "<matplotlib.figure.Figure at 0x11e2a25d0>"
      ]
     },
     "metadata": {},
     "output_type": "display_data"
    }
   ],
   "source": [
    "import seaborn\n",
    "\n",
    "print len(loss_over_time)\n",
    "plt.title(\"Loss\\n Learning Rate: 1e-8 \\n Batch Size: 100, Training Size: 20,000\\n5 Classes\")\n",
    "plt.plot(np.arange(12008), loss_over_time, color='red', linestyle=\"--\",\n",
    "         linewidth=2, label='Loss')\n",
    "\n",
    "#plt.legend(bbox_to_anchor=(1.05, 1), loc=2, borderaxespad=0.)\n",
    "plt.show()\n",
    "\n",
    "plt.title(\"Accuracy\\n Learning Rate: 1e-8 \\n Batch Size: 100, Training Size: 20,000\\n5 Classes \")\n",
    "plt.plot(np.arange(12008), acc_over_time, color='blue', linestyle='-',\n",
    "         linewidth=2, label='Accuracy')\n",
    "#plt.legend(bbox_to_anchor=(1.05, 1), loc=2, borderaxespad=0.)\n",
    "plt.show()\n",
    "\n"
   ]
  },
  {
   "cell_type": "code",
   "execution_count": 20,
   "metadata": {
    "collapsed": false
   },
   "outputs": [
    {
     "name": "stdout",
     "output_type": "stream",
     "text": [
      "test_data (5000, 25, 25, 2) test_labels: (5000, 5)\n",
      "-----------test model----------\n"
     ]
    },
    {
     "ename": "InvalidArgumentError",
     "evalue": "You must feed a value for placeholder tensor 'images' with dtype float\n\t [[Node: images = Placeholder[dtype=DT_FLOAT, shape=[], _device=\"/job:localhost/replica:0/task:0/cpu:0\"]()]]\n\nCaused by op u'images', defined at:\n  File \"/Users/Iris/anaconda/lib/python2.7/runpy.py\", line 174, in _run_module_as_main\n    \"__main__\", fname, loader, pkg_name)\n  File \"/Users/Iris/anaconda/lib/python2.7/runpy.py\", line 72, in _run_code\n    exec code in run_globals\n  File \"/Users/Iris/anaconda/lib/python2.7/site-packages/ipykernel/__main__.py\", line 3, in <module>\n    app.launch_new_instance()\n  File \"/Users/Iris/anaconda/lib/python2.7/site-packages/traitlets/config/application.py\", line 653, in launch_instance\n    app.start()\n  File \"/Users/Iris/anaconda/lib/python2.7/site-packages/ipykernel/kernelapp.py\", line 474, in start\n    ioloop.IOLoop.instance().start()\n  File \"/Users/Iris/anaconda/lib/python2.7/site-packages/zmq/eventloop/ioloop.py\", line 162, in start\n    super(ZMQIOLoop, self).start()\n  File \"/Users/Iris/anaconda/lib/python2.7/site-packages/tornado/ioloop.py\", line 887, in start\n    handler_func(fd_obj, events)\n  File \"/Users/Iris/anaconda/lib/python2.7/site-packages/tornado/stack_context.py\", line 275, in null_wrapper\n    return fn(*args, **kwargs)\n  File \"/Users/Iris/anaconda/lib/python2.7/site-packages/zmq/eventloop/zmqstream.py\", line 440, in _handle_events\n    self._handle_recv()\n  File \"/Users/Iris/anaconda/lib/python2.7/site-packages/zmq/eventloop/zmqstream.py\", line 472, in _handle_recv\n    self._run_callback(callback, msg)\n  File \"/Users/Iris/anaconda/lib/python2.7/site-packages/zmq/eventloop/zmqstream.py\", line 414, in _run_callback\n    callback(*args, **kwargs)\n  File \"/Users/Iris/anaconda/lib/python2.7/site-packages/tornado/stack_context.py\", line 275, in null_wrapper\n    return fn(*args, **kwargs)\n  File \"/Users/Iris/anaconda/lib/python2.7/site-packages/ipykernel/kernelbase.py\", line 276, in dispatcher\n    return self.dispatch_shell(stream, msg)\n  File \"/Users/Iris/anaconda/lib/python2.7/site-packages/ipykernel/kernelbase.py\", line 228, in dispatch_shell\n    handler(stream, idents, msg)\n  File \"/Users/Iris/anaconda/lib/python2.7/site-packages/ipykernel/kernelbase.py\", line 390, in execute_request\n    user_expressions, allow_stdin)\n  File \"/Users/Iris/anaconda/lib/python2.7/site-packages/ipykernel/ipkernel.py\", line 196, in do_execute\n    res = shell.run_cell(code, store_history=store_history, silent=silent)\n  File \"/Users/Iris/anaconda/lib/python2.7/site-packages/ipykernel/zmqshell.py\", line 501, in run_cell\n    return super(ZMQInteractiveShell, self).run_cell(*args, **kwargs)\n  File \"/Users/Iris/anaconda/lib/python2.7/site-packages/IPython/core/interactiveshell.py\", line 2717, in run_cell\n    interactivity=interactivity, compiler=compiler, result=result)\n  File \"/Users/Iris/anaconda/lib/python2.7/site-packages/IPython/core/interactiveshell.py\", line 2821, in run_ast_nodes\n    if self.run_code(code, result):\n  File \"/Users/Iris/anaconda/lib/python2.7/site-packages/IPython/core/interactiveshell.py\", line 2881, in run_code\n    exec(code_obj, self.user_global_ns, self.user_ns)\n  File \"<ipython-input-1-f16b493e368b>\", line 18, in <module>\n    images = tf.placeholder( tf.float32, shape=[None, 25, 25, 2], name=\"images\" )\n  File \"/Users/Iris/anaconda/lib/python2.7/site-packages/tensorflow/python/ops/array_ops.py\", line 1587, in placeholder\n    name=name)\n  File \"/Users/Iris/anaconda/lib/python2.7/site-packages/tensorflow/python/ops/gen_array_ops.py\", line 2043, in _placeholder\n    name=name)\n  File \"/Users/Iris/anaconda/lib/python2.7/site-packages/tensorflow/python/framework/op_def_library.py\", line 759, in apply_op\n    op_def=op_def)\n  File \"/Users/Iris/anaconda/lib/python2.7/site-packages/tensorflow/python/framework/ops.py\", line 2240, in create_op\n    original_op=self._default_original_op, op_def=op_def)\n  File \"/Users/Iris/anaconda/lib/python2.7/site-packages/tensorflow/python/framework/ops.py\", line 1128, in __init__\n    self._traceback = _extract_stack()\n\nInvalidArgumentError (see above for traceback): You must feed a value for placeholder tensor 'images' with dtype float\n\t [[Node: images = Placeholder[dtype=DT_FLOAT, shape=[], _device=\"/job:localhost/replica:0/task:0/cpu:0\"]()]]\n",
     "output_type": "error",
     "traceback": [
      "\u001b[0;31m---------------------------------------------------------------------------\u001b[0m",
      "\u001b[0;31mInvalidArgumentError\u001b[0m                      Traceback (most recent call last)",
      "\u001b[0;32m<ipython-input-20-9b6dfc3ad4ce>\u001b[0m in \u001b[0;36m<module>\u001b[0;34m()\u001b[0m\n\u001b[1;32m     12\u001b[0m     \u001b[0;31m# Fit training using batch data\u001b[0m\u001b[0;34m\u001b[0m\u001b[0;34m\u001b[0m\u001b[0m\n\u001b[1;32m     13\u001b[0m     \u001b[0mbatchData1\u001b[0m\u001b[0;34m,\u001b[0m \u001b[0mbatchLabels\u001b[0m \u001b[0;34m=\u001b[0m \u001b[0mnext_batch\u001b[0m\u001b[0;34m(\u001b[0m\u001b[0ms\u001b[0m\u001b[0;34m,\u001b[0m \u001b[0me\u001b[0m\u001b[0;34m,\u001b[0m \u001b[0mtest_data\u001b[0m\u001b[0;34m,\u001b[0m \u001b[0mtest_labels\u001b[0m\u001b[0;34m)\u001b[0m\u001b[0;34m\u001b[0m\u001b[0m\n\u001b[0;32m---> 14\u001b[0;31m     \u001b[0mtr_accuracy\u001b[0m \u001b[0;34m=\u001b[0m \u001b[0msess\u001b[0m\u001b[0;34m.\u001b[0m\u001b[0mrun\u001b[0m\u001b[0;34m(\u001b[0m\u001b[0maccuracy\u001b[0m\u001b[0;34m,\u001b[0m \u001b[0mfeed_dict\u001b[0m\u001b[0;34m=\u001b[0m\u001b[0;34m{\u001b[0m\u001b[0mimages\u001b[0m\u001b[0;34m:\u001b[0m\u001b[0mbatchData1\u001b[0m\u001b[0;34m,\u001b[0m \u001b[0mlabels\u001b[0m\u001b[0;34m:\u001b[0m\u001b[0mbatchLabels\u001b[0m\u001b[0;34m}\u001b[0m\u001b[0;34m)\u001b[0m\u001b[0;34m\u001b[0m\u001b[0m\n\u001b[0m\u001b[1;32m     15\u001b[0m     \u001b[0mavg_acc\u001b[0m \u001b[0;34m+=\u001b[0m \u001b[0mtr_accuracy\u001b[0m\u001b[0;34m\u001b[0m\u001b[0m\n\u001b[1;32m     16\u001b[0m \u001b[0;34m\u001b[0m\u001b[0m\n",
      "\u001b[0;32m/Users/Iris/anaconda/lib/python2.7/site-packages/tensorflow/python/client/session.pyc\u001b[0m in \u001b[0;36mrun\u001b[0;34m(self, fetches, feed_dict, options, run_metadata)\u001b[0m\n\u001b[1;32m    764\u001b[0m     \u001b[0;32mtry\u001b[0m\u001b[0;34m:\u001b[0m\u001b[0;34m\u001b[0m\u001b[0m\n\u001b[1;32m    765\u001b[0m       result = self._run(None, fetches, feed_dict, options_ptr,\n\u001b[0;32m--> 766\u001b[0;31m                          run_metadata_ptr)\n\u001b[0m\u001b[1;32m    767\u001b[0m       \u001b[0;32mif\u001b[0m \u001b[0mrun_metadata\u001b[0m\u001b[0;34m:\u001b[0m\u001b[0;34m\u001b[0m\u001b[0m\n\u001b[1;32m    768\u001b[0m         \u001b[0mproto_data\u001b[0m \u001b[0;34m=\u001b[0m \u001b[0mtf_session\u001b[0m\u001b[0;34m.\u001b[0m\u001b[0mTF_GetBuffer\u001b[0m\u001b[0;34m(\u001b[0m\u001b[0mrun_metadata_ptr\u001b[0m\u001b[0;34m)\u001b[0m\u001b[0;34m\u001b[0m\u001b[0m\n",
      "\u001b[0;32m/Users/Iris/anaconda/lib/python2.7/site-packages/tensorflow/python/client/session.pyc\u001b[0m in \u001b[0;36m_run\u001b[0;34m(self, handle, fetches, feed_dict, options, run_metadata)\u001b[0m\n\u001b[1;32m    962\u001b[0m     \u001b[0;32mif\u001b[0m \u001b[0mfinal_fetches\u001b[0m \u001b[0;32mor\u001b[0m \u001b[0mfinal_targets\u001b[0m\u001b[0;34m:\u001b[0m\u001b[0;34m\u001b[0m\u001b[0m\n\u001b[1;32m    963\u001b[0m       results = self._do_run(handle, final_targets, final_fetches,\n\u001b[0;32m--> 964\u001b[0;31m                              feed_dict_string, options, run_metadata)\n\u001b[0m\u001b[1;32m    965\u001b[0m     \u001b[0;32melse\u001b[0m\u001b[0;34m:\u001b[0m\u001b[0;34m\u001b[0m\u001b[0m\n\u001b[1;32m    966\u001b[0m       \u001b[0mresults\u001b[0m \u001b[0;34m=\u001b[0m \u001b[0;34m[\u001b[0m\u001b[0;34m]\u001b[0m\u001b[0;34m\u001b[0m\u001b[0m\n",
      "\u001b[0;32m/Users/Iris/anaconda/lib/python2.7/site-packages/tensorflow/python/client/session.pyc\u001b[0m in \u001b[0;36m_do_run\u001b[0;34m(self, handle, target_list, fetch_list, feed_dict, options, run_metadata)\u001b[0m\n\u001b[1;32m   1012\u001b[0m     \u001b[0;32mif\u001b[0m \u001b[0mhandle\u001b[0m \u001b[0;32mis\u001b[0m \u001b[0mNone\u001b[0m\u001b[0;34m:\u001b[0m\u001b[0;34m\u001b[0m\u001b[0m\n\u001b[1;32m   1013\u001b[0m       return self._do_call(_run_fn, self._session, feed_dict, fetch_list,\n\u001b[0;32m-> 1014\u001b[0;31m                            target_list, options, run_metadata)\n\u001b[0m\u001b[1;32m   1015\u001b[0m     \u001b[0;32melse\u001b[0m\u001b[0;34m:\u001b[0m\u001b[0;34m\u001b[0m\u001b[0m\n\u001b[1;32m   1016\u001b[0m       return self._do_call(_prun_fn, self._session, handle, feed_dict,\n",
      "\u001b[0;32m/Users/Iris/anaconda/lib/python2.7/site-packages/tensorflow/python/client/session.pyc\u001b[0m in \u001b[0;36m_do_call\u001b[0;34m(self, fn, *args)\u001b[0m\n\u001b[1;32m   1032\u001b[0m         \u001b[0;32mexcept\u001b[0m \u001b[0mKeyError\u001b[0m\u001b[0;34m:\u001b[0m\u001b[0;34m\u001b[0m\u001b[0m\n\u001b[1;32m   1033\u001b[0m           \u001b[0;32mpass\u001b[0m\u001b[0;34m\u001b[0m\u001b[0m\n\u001b[0;32m-> 1034\u001b[0;31m       \u001b[0;32mraise\u001b[0m \u001b[0mtype\u001b[0m\u001b[0;34m(\u001b[0m\u001b[0me\u001b[0m\u001b[0;34m)\u001b[0m\u001b[0;34m(\u001b[0m\u001b[0mnode_def\u001b[0m\u001b[0;34m,\u001b[0m \u001b[0mop\u001b[0m\u001b[0;34m,\u001b[0m \u001b[0mmessage\u001b[0m\u001b[0;34m)\u001b[0m\u001b[0;34m\u001b[0m\u001b[0m\n\u001b[0m\u001b[1;32m   1035\u001b[0m \u001b[0;34m\u001b[0m\u001b[0m\n\u001b[1;32m   1036\u001b[0m   \u001b[0;32mdef\u001b[0m \u001b[0m_extend_graph\u001b[0m\u001b[0;34m(\u001b[0m\u001b[0mself\u001b[0m\u001b[0;34m)\u001b[0m\u001b[0;34m:\u001b[0m\u001b[0;34m\u001b[0m\u001b[0m\n",
      "\u001b[0;31mInvalidArgumentError\u001b[0m: You must feed a value for placeholder tensor 'images' with dtype float\n\t [[Node: images = Placeholder[dtype=DT_FLOAT, shape=[], _device=\"/job:localhost/replica:0/task:0/cpu:0\"]()]]\n\nCaused by op u'images', defined at:\n  File \"/Users/Iris/anaconda/lib/python2.7/runpy.py\", line 174, in _run_module_as_main\n    \"__main__\", fname, loader, pkg_name)\n  File \"/Users/Iris/anaconda/lib/python2.7/runpy.py\", line 72, in _run_code\n    exec code in run_globals\n  File \"/Users/Iris/anaconda/lib/python2.7/site-packages/ipykernel/__main__.py\", line 3, in <module>\n    app.launch_new_instance()\n  File \"/Users/Iris/anaconda/lib/python2.7/site-packages/traitlets/config/application.py\", line 653, in launch_instance\n    app.start()\n  File \"/Users/Iris/anaconda/lib/python2.7/site-packages/ipykernel/kernelapp.py\", line 474, in start\n    ioloop.IOLoop.instance().start()\n  File \"/Users/Iris/anaconda/lib/python2.7/site-packages/zmq/eventloop/ioloop.py\", line 162, in start\n    super(ZMQIOLoop, self).start()\n  File \"/Users/Iris/anaconda/lib/python2.7/site-packages/tornado/ioloop.py\", line 887, in start\n    handler_func(fd_obj, events)\n  File \"/Users/Iris/anaconda/lib/python2.7/site-packages/tornado/stack_context.py\", line 275, in null_wrapper\n    return fn(*args, **kwargs)\n  File \"/Users/Iris/anaconda/lib/python2.7/site-packages/zmq/eventloop/zmqstream.py\", line 440, in _handle_events\n    self._handle_recv()\n  File \"/Users/Iris/anaconda/lib/python2.7/site-packages/zmq/eventloop/zmqstream.py\", line 472, in _handle_recv\n    self._run_callback(callback, msg)\n  File \"/Users/Iris/anaconda/lib/python2.7/site-packages/zmq/eventloop/zmqstream.py\", line 414, in _run_callback\n    callback(*args, **kwargs)\n  File \"/Users/Iris/anaconda/lib/python2.7/site-packages/tornado/stack_context.py\", line 275, in null_wrapper\n    return fn(*args, **kwargs)\n  File \"/Users/Iris/anaconda/lib/python2.7/site-packages/ipykernel/kernelbase.py\", line 276, in dispatcher\n    return self.dispatch_shell(stream, msg)\n  File \"/Users/Iris/anaconda/lib/python2.7/site-packages/ipykernel/kernelbase.py\", line 228, in dispatch_shell\n    handler(stream, idents, msg)\n  File \"/Users/Iris/anaconda/lib/python2.7/site-packages/ipykernel/kernelbase.py\", line 390, in execute_request\n    user_expressions, allow_stdin)\n  File \"/Users/Iris/anaconda/lib/python2.7/site-packages/ipykernel/ipkernel.py\", line 196, in do_execute\n    res = shell.run_cell(code, store_history=store_history, silent=silent)\n  File \"/Users/Iris/anaconda/lib/python2.7/site-packages/ipykernel/zmqshell.py\", line 501, in run_cell\n    return super(ZMQInteractiveShell, self).run_cell(*args, **kwargs)\n  File \"/Users/Iris/anaconda/lib/python2.7/site-packages/IPython/core/interactiveshell.py\", line 2717, in run_cell\n    interactivity=interactivity, compiler=compiler, result=result)\n  File \"/Users/Iris/anaconda/lib/python2.7/site-packages/IPython/core/interactiveshell.py\", line 2821, in run_ast_nodes\n    if self.run_code(code, result):\n  File \"/Users/Iris/anaconda/lib/python2.7/site-packages/IPython/core/interactiveshell.py\", line 2881, in run_code\n    exec(code_obj, self.user_global_ns, self.user_ns)\n  File \"<ipython-input-1-f16b493e368b>\", line 18, in <module>\n    images = tf.placeholder( tf.float32, shape=[None, 25, 25, 2], name=\"images\" )\n  File \"/Users/Iris/anaconda/lib/python2.7/site-packages/tensorflow/python/ops/array_ops.py\", line 1587, in placeholder\n    name=name)\n  File \"/Users/Iris/anaconda/lib/python2.7/site-packages/tensorflow/python/ops/gen_array_ops.py\", line 2043, in _placeholder\n    name=name)\n  File \"/Users/Iris/anaconda/lib/python2.7/site-packages/tensorflow/python/framework/op_def_library.py\", line 759, in apply_op\n    op_def=op_def)\n  File \"/Users/Iris/anaconda/lib/python2.7/site-packages/tensorflow/python/framework/ops.py\", line 2240, in create_op\n    original_op=self._default_original_op, op_def=op_def)\n  File \"/Users/Iris/anaconda/lib/python2.7/site-packages/tensorflow/python/framework/ops.py\", line 1128, in __init__\n    self._traceback = _extract_stack()\n\nInvalidArgumentError (see above for traceback): You must feed a value for placeholder tensor 'images' with dtype float\n\t [[Node: images = Placeholder[dtype=DT_FLOAT, shape=[], _device=\"/job:localhost/replica:0/task:0/cpu:0\"]()]]\n"
     ]
    }
   ],
   "source": [
    "print \"test_data\", test_data.shape, \"test_labels:\", test_labels.shape\n",
    "print \"-----------test model----------\"\n",
    "# Test model\n",
    "avg_acc = 0.\n",
    "total_batch = int((len(test_data))/batch_size)\n",
    "b = -1\n",
    "\n",
    "for j in range(total_batch):\n",
    "    b+=1\n",
    "    s  = b * batch_size\n",
    "    e = (b+1) *batch_size\n",
    "    # Fit training using batch data\n",
    "    batchData1, batchLabels = next_batch(s, e, test_data, test_labels)\n",
    "    tr_accuracy = sess.run(accuracy, feed_dict={images:batchData1, labels:batchLabels})\n",
    "    avg_acc += tr_accuracy  \n",
    "\n",
    "print \"Test Accuracy: %0.2f\" % (float(avg_acc)/total_batch)\n",
    "\n"
   ]
  },
  {
   "cell_type": "code",
   "execution_count": null,
   "metadata": {
    "collapsed": true
   },
   "outputs": [],
   "source": []
  }
 ],
 "metadata": {
  "anaconda-cloud": {},
  "kernelspec": {
   "display_name": "Python [conda root]",
   "language": "python",
   "name": "conda-root-py"
  },
  "language_info": {
   "codemirror_mode": {
    "name": "ipython",
    "version": 2
   },
   "file_extension": ".py",
   "mimetype": "text/x-python",
   "name": "python",
   "nbconvert_exporter": "python",
   "pygments_lexer": "ipython2",
   "version": "2.7.12"
  }
 },
 "nbformat": 4,
 "nbformat_minor": 1
}
