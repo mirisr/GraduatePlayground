{
 "cells": [
  {
   "cell_type": "markdown",
   "metadata": {
    "collapsed": true
   },
   "source": [
    "# Kalman Filter - Lab 7 \n",
    "#### Iris R Seaman"
   ]
  },
  {
   "cell_type": "code",
   "execution_count": 1,
   "metadata": {
    "collapsed": true
   },
   "outputs": [],
   "source": [
    "%matplotlib inline\n",
    "import skimage\n",
    "import scipy \n",
    "import numpy as np\n",
    "import pandas\n",
    "import matplotlib.pyplot as plt\n",
    "import matplotlib\n",
    "from tqdm import tqdm\n",
    "import scipy.misc\n",
    "import scipy.io\n",
    "DOT = np.dot\n",
    "T = np.transpose\n",
    "INV = np.linalg.pinv\n",
    "import seaborn\n",
    "import skimage.feature"
   ]
  },
  {
   "cell_type": "markdown",
   "metadata": {},
   "source": [
    "# Loading Data Part 1"
   ]
  },
  {
   "cell_type": "code",
   "execution_count": 2,
   "metadata": {
    "collapsed": false
   },
   "outputs": [],
   "source": [
    "data_mat = scipy.io.loadmat('kfdata.mat')\n",
    "#Observations (actual noisy data)\n",
    "data = data_mat['data']\n",
    "true_data = data_mat['true_data']\n",
    "# data shape is (56, 2)"
   ]
  },
  {
   "cell_type": "code",
   "execution_count": 3,
   "metadata": {
    "collapsed": true
   },
   "outputs": [],
   "source": [
    "#Function to get covariances\n",
    "def cov_to_pts( cov ):\n",
    "    circ = np.linspace( 0, 2*np.pi, 100 )\n",
    "    sf = np.asarray( [ np.cos( circ ), np.sin( circ ) ] )\n",
    "    [u,s,v] = np.linalg.svd( cov )\n",
    "    pmat = u*2.447*np.sqrt(s) # 95% confidence\n",
    "    return np.dot(  pmat, sf )"
   ]
  },
  {
   "cell_type": "markdown",
   "metadata": {},
   "source": [
    "# Initialize Parameters for Part 1"
   ]
  },
  {
   "cell_type": "code",
   "execution_count": 7,
   "metadata": {
    "collapsed": false
   },
   "outputs": [],
   "source": [
    "# our dynamics are described by random accelerations\n",
    "A = np.asarray([\n",
    "    [ 1, 0, 1, 0, 0.5, 0 ],\n",
    "    [ 0, 1, 0, 1, 0, 0.5 ],\n",
    "    [ 0, 0, 1, 0, 1, 0 ],\n",
    "    [ 0, 0, 0, 1, 0, 1 ],\n",
    "    [ 0, 0, 0, 0, 1, 0 ],\n",
    "    [ 0, 0, 0, 0, 0, 1 ] ])\n",
    " \n",
    "# our observations are only the position components\n",
    "C = np.asarray([\n",
    "    [1, 0, 0, 0, 0, 0],\n",
    "    [0, 1, 0, 0, 0, 0]])\n",
    " \n",
    "# our dynamics noise tries to force random accelerations to account\n",
    "# for most of the dynamics uncertainty\n",
    "Q = 1e-2 * np.eye( 6 )\n",
    "Q[4,4] = 0.5  # variance of accelerations is higher\n",
    "Q[5,5] = 0.5\n",
    " \n",
    "# our observation noise\n",
    "R = 20 * np.eye( 2 )\n",
    " \n",
    "# initial state\n",
    "mu_t = np.zeros(( 6, 1 ))\n",
    "sigma_t = np.eye( 6 )\n",
    "\n",
    "# idenity matrix\n",
    "I = np.eye( 6 )"
   ]
  },
  {
   "cell_type": "markdown",
   "metadata": {},
   "source": [
    "# Kalman Filter Function"
   ]
  },
  {
   "cell_type": "code",
   "execution_count": 5,
   "metadata": {
    "collapsed": false
   },
   "outputs": [],
   "source": [
    "def kalman_filter(mu_t, sigma_t, y_t):\n",
    "    mu_t_1 = mu_t\n",
    "    sigma_t_1 = sigma_t\n",
    "\n",
    "    # predicted mu at t\n",
    "    mu_t_p = DOT(A, mu_t_1)\n",
    "    # predicted sigma at t\n",
    "    sigma_t_p = DOT(A, DOT(sigma_t_1, T(A))) + Q\n",
    "    \n",
    "    # kalman gain\n",
    "    K_gain_S_t = DOT(C, DOT(sigma_t_p, T(C))) + R\n",
    "    \n",
    "    K_gain = DOT(sigma_t_p, DOT(T(C), INV(K_gain_S_t)))\n",
    "    \n",
    "    # update mu\n",
    "    mu_t = mu_t_p + DOT(K_gain, (y_t - DOT(C, mu_t_p)))\n",
    "    # updated sigma\n",
    "    sigma_t = DOT((I - DOT(K_gain, C)), sigma_t_p)\n",
    "    \n",
    "    y_hat = DOT(C, mu_t_p)\n",
    "    \n",
    "    return mu_t, sigma_t\n",
    "\n"
   ]
  },
  {
   "cell_type": "code",
   "execution_count": 8,
   "metadata": {
    "collapsed": false
   },
   "outputs": [
    {
     "name": "stdout",
     "output_type": "stream",
     "text": [
      "[[  0.30476467]\n",
      " [ 19.66422322]]\n",
      "sigma_t_p: [[ 2.26  0.    1.5   0.    0.5   0.  ]\n",
      " [ 0.    2.26  0.    1.5   0.    0.5 ]\n",
      " [ 1.5   0.    2.01  0.    1.    0.  ]\n",
      " [ 0.    1.5   0.    2.01  0.    1.  ]\n",
      " [ 0.5   0.    1.    0.    1.5   0.  ]\n",
      " [ 0.    0.5   0.    1.    0.    1.5 ]]\n",
      "K_gain_S_t: [[ 22.26   0.  ]\n",
      " [  0.    22.26]]\n",
      "K_gain: [[ 0.1015274   0.        ]\n",
      " [ 0.          0.1015274 ]\n",
      " [ 0.06738544  0.        ]\n",
      " [ 0.          0.06738544]\n",
      " [ 0.02246181  0.        ]\n",
      " [ 0.          0.02246181]]\n",
      "mu: [[ 0.03094197]\n",
      " [ 1.99645752]\n",
      " [ 0.0205367 ]\n",
      " [ 1.32508243]\n",
      " [ 0.00684557]\n",
      " [ 0.44169414]]\n",
      "sigma: [[ 2.03054807  0.          1.34770889  0.          0.4492363   0.        ]\n",
      " [ 0.          2.03054807  0.          1.34770889  0.          0.4492363 ]\n",
      " [ 1.34770889  0.          1.90892183  0.          0.96630728  0.        ]\n",
      " [ 0.          1.34770889  0.          1.90892183  0.          0.96630728]\n",
      " [ 0.4492363   0.          0.96630728  0.          1.48876909  0.        ]\n",
      " [ 0.          0.4492363   0.          0.96630728  0.          1.48876909]]\n",
      "y_hat: [[ 0.]\n",
      " [ 0.]]\n",
      "diff: [[  0.30476467]\n",
      " [ 19.66422322]]\n"
     ]
    },
    {
     "ename": "KeyboardInterrupt",
     "evalue": "",
     "output_type": "error",
     "traceback": [
      "\u001b[0;31m---------------------------------------------------------------------------\u001b[0m",
      "\u001b[0;31mKeyboardInterrupt\u001b[0m                         Traceback (most recent call last)",
      "\u001b[0;32m<ipython-input-8-91fbb22f4536>\u001b[0m in \u001b[0;36m<module>\u001b[0;34m()\u001b[0m\n\u001b[1;32m      8\u001b[0m     \u001b[0my\u001b[0m\u001b[0;34m.\u001b[0m\u001b[0mappend\u001b[0m\u001b[0;34m(\u001b[0m\u001b[0mmu_t\u001b[0m\u001b[0;34m[\u001b[0m\u001b[0;36m1\u001b[0m\u001b[0;34m,\u001b[0m\u001b[0;36m0\u001b[0m\u001b[0;34m]\u001b[0m\u001b[0;34m)\u001b[0m\u001b[0;34m\u001b[0m\u001b[0m\n\u001b[1;32m      9\u001b[0m     \u001b[0mcovarance\u001b[0m\u001b[0;34m.\u001b[0m\u001b[0mappend\u001b[0m\u001b[0;34m(\u001b[0m\u001b[0msigma_t\u001b[0m\u001b[0;34m[\u001b[0m\u001b[0;34m:\u001b[0m\u001b[0;36m2\u001b[0m\u001b[0;34m,\u001b[0m\u001b[0;34m:\u001b[0m\u001b[0;36m2\u001b[0m\u001b[0;34m]\u001b[0m\u001b[0;34m)\u001b[0m\u001b[0;34m\u001b[0m\u001b[0m\n\u001b[0;32m---> 10\u001b[0;31m     \u001b[0mraw_input\u001b[0m\u001b[0;34m(\u001b[0m\u001b[0;34m)\u001b[0m\u001b[0;34m\u001b[0m\u001b[0m\n\u001b[0m",
      "\u001b[0;32m/Users/Iris/anaconda/lib/python2.7/site-packages/ipykernel/kernelbase.pyc\u001b[0m in \u001b[0;36mraw_input\u001b[0;34m(self, prompt)\u001b[0m\n\u001b[1;32m    688\u001b[0m             \u001b[0mself\u001b[0m\u001b[0;34m.\u001b[0m\u001b[0m_parent_ident\u001b[0m\u001b[0;34m,\u001b[0m\u001b[0;34m\u001b[0m\u001b[0m\n\u001b[1;32m    689\u001b[0m             \u001b[0mself\u001b[0m\u001b[0;34m.\u001b[0m\u001b[0m_parent_header\u001b[0m\u001b[0;34m,\u001b[0m\u001b[0;34m\u001b[0m\u001b[0m\n\u001b[0;32m--> 690\u001b[0;31m             \u001b[0mpassword\u001b[0m\u001b[0;34m=\u001b[0m\u001b[0mFalse\u001b[0m\u001b[0;34m,\u001b[0m\u001b[0;34m\u001b[0m\u001b[0m\n\u001b[0m\u001b[1;32m    691\u001b[0m         )\n\u001b[1;32m    692\u001b[0m \u001b[0;34m\u001b[0m\u001b[0m\n",
      "\u001b[0;32m/Users/Iris/anaconda/lib/python2.7/site-packages/ipykernel/kernelbase.pyc\u001b[0m in \u001b[0;36m_input_request\u001b[0;34m(self, prompt, ident, parent, password)\u001b[0m\n\u001b[1;32m    718\u001b[0m             \u001b[0;32mexcept\u001b[0m \u001b[0mKeyboardInterrupt\u001b[0m\u001b[0;34m:\u001b[0m\u001b[0;34m\u001b[0m\u001b[0m\n\u001b[1;32m    719\u001b[0m                 \u001b[0;31m# re-raise KeyboardInterrupt, to truncate traceback\u001b[0m\u001b[0;34m\u001b[0m\u001b[0;34m\u001b[0m\u001b[0m\n\u001b[0;32m--> 720\u001b[0;31m                 \u001b[0;32mraise\u001b[0m \u001b[0mKeyboardInterrupt\u001b[0m\u001b[0;34m\u001b[0m\u001b[0m\n\u001b[0m\u001b[1;32m    721\u001b[0m             \u001b[0;32melse\u001b[0m\u001b[0;34m:\u001b[0m\u001b[0;34m\u001b[0m\u001b[0m\n\u001b[1;32m    722\u001b[0m                 \u001b[0;32mbreak\u001b[0m\u001b[0;34m\u001b[0m\u001b[0m\n",
      "\u001b[0;31mKeyboardInterrupt\u001b[0m: "
     ]
    }
   ],
   "source": [
    "x = []\n",
    "y = []\n",
    "covarance = []\n",
    "for y_t in data:\n",
    "    mu_t, sigma_t = kalman_filter(mu_t, sigma_t, (y_t).reshape(2,1))\n",
    "    x.append(mu_t[0,0])\n",
    "    y.append(mu_t[1,0])\n",
    "    covarance.append(sigma_t[:2,:2])"
   ]
  },
  {
   "cell_type": "markdown",
   "metadata": {},
   "source": [
    "# P1: KALMAN FILTER IN ACTION (updating each iteration)"
   ]
  },
  {
   "cell_type": "code",
   "execution_count": null,
   "metadata": {
    "collapsed": false
   },
   "outputs": [],
   "source": [
    "# RUNNING KALMAN FILTER\n",
    "x = []\n",
    "y = []\n",
    "covarance = []\n",
    "for y_t in data:\n",
    "    mu_t, sigma_t = kalman_filter(mu_t, sigma_t, (y_t).reshape(2,1))\n",
    "    x.append(mu_t[0,0])\n",
    "    y.append(mu_t[1,0])\n",
    "    covarance.append(sigma_t[:2,:2])\n",
    "\n",
    "#PLOTING RESULTS\n",
    "plt.plot(T(true_data)[0], T(true_data)[1])\n",
    "plt.plot(x, y)\n",
    "plt.scatter(T(data)[0], T(data)[1])\n",
    "\n",
    "for i in xrange(len(covarance)):\n",
    "    x_, y_ = cov_to_pts(covarance[i])\n",
    "    plt.plot(x_ + x[i], y_ + y[i])"
   ]
  },
  {
   "cell_type": "markdown",
   "metadata": {
    "collapsed": false
   },
   "source": [
    "# Loading Data for Part 2"
   ]
  },
  {
   "cell_type": "code",
   "execution_count": null,
   "metadata": {
    "collapsed": true
   },
   "outputs": [],
   "source": [
    "tmp = scipy.io.loadmat('ball_data.mat')\n",
    "frames = tmp['frames']  # frames of our video\n",
    "ball = tmp['ball']  # our little template\n",
    " \n",
    "data = []\n",
    "for i in range( 0, frames.shape[1] ):\n",
    "    tmp = np.reshape( frames[:,i], (360,243) ).T  # slurp out a frame\n",
    "    ncc = skimage.feature.match_template( tmp, ball )  # create a normalized cross correlation image\n",
    "    maxloc = np.unravel_index( tmp.argmax(), tmp.shape )  # find the point of highest correlation\n",
    "    data.append( maxloc )  # record the results\n",
    "    \n",
    "data = np.asarray( data )"
   ]
  },
  {
   "cell_type": "markdown",
   "metadata": {},
   "source": [
    "# Initializing Parameters Part 2"
   ]
  },
  {
   "cell_type": "code",
   "execution_count": null,
   "metadata": {
    "collapsed": false
   },
   "outputs": [],
   "source": [
    "# our dynamics are described by random accelerations\n",
    "A = np.asarray([\n",
    "    [ 1, 0, 0, 0.5, 0, 0 ],\n",
    "    [ 0, 1, 0, 0, 0.5, 0 ],\n",
    "    [ 0, 0, 1, 0, 0, 0.5 ],\n",
    "    [ 0, 0, 0, 1, 0, 0 ],\n",
    "    [ 0, 0, 0, 0, 1, 0 ],\n",
    "    [ 0, 0, 0, 0, 0, 1 ] ])\n",
    " \n",
    "# our observations are only the position components\n",
    "C = np.asarray([\n",
    "    [1, 0, 0, 0, 0, 0],\n",
    "    [0, 1, 0, 0, 0, 0]])\n",
    " \n",
    "# our dynamics noise tries to force random accelerations to account\n",
    "# for most of the dynamics uncertainty\n",
    "Q = 5e-2 * np.eye( 6 )\n",
    "\n",
    "# our observation noise\n",
    "R = 150 * np.eye( 2 )\n",
    " \n",
    "# initial state\n",
    "mu_t = np.zeros(( 6, 1 ))\n",
    "sigma_t = np.eye( 6 )\n",
    "\n",
    "mu_t[0,0] = 200\n",
    "mu_t[1,0] = 300\n",
    "mu_t[2,0] = .005\n",
    "mu_t[3,0] = .005\n",
    "mu_t[4,0] = .005\n",
    "mu_t[5,0] = .005\n",
    "\n"
   ]
  },
  {
   "cell_type": "markdown",
   "metadata": {},
   "source": [
    "# REASONS FOR CHOSEN PARAMETERS (P2)\n",
    "\n",
    "* I picked up Q for the same reason. But just a little bit. \n",
    "\n",
    "* I decided to start my initializations at a good approximation to help.  Therefore, I updated my approximate positions in mu_t and gave non-zeros to velocity and accelation\n",
    "\n",
    "* As for Maxrix A, it made more sense to me to have the change of time between frames be represented in there. So I moved the 0.5 to a different diagonal, and elimated the extra diagonal of 1s"
   ]
  },
  {
   "cell_type": "markdown",
   "metadata": {},
   "source": [
    "# P2: KALMAN FILTER IN ACTION (updating ea. iteration)"
   ]
  },
  {
   "cell_type": "code",
   "execution_count": null,
   "metadata": {
    "collapsed": false
   },
   "outputs": [],
   "source": [
    "x = []\n",
    "y = []\n",
    "covarance = []\n",
    "\n",
    "for y_t in data:\n",
    "    mu_t, sigma_t = kalman_filter(mu_t, sigma_t, (y_t).reshape(2,1))\n",
    "    x.append(mu_t[0,0])\n",
    "    y.append(mu_t[1,0])\n",
    "    covarance.append(sigma_t[:2,:2])\n",
    "    \n",
    "plt.figure(1)\n",
    "plt.xlim([1, 360])\n",
    "plt.ylim([243,1])\n",
    "plt.plot(y, x)\n",
    "#plt.plot( data[:,1], data[:,0] )\n",
    "plt.show()"
   ]
  },
  {
   "cell_type": "markdown",
   "metadata": {
    "collapsed": false
   },
   "source": [
    "# Show visualizations for frames 54, 56, 78, 106, and 107"
   ]
  },
  {
   "cell_type": "code",
   "execution_count": null,
   "metadata": {
    "collapsed": false
   },
   "outputs": [],
   "source": [
    "def plot_frame(t=54):\n",
    "    tmp = np.reshape( frames[:,t], (360,243) ).T\n",
    "\n",
    "    plt.figure(1)\n",
    "    plt.imshow( tmp, interpolation='nearest', cmap=matplotlib.cm.gray )\n",
    "    plt.scatter( data[t][1], data[t][0], c=\"r\", label =\"True Data\")\n",
    "    plt.scatter( y[t], x[t] )\n",
    "\n",
    "    foo = cov_to_pts( covarance[t])\n",
    "\n",
    "    plt.plot( foo[0,:] + y[t], foo[1,:] +  x[t] )\n",
    "    plt.xlim([1, 360])\n",
    "    plt.ylim([243,1])"
   ]
  },
  {
   "cell_type": "markdown",
   "metadata": {},
   "source": [
    "## Legend:\n",
    "*Red dot - observed data.\n",
    "*Blue dot - my estimation."
   ]
  },
  {
   "cell_type": "code",
   "execution_count": null,
   "metadata": {
    "collapsed": false
   },
   "outputs": [],
   "source": [
    "plot_frame(54)"
   ]
  },
  {
   "cell_type": "code",
   "execution_count": null,
   "metadata": {
    "collapsed": false
   },
   "outputs": [],
   "source": [
    "plot_frame(56)"
   ]
  },
  {
   "cell_type": "code",
   "execution_count": null,
   "metadata": {
    "collapsed": false
   },
   "outputs": [],
   "source": [
    "plot_frame(78)"
   ]
  },
  {
   "cell_type": "code",
   "execution_count": null,
   "metadata": {
    "collapsed": false
   },
   "outputs": [],
   "source": [
    "plot_frame(106)"
   ]
  },
  {
   "cell_type": "code",
   "execution_count": null,
   "metadata": {
    "collapsed": false
   },
   "outputs": [],
   "source": [
    "plot_frame(107)"
   ]
  }
 ],
 "metadata": {
  "anaconda-cloud": {},
  "kernelspec": {
   "display_name": "Python [default]",
   "language": "python",
   "name": "python2"
  },
  "language_info": {
   "codemirror_mode": {
    "name": "ipython",
    "version": 2
   },
   "file_extension": ".py",
   "mimetype": "text/x-python",
   "name": "python",
   "nbconvert_exporter": "python",
   "pygments_lexer": "ipython2",
   "version": "2.7.12"
  }
 },
 "nbformat": 4,
 "nbformat_minor": 1
}
